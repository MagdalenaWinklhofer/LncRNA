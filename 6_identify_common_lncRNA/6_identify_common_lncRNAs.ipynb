{
 "cells": [
  {
   "cell_type": "code",
   "execution_count": 1,
   "metadata": {},
   "outputs": [],
   "source": [
    "#all needed packages \n",
    "import pandas as pd\n",
    "import matplotlib as mpl\n",
    "import matplotlib.pyplot as plt\n",
    "from matplotlib_venn import venn3, venn3_circles, venn3_unweighted\n",
    "from itertools import product\n",
    "import numpy as np\n",
    "import seaborn as sns\n",
    "sns.set_theme(palette='colorblind')\n",
    "import re\n"
   ]
  },
  {
   "attachments": {},
   "cell_type": "markdown",
   "metadata": {},
   "source": [
    "# Import prepared output files: Feelnc, CNCI, CPAT"
   ]
  },
  {
   "cell_type": "code",
   "execution_count": 2,
   "metadata": {},
   "outputs": [],
   "source": [
    "# Import Feelnc data\n",
    "df_feelnc = pd.read_csv('/home/maggy/LncRNA/6_identify_common_lncRNA/6_1_feelnc_output/feelnc_lncRNA.csv', sep=',') # name\n",
    "\n",
    "# Import CNCI data\n",
    "df_cnci = pd.read_csv('/home/maggy/LncRNA/6_identify_common_lncRNA/6_2_cnci_output/cnci_lncRNA.csv', sep='\\t') # gene_id\n",
    "\n",
    "# Import CPAT data\n",
    "df_cpat = pd.read_csv('/home/maggy/LncRNA/6_identify_common_lncRNA/6_3_cpat_output/cpat_lncRNA.csv', sep='\\t') # gene_id\n",
    "\n",
    "# Import CPC2 data \n",
    "df_cpc2 = pd.read_csv('/home/maggy/LncRNA/6_identify_common_lncRNA/6_4_cpc2_output/cpc2_lncRNA.csv', sep='\\t') # ID"
   ]
  },
  {
   "cell_type": "code",
   "execution_count": 3,
   "metadata": {},
   "outputs": [
    {
     "name": "stdout",
     "output_type": "stream",
     "text": [
      "Feelnc does not contain duplicates in the name column\n",
      "cnci does not contain duplicates in the name column\n",
      "cpat does not contain duplicates in the name column\n",
      "cpc2 does not contain duplicates in the name column\n"
     ]
    }
   ],
   "source": [
    "# CHECK IF DF CONTAIN DUPLICATES\n",
    "# FEELNC\n",
    "if df_feelnc['name'].duplicated().any():\n",
    "    print(\"Feelnc contains duplicates in the name column\")\n",
    "else:\n",
    "    print(\"Feelnc does not contain duplicates in the name column\")\n",
    "# CNCI\n",
    "if df_cnci['Transcript ID'].duplicated().any():\n",
    "    print(\"cnci contains duplicates in the name column\")\n",
    "else:\n",
    "    print(\"cnci does not contain duplicates in the name column\")\n",
    "# CPAT\n",
    "if df_cpat['transcript_id'].duplicated().any():\n",
    "    print(\"cpat contains duplicates in the name column\")\n",
    "else:\n",
    "    print(\"cpat does not contain duplicates in the name column\")\n",
    "# CPC2\n",
    "if df_cpc2['#ID'].duplicated().any():\n",
    "    print(\"cpc2 contains duplicates in the name column\")\n",
    "else:\n",
    "    print(\"cpc2 does not contain duplicates in the name column\")"
   ]
  },
  {
   "cell_type": "code",
   "execution_count": 4,
   "metadata": {},
   "outputs": [],
   "source": [
    "# REMOVE DUPLICATES \n",
    "# FEELNC\n",
    "# does not contain any duplicates \n",
    "# CNCI\n",
    "#df_cnci = df_cnci.drop_duplicates(subset='transcript_id', keep='first')\n",
    "# CPAT\n",
    "# does not contain any duplicates \n",
    "# CPC2s\n",
    "# does not contain any duplicates "
   ]
  },
  {
   "attachments": {},
   "cell_type": "markdown",
   "metadata": {},
   "source": [
    "# Dataset analysis of extracted data "
   ]
  },
  {
   "cell_type": "code",
   "execution_count": 5,
   "metadata": {},
   "outputs": [
    {
     "name": "stdout",
     "output_type": "stream",
     "text": [
      "Number of common genes:  33882\n",
      "Number of genes in common between feelnc and cnci:  46222\n",
      "Number of genes in common between feelnc and cpat:  36965\n",
      "Number of genes in common between feelnc and cpc:  44351\n",
      "Number of genes in common between cnci and cpat:  39155\n",
      "Number of genes in common between cnci and cpc:  47212\n",
      "Number of genes in common between cpat and cpc:  41893\n",
      "Number of genes in common between feelnc, cnci and cpat:  34602\n",
      "Number of genes in common between feelnc, cnci and cpc:  40991\n",
      "Number of genes in common between feelnc, cpat and cpc:  36036\n",
      "Number of genes in common between cnci, cpat and cpc:  38180\n"
     ]
    }
   ],
   "source": [
    "# calculating overlap\n",
    "feelnc = set(df_feelnc['name'])\n",
    "cnci = set(df_cnci['Transcript ID'])\n",
    "cpat = set(df_cpat['transcript_id'])\n",
    "cpc = set(df_cpc2['#ID'])\n",
    "\n",
    "# COMMON (all) \n",
    "common_genes = feelnc.intersection(cnci, cpat, cpc)\n",
    "print(\"Number of common genes: \", len(common_genes))\n",
    "\n",
    "# TWO in common\n",
    "feelnc_cnci_genes = feelnc.intersection(cnci)\n",
    "print(\"Number of genes in common between feelnc and cnci: \", len(feelnc_cnci_genes))\n",
    "feelnc_cpat_genes = feelnc.intersection(cpat)\n",
    "print(\"Number of genes in common between feelnc and cpat: \", len(feelnc_cpat_genes))\n",
    "feelnc_cpc_genes = feelnc.intersection(cpc)\n",
    "print(\"Number of genes in common between feelnc and cpc: \", len(feelnc_cpc_genes))\n",
    "cnci_cpat_genes = cnci.intersection(cpat)\n",
    "print(\"Number of genes in common between cnci and cpat: \", len(cnci_cpat_genes))\n",
    "cnci_cpc_genes = cnci.intersection(cpc)\n",
    "print(\"Number of genes in common between cnci and cpc: \", len(cnci_cpc_genes))\n",
    "cpat_cpc_genes = cpat.intersection(cpc)\n",
    "print(\"Number of genes in common between cpat and cpc: \", len(cpat_cpc_genes))\n",
    "\n",
    "\n",
    "# THREE in common\n",
    "feelnc_cnci_cpat_genes = feelnc.intersection(cnci, cpat)\n",
    "print(\"Number of genes in common between feelnc, cnci and cpat: \", len(feelnc_cnci_cpat_genes))\n",
    "feelnc_cnci_cpc_genes = feelnc.intersection(cnci, cpc)\n",
    "print(\"Number of genes in common between feelnc, cnci and cpc: \", len(feelnc_cnci_cpc_genes))\n",
    "feelnc_cpat_cpc_genes = feelnc.intersection(cpat, cpc)\n",
    "print(\"Number of genes in common between feelnc, cpat and cpc: \", len(feelnc_cpat_cpc_genes))\n",
    "cnci_cpat_cpc_genes = cnci.intersection(cpat, cpc)\n",
    "print(\"Number of genes in common between cnci, cpat and cpc: \", len(cnci_cpat_cpc_genes))\n"
   ]
  },
  {
   "cell_type": "markdown",
   "metadata": {},
   "source": [
    "# Venn diagram"
   ]
  },
  {
   "cell_type": "code",
   "execution_count": 6,
   "metadata": {},
   "outputs": [
    {
     "data": {
      "image/png": "[encoded data removed]",
      "text/plain": [
       "<Figure size 275.591x275.591 with 1 Axes>"
      ]
     },
     "metadata": {},
     "output_type": "display_data"
    }
   ],
   "source": [
    "from venn import venn\n",
    "import seaborn as sns\n",
    "import matplotlib.pyplot as plt\n",
    "\n",
    "# Set the seaborn theme\n",
    "sns.set_theme(palette='Set2', style='whitegrid', context='paper', \n",
    "              rc={'axes.labelsize': 8, 'xtick.labelsize': 8, \n",
    "                  'ytick.labelsize': 8, 'legend.fontsize': 8, \n",
    "                  'legend.title_fontsize': 8})\n",
    "\n",
    "# Get the first 4 colors from the 'Set2' palette and reorder them\n",
    "set2 = sns.color_palette(\"Set2\", n_colors=4)\n",
    "custom_order = [3,2,1,0]  # Green, Pink, Blue, Orange\n",
    "\n",
    "# Get corresponding colors in the custom order\n",
    "reordered_colors = [set2[i] for i in custom_order]\n",
    "\n",
    "# Set names\n",
    "set_labels = ['FEELnc', 'CNCI', 'CPAT', 'CPC2']\n",
    "\n",
    "# Create the figure and axis\n",
    "fig, ax = plt.subplots(figsize=((7/2.54), (7/2.54)))\n",
    "\n",
    "# Create the Venn diagram\n",
    "g = venn({\n",
    "    \"Feelnc\": set(df_feelnc['name']),\n",
    "    \"CNCI\": set(df_cnci['Transcript ID']),\n",
    "    \"CPAT\": set(df_cpat['transcript_id']),\n",
    "    \"CPC2\": set(df_cpc2['#ID'])\n",
    "}, cmap='tab10', fontsize=8, ax=ax)\n",
    "\n",
    "# Manually set the colors of the sets and ensure they are semi-transparent\n",
    "line_width = 0.3  # Define the desired linewidth\n",
    "for i, patch in enumerate(g.patches):\n",
    "    if patch:  # Check if the patch exists\n",
    "        color = reordered_colors[i % len(reordered_colors)]\n",
    "        patch.set_facecolor((*color, 0.6))  # 0.7 sets the transparency level\n",
    "        patch.set_edgecolor('black')  # Set edge color to black\n",
    "        patch.set_linewidth(line_width)  # Set the desired linewidth\n",
    "\n",
    "# Create custom legend with matching colors\n",
    "legend_handles = [plt.Line2D([0], [0], marker='o', color='w', label=set_labels[i], \n",
    "                             markersize=8, markerfacecolor=(*reordered_colors[i], 0.7)) \n",
    "                  for i in range(len(reordered_colors))]\n",
    "\n",
    "# Place legend below the Venn diagram\n",
    "ax.legend(handles=legend_handles, loc='upper center', bbox_to_anchor=(0.5, 0.1), ncol=2)\n",
    "\n",
    "# Adjust layout and save the figure\n",
    "plt.tight_layout()\n",
    "plt.savefig('venn_diagram_lncrna.png', dpi=500)\n",
    "plt.savefig('venn_diagram_lncrna.svg')\n",
    "plt.show()\n"
   ]
  },
  {
   "cell_type": "markdown",
   "metadata": {},
   "source": [
    "# Export of data for differential expression analysis "
   ]
  },
  {
   "cell_type": "code",
   "execution_count": 7,
   "metadata": {},
   "outputs": [],
   "source": [
    "\n",
    "# export common transcripts as tsv file\n",
    "common_genes = pd.DataFrame(common_genes)\n",
    "common_genes.rename(columns={0: 'transcript_id'}, inplace=True)\n",
    "common_genes.to_csv('common_lncrna_transcript_id.csv', index=False)\n"
   ]
  },
  {
   "cell_type": "code",
   "execution_count": null,
   "metadata": {},
   "outputs": [],
   "source": [
    "# to filter the fasta file for the common lncRNAs for nucleotide blast search\n",
    "common_genes['transcript_id'].str.upper().to_csv('common_lncrna_transcript_id_upper.csv', index=False)"
   ]
  },
  {
   "cell_type": "markdown",
   "metadata": {},
   "source": [
    "## extract gene ids for deg analysis"
   ]
  },
  {
   "cell_type": "code",
   "execution_count": 42,
   "metadata": {},
   "outputs": [
    {
     "name": "stderr",
     "output_type": "stream",
     "text": [
      "/tmp/ipykernel_2009/1866039972.py:47: SettingWithCopyWarning: \n",
      "A value is trying to be set on a copy of a slice from a DataFrame\n",
      "\n",
      "See the caveats in the documentation: https://pandas.pydata.org/pandas-docs/stable/user_guide/indexing.html#returning-a-view-versus-a-copy\n",
      "  subset.drop_duplicates(subset='gene_id', keep='first', inplace=True)\n"
     ]
    }
   ],
   "source": [
    "# import ccar_annotation.gtf as pd df \n",
    "import pandas as pd \n",
    "\n",
    "annotation = pd.read_csv('cc_transcriptome_all.gtf', sep='\\t', comment='#', header=None)\n",
    "\n",
    "# renaming the header of the annotation file\n",
    "annotation = annotation.rename({0: 'seqname',\n",
    "                                1: 'source',\n",
    "                                2: 'feature',\n",
    "                                3: 'start',\n",
    "                                4: 'stop',\n",
    "                                5: 'score',\n",
    "                                6: 'strand',\n",
    "                                7: 'frame',\n",
    "                                8: 'attribute'}, axis=1)\n",
    "\n",
    "    \n",
    "# define a function to extract the geneid\n",
    "def extract_gene_id(attributes):\n",
    "    # Using a regular expression to match and extract the desired part\n",
    "    match = re.search(r'gene_id \"([^\"]+)\"', attributes)\n",
    "    if match:\n",
    "        return match.group(1)\n",
    "    else:\n",
    "        return 0 # Return 0 if there is no match\n",
    "    \n",
    "# define a function to extract the geneid\n",
    "def extract_transcript_id(attributes):\n",
    "    # Using a regular expression to match and extract the desired part\n",
    "    match = re.search(r'transcript_id \"([^\"]+)\"', attributes)\n",
    "    if match:\n",
    "        return match.group(1)\n",
    "    else:\n",
    "        return 0 # Return 0 if there is no match\n",
    "    \n",
    "# filtering the column feature for transcritps\n",
    "annotation = annotation[annotation['feature'] == 'transcript']\n",
    "\n",
    "# Apply the function to the \"attributes\" column and create a new column with the extracted gene ids\n",
    "annotation['gene_id'] = annotation['attribute'].apply(extract_gene_id)\n",
    "annotation['transcript_id'] = annotation['attribute'].apply(extract_transcript_id)\n",
    "# convert to liwer case letters \n",
    "annotation['transcript_id'] = annotation['transcript_id'].str.lower()\n",
    "# extract the lines that contain the common lncrnas\n",
    "subset = annotation.loc[annotation['transcript_id'].isin(common_genes['transcript_id'])]\n",
    "#drop duplicates\n",
    "subset.drop_duplicates(subset='gene_id', keep='first', inplace=True)\n",
    "# export gene ids\n",
    "subset['gene_id'].str.lower().to_csv('common_lncrna_gene_id.csv', index=False)"
   ]
  },
  {
   "cell_type": "code",
   "execution_count": 43,
   "metadata": {},
   "outputs": [
    {
     "name": "stderr",
     "output_type": "stream",
     "text": [
      "/tmp/ipykernel_2009/862798786.py:1: SettingWithCopyWarning: \n",
      "A value is trying to be set on a copy of a slice from a DataFrame\n",
      "\n",
      "See the caveats in the documentation: https://pandas.pydata.org/pandas-docs/stable/user_guide/indexing.html#returning-a-view-versus-a-copy\n",
      "  subset.drop_duplicates(subset='gene_id', keep='first', inplace=True)\n"
     ]
    }
   ],
   "source": [
    "subset.drop_duplicates(subset='gene_id', keep='first', inplace=True)"
   ]
  },
  {
   "cell_type": "code",
   "execution_count": 44,
   "metadata": {},
   "outputs": [
    {
     "data": {
      "text/html": [
       "<div>\n",
       "<style scoped>\n",
       "    .dataframe tbody tr th:only-of-type {\n",
       "        vertical-align: middle;\n",
       "    }\n",
       "\n",
       "    .dataframe tbody tr th {\n",
       "        vertical-align: top;\n",
       "    }\n",
       "\n",
       "    .dataframe thead th {\n",
       "        text-align: right;\n",
       "    }\n",
       "</style>\n",
       "<table border=\"1\" class=\"dataframe\">\n",
       "  <thead>\n",
       "    <tr style=\"text-align: right;\">\n",
       "      <th></th>\n",
       "      <th>seqname</th>\n",
       "      <th>source</th>\n",
       "      <th>feature</th>\n",
       "      <th>start</th>\n",
       "      <th>stop</th>\n",
       "      <th>score</th>\n",
       "      <th>strand</th>\n",
       "      <th>frame</th>\n",
       "      <th>attribute</th>\n",
       "      <th>gene_id</th>\n",
       "      <th>transcript_id</th>\n",
       "    </tr>\n",
       "  </thead>\n",
       "  <tbody>\n",
       "    <tr>\n",
       "      <th>3</th>\n",
       "      <td>ccar_ua01</td>\n",
       "      <td>StringTie</td>\n",
       "      <td>transcript</td>\n",
       "      <td>7560</td>\n",
       "      <td>9526</td>\n",
       "      <td>1000</td>\n",
       "      <td>.</td>\n",
       "      <td>.</td>\n",
       "      <td>gene_id \"STRG.2\"; transcript_id \"STRG.2.1\"; co...</td>\n",
       "      <td>STRG.2</td>\n",
       "      <td>strg.2.1</td>\n",
       "    </tr>\n",
       "    <tr>\n",
       "      <th>35</th>\n",
       "      <td>ccar_ua01</td>\n",
       "      <td>StringTie</td>\n",
       "      <td>transcript</td>\n",
       "      <td>274208</td>\n",
       "      <td>274586</td>\n",
       "      <td>1000</td>\n",
       "      <td>+</td>\n",
       "      <td>.</td>\n",
       "      <td>gene_id \"STRG.10\"; transcript_id \"STRG.10.1\"; ...</td>\n",
       "      <td>STRG.10</td>\n",
       "      <td>strg.10.1</td>\n",
       "    </tr>\n",
       "    <tr>\n",
       "      <th>128</th>\n",
       "      <td>ccar_ua01</td>\n",
       "      <td>StringTie</td>\n",
       "      <td>transcript</td>\n",
       "      <td>578509</td>\n",
       "      <td>579118</td>\n",
       "      <td>1000</td>\n",
       "      <td>.</td>\n",
       "      <td>.</td>\n",
       "      <td>gene_id \"STRG.21\"; transcript_id \"STRG.21.1\"; ...</td>\n",
       "      <td>STRG.21</td>\n",
       "      <td>strg.21.1</td>\n",
       "    </tr>\n",
       "    <tr>\n",
       "      <th>130</th>\n",
       "      <td>ccar_ua01</td>\n",
       "      <td>StringTie</td>\n",
       "      <td>transcript</td>\n",
       "      <td>589106</td>\n",
       "      <td>590364</td>\n",
       "      <td>1000</td>\n",
       "      <td>.</td>\n",
       "      <td>.</td>\n",
       "      <td>gene_id \"STRG.22\"; transcript_id \"STRG.22.1\"; ...</td>\n",
       "      <td>STRG.22</td>\n",
       "      <td>strg.22.1</td>\n",
       "    </tr>\n",
       "    <tr>\n",
       "      <th>146</th>\n",
       "      <td>ccar_ua01</td>\n",
       "      <td>StringTie</td>\n",
       "      <td>transcript</td>\n",
       "      <td>702707</td>\n",
       "      <td>703037</td>\n",
       "      <td>1000</td>\n",
       "      <td>.</td>\n",
       "      <td>.</td>\n",
       "      <td>gene_id \"STRG.28\"; transcript_id \"STRG.28.1\"; ...</td>\n",
       "      <td>STRG.28</td>\n",
       "      <td>strg.28.1</td>\n",
       "    </tr>\n",
       "    <tr>\n",
       "      <th>...</th>\n",
       "      <td>...</td>\n",
       "      <td>...</td>\n",
       "      <td>...</td>\n",
       "      <td>...</td>\n",
       "      <td>...</td>\n",
       "      <td>...</td>\n",
       "      <td>...</td>\n",
       "      <td>...</td>\n",
       "      <td>...</td>\n",
       "      <td>...</td>\n",
       "      <td>...</td>\n",
       "    </tr>\n",
       "    <tr>\n",
       "      <th>1544932</th>\n",
       "      <td>scaffold_191</td>\n",
       "      <td>StringTie</td>\n",
       "      <td>transcript</td>\n",
       "      <td>418</td>\n",
       "      <td>3850</td>\n",
       "      <td>1000</td>\n",
       "      <td>-</td>\n",
       "      <td>.</td>\n",
       "      <td>gene_id \"STRG.89483\"; transcript_id \"STRG.8948...</td>\n",
       "      <td>STRG.89483</td>\n",
       "      <td>strg.89483.1</td>\n",
       "    </tr>\n",
       "    <tr>\n",
       "      <th>1544949</th>\n",
       "      <td>scaffold_197</td>\n",
       "      <td>StringTie</td>\n",
       "      <td>transcript</td>\n",
       "      <td>79</td>\n",
       "      <td>2282</td>\n",
       "      <td>1000</td>\n",
       "      <td>.</td>\n",
       "      <td>.</td>\n",
       "      <td>gene_id \"STRG.89487\"; transcript_id \"STRG.8948...</td>\n",
       "      <td>STRG.89487</td>\n",
       "      <td>strg.89487.1</td>\n",
       "    </tr>\n",
       "    <tr>\n",
       "      <th>1544951</th>\n",
       "      <td>scaffold_197</td>\n",
       "      <td>StringTie</td>\n",
       "      <td>transcript</td>\n",
       "      <td>2568</td>\n",
       "      <td>4306</td>\n",
       "      <td>1000</td>\n",
       "      <td>.</td>\n",
       "      <td>.</td>\n",
       "      <td>gene_id \"STRG.89488\"; transcript_id \"STRG.8948...</td>\n",
       "      <td>STRG.89488</td>\n",
       "      <td>strg.89488.1</td>\n",
       "    </tr>\n",
       "    <tr>\n",
       "      <th>1544964</th>\n",
       "      <td>scaffold_210</td>\n",
       "      <td>StringTie</td>\n",
       "      <td>transcript</td>\n",
       "      <td>2033</td>\n",
       "      <td>3218</td>\n",
       "      <td>1000</td>\n",
       "      <td>-</td>\n",
       "      <td>.</td>\n",
       "      <td>gene_id \"STRG.89494\"; transcript_id \"STRG.8949...</td>\n",
       "      <td>STRG.89494</td>\n",
       "      <td>strg.89494.1</td>\n",
       "    </tr>\n",
       "    <tr>\n",
       "      <th>1544971</th>\n",
       "      <td>scaffold_107_mito</td>\n",
       "      <td>StringTie</td>\n",
       "      <td>transcript</td>\n",
       "      <td>10595</td>\n",
       "      <td>14328</td>\n",
       "      <td>1000</td>\n",
       "      <td>.</td>\n",
       "      <td>.</td>\n",
       "      <td>gene_id \"STRG.89497\"; transcript_id \"STRG.8949...</td>\n",
       "      <td>STRG.89497</td>\n",
       "      <td>strg.89497.1</td>\n",
       "    </tr>\n",
       "  </tbody>\n",
       "</table>\n",
       "<p>29463 rows × 11 columns</p>\n",
       "</div>"
      ],
      "text/plain": [
       "                   seqname     source     feature   start    stop  score  \\\n",
       "3                ccar_ua01  StringTie  transcript    7560    9526   1000   \n",
       "35               ccar_ua01  StringTie  transcript  274208  274586   1000   \n",
       "128              ccar_ua01  StringTie  transcript  578509  579118   1000   \n",
       "130              ccar_ua01  StringTie  transcript  589106  590364   1000   \n",
       "146              ccar_ua01  StringTie  transcript  702707  703037   1000   \n",
       "...                    ...        ...         ...     ...     ...    ...   \n",
       "1544932       scaffold_191  StringTie  transcript     418    3850   1000   \n",
       "1544949       scaffold_197  StringTie  transcript      79    2282   1000   \n",
       "1544951       scaffold_197  StringTie  transcript    2568    4306   1000   \n",
       "1544964       scaffold_210  StringTie  transcript    2033    3218   1000   \n",
       "1544971  scaffold_107_mito  StringTie  transcript   10595   14328   1000   \n",
       "\n",
       "        strand frame                                          attribute  \\\n",
       "3            .     .  gene_id \"STRG.2\"; transcript_id \"STRG.2.1\"; co...   \n",
       "35           +     .  gene_id \"STRG.10\"; transcript_id \"STRG.10.1\"; ...   \n",
       "128          .     .  gene_id \"STRG.21\"; transcript_id \"STRG.21.1\"; ...   \n",
       "130          .     .  gene_id \"STRG.22\"; transcript_id \"STRG.22.1\"; ...   \n",
       "146          .     .  gene_id \"STRG.28\"; transcript_id \"STRG.28.1\"; ...   \n",
       "...        ...   ...                                                ...   \n",
       "1544932      -     .  gene_id \"STRG.89483\"; transcript_id \"STRG.8948...   \n",
       "1544949      .     .  gene_id \"STRG.89487\"; transcript_id \"STRG.8948...   \n",
       "1544951      .     .  gene_id \"STRG.89488\"; transcript_id \"STRG.8948...   \n",
       "1544964      -     .  gene_id \"STRG.89494\"; transcript_id \"STRG.8949...   \n",
       "1544971      .     .  gene_id \"STRG.89497\"; transcript_id \"STRG.8949...   \n",
       "\n",
       "            gene_id transcript_id  \n",
       "3            STRG.2      strg.2.1  \n",
       "35          STRG.10     strg.10.1  \n",
       "128         STRG.21     strg.21.1  \n",
       "130         STRG.22     strg.22.1  \n",
       "146         STRG.28     strg.28.1  \n",
       "...             ...           ...  \n",
       "1544932  STRG.89483  strg.89483.1  \n",
       "1544949  STRG.89487  strg.89487.1  \n",
       "1544951  STRG.89488  strg.89488.1  \n",
       "1544964  STRG.89494  strg.89494.1  \n",
       "1544971  STRG.89497  strg.89497.1  \n",
       "\n",
       "[29463 rows x 11 columns]"
      ]
     },
     "execution_count": 44,
     "metadata": {},
     "output_type": "execute_result"
    }
   ],
   "source": [
    "subset"
   ]
  },
  {
   "cell_type": "code",
   "execution_count": 45,
   "metadata": {},
   "outputs": [
    {
     "name": "stderr",
     "output_type": "stream",
     "text": [
      "/tmp/ipykernel_2009/494030007.py:1: SettingWithCopyWarning: \n",
      "A value is trying to be set on a copy of a slice from a DataFrame.\n",
      "Try using .loc[row_indexer,col_indexer] = value instead\n",
      "\n",
      "See the caveats in the documentation: https://pandas.pydata.org/pandas-docs/stable/user_guide/indexing.html#returning-a-view-versus-a-copy\n",
      "  subset['gene_length'] = subset['stop'] - subset['start']\n"
     ]
    }
   ],
   "source": [
    "subset['gene_length'] = subset['stop'] - subset['start']"
   ]
  },
  {
   "cell_type": "code",
   "execution_count": 46,
   "metadata": {},
   "outputs": [],
   "source": [
    "subset[['gene_id','gene_length']].to_csv('ccar_gene_length.csv', index=False)"
   ]
  },
  {
   "cell_type": "code",
   "execution_count": 47,
   "metadata": {},
   "outputs": [
    {
     "name": "stdout",
     "output_type": "stream",
     "text": [
      "scaff: 0\n",
      "mstrg: 0\n",
      "ccar: 0\n",
      "strg: 29463\n"
     ]
    }
   ],
   "source": [
    "# print out how many transcript start with scaff, mstrg, ccar\n",
    "print('scaff:',subset['transcript_id'].str.startswith('scaff').sum())\n",
    "print('mstrg:', subset['transcript_id'].str.startswith('mstrg').sum())\n",
    "print('ccar:', subset['transcript_id'].str.startswith('ccar').sum())\n",
    "print('strg:', subset['transcript_id'].str.startswith('strg').sum())\n"
   ]
  },
  {
   "cell_type": "code",
   "execution_count": 48,
   "metadata": {},
   "outputs": [
    {
     "name": "stdout",
     "output_type": "stream",
     "text": [
      "scaff: 0\n",
      "mstrg: 0\n",
      "ccar: 0\n",
      "strg: 29463\n"
     ]
    }
   ],
   "source": [
    "# print out how many transcript start with scaff, mstrg, ccar\n",
    "print('scaff:',subset['gene_id'].str.startswith('SCAFF').sum())\n",
    "print('mstrg:', subset['gene_id'].str.startswith('MSTRG').sum())\n",
    "print('ccar:', subset['gene_id'].str.startswith('CCAR').sum())\n",
    "print('strg:', subset['gene_id'].str.startswith('STRG').sum())"
   ]
  },
  {
   "attachments": {},
   "cell_type": "markdown",
   "metadata": {},
   "source": [
    "## Venn diagram FOR THREE CONDITIONS "
   ]
  },
  {
   "cell_type": "code",
   "execution_count": 49,
   "metadata": {},
   "outputs": [],
   "source": [
    "# venn_values = pd.Series({'cnci_cpat': len(cnci_cpat_genes), 'cpat_feelnc': len(feelnc_cpat_genes), 'cnci_feelnc': len(feelnc_cnci_genes), 'common': len(common_genes)})\n",
    "# venn_values = venn_values.sort_values(ascending=False)\n",
    "# venn_values"
   ]
  },
  {
   "cell_type": "code",
   "execution_count": 50,
   "metadata": {},
   "outputs": [],
   "source": [
    "# # CREATE VENN DIAGRAM\n",
    "# plt.figure(figsize=(6, 4))\n",
    "# v = venn3_unweighted(subsets=(len(cpat_only), len(feelnc_only), len(feelnc_cpat_genes), len(cnci_only), len(cnci_cpat_genes), len(feelnc_cnci_genes), len(common_genes)),\n",
    "#       set_labels=('CPAT', 'FEELnc', 'CNCI'))\n",
    "# # set plot title\n",
    "# plt.title(\"Identified lncRNA\")\n",
    "# # total number of transcripts identified by Feelnc\n",
    "# plt.annotate(len(df_feelnc['name']), xy=v.get_label_by_id('100').get_position() - np.array([0, 0.05]), xytext=(+220,+10),\n",
    "#              ha='center', textcoords='offset points', bbox=dict(boxstyle='round,pad=0.5', fc='gray', alpha=0.1))\n",
    "# # total number of transcripts identified by CNCI \n",
    "# plt.annotate(len(df_cnci['gene_id']), xy=v.get_label_by_id('100').get_position() - np.array([0, 0.05]), xytext=(+140,-145),\n",
    "#              ha='center', textcoords='offset points', bbox=dict(boxstyle='round,pad=0.5', fc='gray', alpha=0.1))\n",
    "# # total number of transcripts identified by CPAT\n",
    "# plt.annotate(len(df_cpat['gene_id']), xy=v.get_label_by_id('100').get_position() - np.array([0, 0.05]), xytext=(-70,+10),\n",
    "#              ha='center', textcoords='offset points', bbox=dict(boxstyle='round,pad=0.5', fc='gray', alpha=0.1))\n",
    "# # export the plot\n",
    "# plt.savefig('venn_diagram_lncrna.pdf', dpi=600)\n",
    "# plt.savefig('venn_diagram_lncrna.svg', dpi=600)\n",
    "# plt.show()"
   ]
  }
 ],
 "metadata": {
  "kernelspec": {
   "display_name": "lncrna",
   "language": "python",
   "name": "python3"
  },
  "language_info": {
   "codemirror_mode": {
    "name": "ipython",
    "version": 3
   },
   "file_extension": ".py",
   "mimetype": "text/x-python",
   "name": "python",
   "nbconvert_exporter": "python",
   "pygments_lexer": "ipython3",
   "version": "3.11.5"
  }
 },
 "nbformat": 4,
 "nbformat_minor": 2
}
