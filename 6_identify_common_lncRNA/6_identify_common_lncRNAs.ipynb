{
 "cells": [
  {
   "cell_type": "code",
   "execution_count": 2,
   "metadata": {},
   "outputs": [],
   "source": [
    "#all needed packages \n",
    "import pandas as pd\n",
    "import matplotlib as mpl\n",
    "import matplotlib.pyplot as plt\n",
    "from matplotlib_venn import venn3, venn3_circles, venn3_unweighted\n",
    "from itertools import product\n",
    "import numpy as np\n",
    "import seaborn as sns\n",
    "sns.set_theme(palette='colorblind')\n"
   ]
  },
  {
   "attachments": {},
   "cell_type": "markdown",
   "metadata": {},
   "source": [
    "# Import prepared output files: Feelnc, CNCI, CPAT"
   ]
  },
  {
   "cell_type": "code",
   "execution_count": 3,
   "metadata": {},
   "outputs": [],
   "source": [
    "# Import Feelnc data\n",
    "df_feelnc = pd.read_csv('/home/maggy/LncRNA/6_identify_common_lncRNA/6_1_feelnc_output/feelnc_lncRNA.csv', sep=',') # name\n",
    "\n",
    "# Import CNCI data\n",
    "df_cnci = pd.read_csv('/home/maggy/LncRNA/6_identify_common_lncRNA/6_2_cnci_output/cnci_lncRNA.csv', sep='\\t') # gene_id\n",
    "\n",
    "# Import CPAT data\n",
    "df_cpat = pd.read_csv('/home/maggy/LncRNA/6_identify_common_lncRNA/6_3_cpat_output/cpat_lncRNA.csv', sep='\\t') # gene_id\n",
    "\n",
    "# Import CPC2 data \n",
    "df_cpc2 = pd.read_csv('/home/maggy/LncRNA/6_identify_common_lncRNA/6_4_cpc2_output/cpc2_lncRNA.csv', sep='\\t') # ID"
   ]
  },
  {
   "cell_type": "code",
   "execution_count": 4,
   "metadata": {},
   "outputs": [
    {
     "name": "stdout",
     "output_type": "stream",
     "text": [
      "Feelnc does not contain duplicates in the name column\n",
      "cnci does not contain duplicates in the name column\n",
      "cpat does not contain duplicates in the name column\n",
      "cpc2 does not contain duplicates in the name column\n"
     ]
    }
   ],
   "source": [
    "# CHECK IF DF CONTAIN DUPLICATES\n",
    "# FEELNC\n",
    "if df_feelnc['name'].duplicated().any():\n",
    "    print(\"Feelnc contains duplicates in the name column\")\n",
    "else:\n",
    "    print(\"Feelnc does not contain duplicates in the name column\")\n",
    "# CNCI\n",
    "if df_cnci['Transcript ID'].duplicated().any():\n",
    "    print(\"cnci contains duplicates in the name column\")\n",
    "else:\n",
    "    print(\"cnci does not contain duplicates in the name column\")\n",
    "# CPAT\n",
    "if df_cpat['transcript_id'].duplicated().any():\n",
    "    print(\"cpat contains duplicates in the name column\")\n",
    "else:\n",
    "    print(\"cpat does not contain duplicates in the name column\")\n",
    "# CPC2\n",
    "if df_cpc2['#ID'].duplicated().any():\n",
    "    print(\"cpc2 contains duplicates in the name column\")\n",
    "else:\n",
    "    print(\"cpc2 does not contain duplicates in the name column\")"
   ]
  },
  {
   "cell_type": "code",
   "execution_count": 5,
   "metadata": {},
   "outputs": [],
   "source": [
    "# REMOVE DUPLICATES \n",
    "# FEELNC\n",
    "# does not contain any duplicates \n",
    "# CNCI\n",
    "#df_cnci = df_cnci.drop_duplicates(subset='transcript_id', keep='first')\n",
    "# CPAT\n",
    "# does not contain any duplicates \n",
    "# CPC2s\n",
    "# does not contain any duplicates "
   ]
  },
  {
   "attachments": {},
   "cell_type": "markdown",
   "metadata": {},
   "source": [
    "# Dataset analysis of extracted data "
   ]
  },
  {
   "cell_type": "code",
   "execution_count": 6,
   "metadata": {},
   "outputs": [
    {
     "name": "stdout",
     "output_type": "stream",
     "text": [
      "Number of common genes:  33882\n",
      "Number of genes in common between feelnc and cnci:  46222\n",
      "Number of genes in common between feelnc and cpat:  36965\n",
      "Number of genes in common between feelnc and cpc:  44351\n",
      "Number of genes in common between cnci and cpat:  39155\n",
      "Number of genes in common between cnci and cpc:  47212\n",
      "Number of genes in common between cpat and cpc:  41893\n",
      "Number of genes in common between feelnc, cnci and cpat:  34602\n",
      "Number of genes in common between feelnc, cnci and cpc:  40991\n",
      "Number of genes in common between feelnc, cpat and cpc:  36036\n",
      "Number of genes in common between cnci, cpat and cpc:  38180\n"
     ]
    }
   ],
   "source": [
    "# calculating overlap\n",
    "feelnc = set(df_feelnc['name'])\n",
    "cnci = set(df_cnci['Transcript ID'])\n",
    "cpat = set(df_cpat['transcript_id'])\n",
    "cpc = set(df_cpc2['#ID'])\n",
    "\n",
    "# COMMON (all) \n",
    "common_genes = feelnc.intersection(cnci, cpat, cpc)\n",
    "print(\"Number of common genes: \", len(common_genes))\n",
    "\n",
    "# TWO in common\n",
    "feelnc_cnci_genes = feelnc.intersection(cnci)\n",
    "print(\"Number of genes in common between feelnc and cnci: \", len(feelnc_cnci_genes))\n",
    "feelnc_cpat_genes = feelnc.intersection(cpat)\n",
    "print(\"Number of genes in common between feelnc and cpat: \", len(feelnc_cpat_genes))\n",
    "feelnc_cpc_genes = feelnc.intersection(cpc)\n",
    "print(\"Number of genes in common between feelnc and cpc: \", len(feelnc_cpc_genes))\n",
    "cnci_cpat_genes = cnci.intersection(cpat)\n",
    "print(\"Number of genes in common between cnci and cpat: \", len(cnci_cpat_genes))\n",
    "cnci_cpc_genes = cnci.intersection(cpc)\n",
    "print(\"Number of genes in common between cnci and cpc: \", len(cnci_cpc_genes))\n",
    "cpat_cpc_genes = cpat.intersection(cpc)\n",
    "print(\"Number of genes in common between cpat and cpc: \", len(cpat_cpc_genes))\n",
    "\n",
    "\n",
    "# THREE in common\n",
    "feelnc_cnci_cpat_genes = feelnc.intersection(cnci, cpat)\n",
    "print(\"Number of genes in common between feelnc, cnci and cpat: \", len(feelnc_cnci_cpat_genes))\n",
    "feelnc_cnci_cpc_genes = feelnc.intersection(cnci, cpc)\n",
    "print(\"Number of genes in common between feelnc, cnci and cpc: \", len(feelnc_cnci_cpc_genes))\n",
    "feelnc_cpat_cpc_genes = feelnc.intersection(cpat, cpc)\n",
    "print(\"Number of genes in common between feelnc, cpat and cpc: \", len(feelnc_cpat_cpc_genes))\n",
    "cnci_cpat_cpc_genes = cnci.intersection(cpat, cpc)\n",
    "print(\"Number of genes in common between cnci, cpat and cpc: \", len(cnci_cpat_cpc_genes))\n"
   ]
  },
  {
   "cell_type": "markdown",
   "metadata": {},
   "source": [
    "# Venn diagram"
   ]
  },
  {
   "cell_type": "code",
   "execution_count": 23,
   "metadata": {},
   "outputs": [
    {
     "data": {
      "image/png": "[encoded data removed]",
      "text/plain": [
       "<Figure size 275.591x275.591 with 1 Axes>"
      ]
     },
     "metadata": {},
     "output_type": "display_data"
    }
   ],
   "source": [
    "from venn import venn\n",
    "import seaborn as sns\n",
    "import matplotlib.pyplot as plt\n",
    "\n",
    "# Set the seaborn theme\n",
    "sns.set_theme(palette='Set2', style='whitegrid', context='paper', \n",
    "              rc={'axes.labelsize': 8, 'xtick.labelsize': 8, \n",
    "                  'ytick.labelsize': 8, 'legend.fontsize': 8, \n",
    "                  'legend.title_fontsize': 8})\n",
    "\n",
    "# Get the first 4 colors from the 'Set2' palette and reorder them\n",
    "set2 = sns.color_palette(\"Set2\", n_colors=4)\n",
    "custom_order = [3,2,1,0]  # Green, Pink, Blue, Orange\n",
    "\n",
    "# Get corresponding colors in the custom order\n",
    "reordered_colors = [set2[i] for i in custom_order]\n",
    "\n",
    "# Set names\n",
    "set_labels = ['Feelnc', 'CNCI', 'CPAT', 'CPC2']\n",
    "\n",
    "# Create the figure and axis\n",
    "fig, ax = plt.subplots(figsize=((7/2.54), (7/2.54)))\n",
    "\n",
    "# Create the Venn diagram\n",
    "g = venn({\n",
    "    \"Feelnc\": set(df_feelnc['name']),\n",
    "    \"CNCI\": set(df_cnci['Transcript ID']),\n",
    "    \"CPAT\": set(df_cpat['transcript_id']),\n",
    "    \"CPC2\": set(df_cpc2['#ID'])\n",
    "}, cmap='tab10', fontsize=8, ax=ax)\n",
    "\n",
    "# Manually set the colors of the sets and ensure they are semi-transparent\n",
    "line_width = 0.3  # Define the desired linewidth\n",
    "for i, patch in enumerate(g.patches):\n",
    "    if patch:  # Check if the patch exists\n",
    "        color = reordered_colors[i % len(reordered_colors)]\n",
    "        patch.set_facecolor((*color, 0.6))  # 0.7 sets the transparency level\n",
    "        patch.set_edgecolor('black')  # Set edge color to black\n",
    "        patch.set_linewidth(line_width)  # Set the desired linewidth\n",
    "\n",
    "# Create custom legend with matching colors\n",
    "legend_handles = [plt.Line2D([0], [0], marker='o', color='w', label=set_labels[i], \n",
    "                             markersize=8, markerfacecolor=(*reordered_colors[i], 0.7)) \n",
    "                  for i in range(len(reordered_colors))]\n",
    "\n",
    "# Place legend below the Venn diagram\n",
    "ax.legend(handles=legend_handles, loc='upper center', bbox_to_anchor=(0.5, 0.1), ncol=2)\n",
    "\n",
    "# Adjust layout and save the figure\n",
    "plt.tight_layout()\n",
    "plt.savefig('venn_diagram_lncrna.png', dpi=500)\n",
    "plt.savefig('venn_diagram_lncrna.svg')\n",
    "plt.show()\n"
   ]
  },
  {
   "cell_type": "markdown",
   "metadata": {},
   "source": [
    "# Export of data for differential expression analysis "
   ]
  },
  {
   "cell_type": "code",
   "execution_count": 8,
   "metadata": {},
   "outputs": [
    {
     "data": {
      "text/html": [
       "<div>\n",
       "<style scoped>\n",
       "    .dataframe tbody tr th:only-of-type {\n",
       "        vertical-align: middle;\n",
       "    }\n",
       "\n",
       "    .dataframe tbody tr th {\n",
       "        vertical-align: top;\n",
       "    }\n",
       "\n",
       "    .dataframe thead th {\n",
       "        text-align: right;\n",
       "    }\n",
       "</style>\n",
       "<table border=\"1\" class=\"dataframe\">\n",
       "  <thead>\n",
       "    <tr style=\"text-align: right;\">\n",
       "      <th></th>\n",
       "      <th>gene_id</th>\n",
       "    </tr>\n",
       "  </thead>\n",
       "  <tbody>\n",
       "    <tr>\n",
       "      <th>0</th>\n",
       "      <td>strg.62542.4</td>\n",
       "    </tr>\n",
       "    <tr>\n",
       "      <th>1</th>\n",
       "      <td>strg.64982.1</td>\n",
       "    </tr>\n",
       "    <tr>\n",
       "      <th>2</th>\n",
       "      <td>strg.2743.1</td>\n",
       "    </tr>\n",
       "    <tr>\n",
       "      <th>3</th>\n",
       "      <td>strg.75864.2</td>\n",
       "    </tr>\n",
       "    <tr>\n",
       "      <th>4</th>\n",
       "      <td>strg.32377.1</td>\n",
       "    </tr>\n",
       "    <tr>\n",
       "      <th>...</th>\n",
       "      <td>...</td>\n",
       "    </tr>\n",
       "    <tr>\n",
       "      <th>33877</th>\n",
       "      <td>strg.81698.1</td>\n",
       "    </tr>\n",
       "    <tr>\n",
       "      <th>33878</th>\n",
       "      <td>strg.43110.1</td>\n",
       "    </tr>\n",
       "    <tr>\n",
       "      <th>33879</th>\n",
       "      <td>strg.1242.2</td>\n",
       "    </tr>\n",
       "    <tr>\n",
       "      <th>33880</th>\n",
       "      <td>strg.19933.2</td>\n",
       "    </tr>\n",
       "    <tr>\n",
       "      <th>33881</th>\n",
       "      <td>strg.40828.1</td>\n",
       "    </tr>\n",
       "  </tbody>\n",
       "</table>\n",
       "<p>33882 rows × 1 columns</p>\n",
       "</div>"
      ],
      "text/plain": [
       "            gene_id\n",
       "0      strg.62542.4\n",
       "1      strg.64982.1\n",
       "2       strg.2743.1\n",
       "3      strg.75864.2\n",
       "4      strg.32377.1\n",
       "...             ...\n",
       "33877  strg.81698.1\n",
       "33878  strg.43110.1\n",
       "33879   strg.1242.2\n",
       "33880  strg.19933.2\n",
       "33881  strg.40828.1\n",
       "\n",
       "[33882 rows x 1 columns]"
      ]
     },
     "execution_count": 8,
     "metadata": {},
     "output_type": "execute_result"
    }
   ],
   "source": [
    "\n",
    "# export common genes as tsv file\n",
    "common_genes = pd.DataFrame(common_genes)\n",
    "common_genes.rename(columns={0: 'gene_id'}, inplace=True)\n",
    "common_genes.to_csv('common_lncrna.tsv', sep='\\t', index=False, header=False)\n",
    "common_genes"
   ]
  },
  {
   "attachments": {},
   "cell_type": "markdown",
   "metadata": {},
   "source": [
    "## Venn diagram FOR THREE CONDITIONS "
   ]
  },
  {
   "cell_type": "code",
   "execution_count": 9,
   "metadata": {},
   "outputs": [],
   "source": [
    "# venn_values = pd.Series({'cnci_cpat': len(cnci_cpat_genes), 'cpat_feelnc': len(feelnc_cpat_genes), 'cnci_feelnc': len(feelnc_cnci_genes), 'common': len(common_genes)})\n",
    "# venn_values = venn_values.sort_values(ascending=False)\n",
    "# venn_values"
   ]
  },
  {
   "cell_type": "code",
   "execution_count": 10,
   "metadata": {},
   "outputs": [],
   "source": [
    "# # CREATE VENN DIAGRAM\n",
    "# plt.figure(figsize=(6, 4))\n",
    "# v = venn3_unweighted(subsets=(len(cpat_only), len(feelnc_only), len(feelnc_cpat_genes), len(cnci_only), len(cnci_cpat_genes), len(feelnc_cnci_genes), len(common_genes)),\n",
    "#       set_labels=('CPAT', 'FEELnc', 'CNCI'))\n",
    "# # set plot title\n",
    "# plt.title(\"Identified lncRNA\")\n",
    "# # total number of transcripts identified by Feelnc\n",
    "# plt.annotate(len(df_feelnc['name']), xy=v.get_label_by_id('100').get_position() - np.array([0, 0.05]), xytext=(+220,+10),\n",
    "#              ha='center', textcoords='offset points', bbox=dict(boxstyle='round,pad=0.5', fc='gray', alpha=0.1))\n",
    "# # total number of transcripts identified by CNCI \n",
    "# plt.annotate(len(df_cnci['gene_id']), xy=v.get_label_by_id('100').get_position() - np.array([0, 0.05]), xytext=(+140,-145),\n",
    "#              ha='center', textcoords='offset points', bbox=dict(boxstyle='round,pad=0.5', fc='gray', alpha=0.1))\n",
    "# # total number of transcripts identified by CPAT\n",
    "# plt.annotate(len(df_cpat['gene_id']), xy=v.get_label_by_id('100').get_position() - np.array([0, 0.05]), xytext=(-70,+10),\n",
    "#              ha='center', textcoords='offset points', bbox=dict(boxstyle='round,pad=0.5', fc='gray', alpha=0.1))\n",
    "# # export the plot\n",
    "# plt.savefig('venn_diagram_lncrna.pdf', dpi=600)\n",
    "# plt.savefig('venn_diagram_lncrna.svg', dpi=600)\n",
    "# plt.show()"
   ]
  }
 ],
 "metadata": {
  "kernelspec": {
   "display_name": "lncrna",
   "language": "python",
   "name": "python3"
  },
  "language_info": {
   "codemirror_mode": {
    "name": "ipython",
    "version": 3
   },
   "file_extension": ".py",
   "mimetype": "text/x-python",
   "name": "python",
   "nbconvert_exporter": "python",
   "pygments_lexer": "ipython3",
   "version": "3.11.5"
  }
 },
 "nbformat": 4,
 "nbformat_minor": 2
}
