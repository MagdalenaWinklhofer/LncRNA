{
 "cells": [
  {
   "cell_type": "code",
   "execution_count": null,
   "metadata": {},
   "outputs": [
    {
     "name": "stdout",
     "output_type": "stream",
     "text": [
      "Filtered FASTA file has been saved to filtered_cc_transcripts.fa\n"
     ]
    }
   ],
   "source": [
    "import pandas as pd\n",
    "from Bio import SeqIO\n",
    "\n",
    "# Step 1: Read transcript_ids from the CSV file and convert to uppercase\n",
    "transcript_ids_df = pd.read_csv('deg_lncrna_transcript_id.csv')\n",
    "transcript_ids = set(transcript_ids_df.iloc[:, 0].str.upper().tolist())\n",
    "\n",
    "# Step 2: Filter the FASTA file\n",
    "input_fasta = 'cc_transcripts_all.fa'\n",
    "output_fasta = 'deg_lncrna_cc_transcripts.fa'\n",
    "\n",
    "with open(output_fasta, 'w') as output_handle:\n",
    "    for record in SeqIO.parse(input_fasta, 'fasta'):\n",
    "        # Check if the uppercase record ID is in the list of uppercase transcript IDs to keep\n",
    "        if record.id.upper() in transcript_ids:\n",
    "            SeqIO.write(record, output_handle, 'fasta')\n",
    "\n",
    "print(f'Filtered FASTA file has been saved to {output_fasta}')\n"
   ]
  },
  {
   "cell_type": "code",
   "execution_count": 12,
   "metadata": {},
   "outputs": [
    {
     "name": "stdout",
     "output_type": "stream",
     "text": [
      "Filtered FASTA file has been saved to filtered_cc_transcripts.fa\n",
      "Number of transcripts in the filtered FASTA file: 2208\n"
     ]
    }
   ],
   "source": [
    "import pandas as pd\n",
    "from Bio import SeqIO\n",
    "\n",
    "# Step 1: Read transcript_ids from the CSV file and convert to uppercase\n",
    "transcript_ids_df = pd.read_csv('deg_lncrna_transcript_id.csv')\n",
    "transcript_ids = set(transcript_ids_df.iloc[:, 0].str.upper().tolist())\n",
    "\n",
    "# Step 2: Filter the FASTA file and count the number of filtered transcripts\n",
    "input_fasta = 'cc_transcripts_all.fa'\n",
    "output_fasta = 'filtered_cc_transcripts.fa'\n",
    "filtered_count = 0\n",
    "\n",
    "with open(output_fasta, 'w') as output_handle:\n",
    "    for record in SeqIO.parse(input_fasta, 'fasta'):\n",
    "        # Check if the uppercase record ID is in the list of uppercase transcript IDs to keep\n",
    "        if record.id.upper() in transcript_ids:\n",
    "            SeqIO.write(record, output_handle, 'fasta')\n",
    "            filtered_count += 1\n",
    "\n",
    "print(f'Filtered FASTA file has been saved to {output_fasta}')\n",
    "print(f'Number of transcripts in the filtered FASTA file: {filtered_count}')\n"
   ]
  },
  {
   "cell_type": "code",
   "execution_count": null,
   "metadata": {},
   "outputs": [],
   "source": []
  }
 ],
 "metadata": {
  "kernelspec": {
   "display_name": "rnaseq",
   "language": "python",
   "name": "python3"
  },
  "language_info": {
   "codemirror_mode": {
    "name": "ipython",
    "version": 3
   },
   "file_extension": ".py",
   "mimetype": "text/x-python",
   "name": "python",
   "nbconvert_exporter": "python",
   "pygments_lexer": "ipython3",
   "version": "3.11.5"
  }
 },
 "nbformat": 4,
 "nbformat_minor": 2
}
