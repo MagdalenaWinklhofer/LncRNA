{
 "cells": [
  {
   "cell_type": "code",
   "execution_count": 7,
   "metadata": {},
   "outputs": [],
   "source": [
    "# Load packages \n",
    "import pandas as pd \n",
    "import numpy as np\n",
    "import matplotlib.pyplot as plt\n",
    "import seaborn as sns"
   ]
  },
  {
   "cell_type": "code",
   "execution_count": 8,
   "metadata": {},
   "outputs": [],
   "source": [
    "# Import of Feelnc Classifier output\n",
    "data = pd.read_csv('lncRNA_classes.txt', sep='\\t')\n",
    "\n",
    "# import deg transcript lncRNA\n",
    "deg_na = pd.read_csv('../9_1_dea_lncrna/9_1_1_deg_transcripts/deg_data/Normoxia to Anoxia_lncrna.csv', sep=',')\n",
    "deg_nr = pd.read_csv('../9_1_dea_lncrna/9_1_1_deg_transcripts/deg_data/Normoxia to Reoxygenation_lncrna.csv', sep=',')\n",
    "deg_ar = pd.read_csv('../9_1_dea_lncrna/9_1_1_deg_transcripts/deg_data/Anoxia to Reoxygenation_lncrna.csv', sep=',')\n",
    "deg = pd.concat([deg_na, deg_nr, deg_ar])\n",
    "\n",
    "# Import common 33882 lncRNAs\n",
    "common = pd.read_csv('../6_identify_common_lncRNA/common_lncrna_transcript_id.csv', sep='\\t')"
   ]
  },
  {
   "cell_type": "code",
   "execution_count": 9,
   "metadata": {},
   "outputs": [
    {
     "name": "stderr",
     "output_type": "stream",
     "text": [
      "/tmp/ipykernel_15425/1769169812.py:4: SettingWithCopyWarning: \n",
      "A value is trying to be set on a copy of a slice from a DataFrame\n",
      "\n",
      "See the caveats in the documentation: https://pandas.pydata.org/pandas-docs/stable/user_guide/indexing.html#returning-a-view-versus-a-copy\n",
      "  data['subset'][data['lncRNA_transcript'].str.lower().isin(common['transcript_id'])] = 'lncRNA'\n",
      "/tmp/ipykernel_15425/1769169812.py:5: SettingWithCopyWarning: \n",
      "A value is trying to be set on a copy of a slice from a DataFrame\n",
      "\n",
      "See the caveats in the documentation: https://pandas.pydata.org/pandas-docs/stable/user_guide/indexing.html#returning-a-view-versus-a-copy\n",
      "  data['subset'][data['lncRNA_transcript'].str.lower().isin(deg['transcript_id'])] = 'deg lncRNA'\n"
     ]
    }
   ],
   "source": [
    "# add new column to filter subsets later \n",
    "data['subset'] = 'None'\n",
    "# add subset information to the whole dataframe\n",
    "data['subset'][data['lncRNA_transcript'].str.lower().isin(common['transcript_id'])] = 'lncRNA'\n",
    "data['subset'][data['lncRNA_transcript'].str.lower().isin(deg['transcript_id'])] = 'deg lncRNA'\n",
    "# drop the rows that are not in a subset\n",
    "data.drop(data[data['subset'] == 'None'].index, inplace=True)"
   ]
  },
  {
   "cell_type": "code",
   "execution_count": 10,
   "metadata": {},
   "outputs": [],
   "source": [
    "num_interaction_partner = data.loc[data['subset'] == 'deg lncRNA']"
   ]
  },
  {
   "cell_type": "code",
   "execution_count": 11,
   "metadata": {},
   "outputs": [
    {
     "data": {
      "text/plain": [
       "2100"
      ]
     },
     "execution_count": 11,
     "metadata": {},
     "output_type": "execute_result"
    }
   ],
   "source": [
    "len(num_interaction_partner['lncRNA_transcript'].drop_duplicates())"
   ]
  },
  {
   "cell_type": "code",
   "execution_count": 12,
   "metadata": {},
   "outputs": [
    {
     "data": {
      "text/html": [
       "<div>\n",
       "<style scoped>\n",
       "    .dataframe tbody tr th:only-of-type {\n",
       "        vertical-align: middle;\n",
       "    }\n",
       "\n",
       "    .dataframe tbody tr th {\n",
       "        vertical-align: top;\n",
       "    }\n",
       "\n",
       "    .dataframe thead th {\n",
       "        text-align: right;\n",
       "    }\n",
       "</style>\n",
       "<table border=\"1\" class=\"dataframe\">\n",
       "  <thead>\n",
       "    <tr style=\"text-align: right;\">\n",
       "      <th></th>\n",
       "      <th>isBest</th>\n",
       "      <th>lncRNA_gene</th>\n",
       "      <th>lncRNA_transcript</th>\n",
       "      <th>partnerRNA_gene</th>\n",
       "      <th>partnerRNA_transcript</th>\n",
       "      <th>direction</th>\n",
       "      <th>type</th>\n",
       "      <th>distance</th>\n",
       "      <th>subtype</th>\n",
       "      <th>location</th>\n",
       "      <th>subset</th>\n",
       "    </tr>\n",
       "  </thead>\n",
       "  <tbody>\n",
       "    <tr>\n",
       "      <th>0</th>\n",
       "      <td>1</td>\n",
       "      <td>STRG.29214</td>\n",
       "      <td>STRG.29214.1</td>\n",
       "      <td>ccar_ua15-g14201</td>\n",
       "      <td>ccar_ua15-g14201.t1</td>\n",
       "      <td>sense</td>\n",
       "      <td>intergenic</td>\n",
       "      <td>1669</td>\n",
       "      <td>same_strand</td>\n",
       "      <td>upstream</td>\n",
       "      <td>deg lncRNA</td>\n",
       "    </tr>\n",
       "    <tr>\n",
       "      <th>57</th>\n",
       "      <td>1</td>\n",
       "      <td>STRG.12225</td>\n",
       "      <td>STRG.12225.2</td>\n",
       "      <td>ccar_ua05-g6016</td>\n",
       "      <td>ccar_ua05-g6016.t1</td>\n",
       "      <td>antisense</td>\n",
       "      <td>intergenic</td>\n",
       "      <td>16718</td>\n",
       "      <td>divergent</td>\n",
       "      <td>upstream</td>\n",
       "      <td>deg lncRNA</td>\n",
       "    </tr>\n",
       "    <tr>\n",
       "      <th>58</th>\n",
       "      <td>1</td>\n",
       "      <td>STRG.5756</td>\n",
       "      <td>STRG.5756.1</td>\n",
       "      <td>ccar_ua02-g2784</td>\n",
       "      <td>ccar_ua02-g2784.t1</td>\n",
       "      <td>strand_unknow</td>\n",
       "      <td>intergenic</td>\n",
       "      <td>37115</td>\n",
       "      <td>unknow strand(s)</td>\n",
       "      <td>upstream</td>\n",
       "      <td>deg lncRNA</td>\n",
       "    </tr>\n",
       "    <tr>\n",
       "      <th>96</th>\n",
       "      <td>1</td>\n",
       "      <td>STRG.32088</td>\n",
       "      <td>STRG.32088.1</td>\n",
       "      <td>ccar_ua16-g15758</td>\n",
       "      <td>ccar_ua16-g15758.t1</td>\n",
       "      <td>antisense</td>\n",
       "      <td>intergenic</td>\n",
       "      <td>5706</td>\n",
       "      <td>divergent</td>\n",
       "      <td>upstream</td>\n",
       "      <td>deg lncRNA</td>\n",
       "    </tr>\n",
       "    <tr>\n",
       "      <th>97</th>\n",
       "      <td>0</td>\n",
       "      <td>STRG.32088</td>\n",
       "      <td>STRG.32088.1</td>\n",
       "      <td>ccar_ua16-g15757</td>\n",
       "      <td>ccar_ua16-g15757.t1</td>\n",
       "      <td>antisense</td>\n",
       "      <td>intergenic</td>\n",
       "      <td>7959</td>\n",
       "      <td>convergent</td>\n",
       "      <td>downstream</td>\n",
       "      <td>deg lncRNA</td>\n",
       "    </tr>\n",
       "    <tr>\n",
       "      <th>...</th>\n",
       "      <td>...</td>\n",
       "      <td>...</td>\n",
       "      <td>...</td>\n",
       "      <td>...</td>\n",
       "      <td>...</td>\n",
       "      <td>...</td>\n",
       "      <td>...</td>\n",
       "      <td>...</td>\n",
       "      <td>...</td>\n",
       "      <td>...</td>\n",
       "      <td>...</td>\n",
       "    </tr>\n",
       "    <tr>\n",
       "      <th>113731</th>\n",
       "      <td>1</td>\n",
       "      <td>STRG.21062</td>\n",
       "      <td>STRG.21062.1</td>\n",
       "      <td>ccar_ua10-g9988</td>\n",
       "      <td>ccar_ua10-g9988.t1</td>\n",
       "      <td>strand_unknow</td>\n",
       "      <td>genic</td>\n",
       "      <td>0</td>\n",
       "      <td>overlapping</td>\n",
       "      <td>exonic</td>\n",
       "      <td>deg lncRNA</td>\n",
       "    </tr>\n",
       "    <tr>\n",
       "      <th>113732</th>\n",
       "      <td>0</td>\n",
       "      <td>STRG.21062</td>\n",
       "      <td>STRG.21062.1</td>\n",
       "      <td>ccar_ua10-g9987</td>\n",
       "      <td>ccar_ua10-g9987.t4</td>\n",
       "      <td>strand_unknow</td>\n",
       "      <td>intergenic</td>\n",
       "      <td>3534</td>\n",
       "      <td>unknow strand(s)</td>\n",
       "      <td>downstream</td>\n",
       "      <td>deg lncRNA</td>\n",
       "    </tr>\n",
       "    <tr>\n",
       "      <th>113733</th>\n",
       "      <td>0</td>\n",
       "      <td>STRG.21062</td>\n",
       "      <td>STRG.21062.1</td>\n",
       "      <td>ccar_ua10-g9987</td>\n",
       "      <td>ccar_ua10-g9987.t1</td>\n",
       "      <td>strand_unknow</td>\n",
       "      <td>intergenic</td>\n",
       "      <td>3534</td>\n",
       "      <td>unknow strand(s)</td>\n",
       "      <td>downstream</td>\n",
       "      <td>deg lncRNA</td>\n",
       "    </tr>\n",
       "    <tr>\n",
       "      <th>113734</th>\n",
       "      <td>0</td>\n",
       "      <td>STRG.21062</td>\n",
       "      <td>STRG.21062.1</td>\n",
       "      <td>ccar_ua10-g9987</td>\n",
       "      <td>ccar_ua10-g9987.t2</td>\n",
       "      <td>strand_unknow</td>\n",
       "      <td>intergenic</td>\n",
       "      <td>3534</td>\n",
       "      <td>unknow strand(s)</td>\n",
       "      <td>downstream</td>\n",
       "      <td>deg lncRNA</td>\n",
       "    </tr>\n",
       "    <tr>\n",
       "      <th>113735</th>\n",
       "      <td>0</td>\n",
       "      <td>STRG.21062</td>\n",
       "      <td>STRG.21062.1</td>\n",
       "      <td>ccar_ua10-g9987</td>\n",
       "      <td>ccar_ua10-g9987.t3</td>\n",
       "      <td>strand_unknow</td>\n",
       "      <td>intergenic</td>\n",
       "      <td>3534</td>\n",
       "      <td>unknow strand(s)</td>\n",
       "      <td>downstream</td>\n",
       "      <td>deg lncRNA</td>\n",
       "    </tr>\n",
       "  </tbody>\n",
       "</table>\n",
       "<p>4891 rows × 11 columns</p>\n",
       "</div>"
      ],
      "text/plain": [
       "        isBest lncRNA_gene lncRNA_transcript   partnerRNA_gene  \\\n",
       "0            1  STRG.29214      STRG.29214.1  ccar_ua15-g14201   \n",
       "57           1  STRG.12225      STRG.12225.2   ccar_ua05-g6016   \n",
       "58           1   STRG.5756       STRG.5756.1   ccar_ua02-g2784   \n",
       "96           1  STRG.32088      STRG.32088.1  ccar_ua16-g15758   \n",
       "97           0  STRG.32088      STRG.32088.1  ccar_ua16-g15757   \n",
       "...        ...         ...               ...               ...   \n",
       "113731       1  STRG.21062      STRG.21062.1   ccar_ua10-g9988   \n",
       "113732       0  STRG.21062      STRG.21062.1   ccar_ua10-g9987   \n",
       "113733       0  STRG.21062      STRG.21062.1   ccar_ua10-g9987   \n",
       "113734       0  STRG.21062      STRG.21062.1   ccar_ua10-g9987   \n",
       "113735       0  STRG.21062      STRG.21062.1   ccar_ua10-g9987   \n",
       "\n",
       "       partnerRNA_transcript      direction        type  distance  \\\n",
       "0        ccar_ua15-g14201.t1          sense  intergenic      1669   \n",
       "57        ccar_ua05-g6016.t1      antisense  intergenic     16718   \n",
       "58        ccar_ua02-g2784.t1  strand_unknow  intergenic     37115   \n",
       "96       ccar_ua16-g15758.t1      antisense  intergenic      5706   \n",
       "97       ccar_ua16-g15757.t1      antisense  intergenic      7959   \n",
       "...                      ...            ...         ...       ...   \n",
       "113731    ccar_ua10-g9988.t1  strand_unknow       genic         0   \n",
       "113732    ccar_ua10-g9987.t4  strand_unknow  intergenic      3534   \n",
       "113733    ccar_ua10-g9987.t1  strand_unknow  intergenic      3534   \n",
       "113734    ccar_ua10-g9987.t2  strand_unknow  intergenic      3534   \n",
       "113735    ccar_ua10-g9987.t3  strand_unknow  intergenic      3534   \n",
       "\n",
       "                 subtype    location      subset  \n",
       "0            same_strand    upstream  deg lncRNA  \n",
       "57             divergent    upstream  deg lncRNA  \n",
       "58      unknow strand(s)    upstream  deg lncRNA  \n",
       "96             divergent    upstream  deg lncRNA  \n",
       "97            convergent  downstream  deg lncRNA  \n",
       "...                  ...         ...         ...  \n",
       "113731       overlapping      exonic  deg lncRNA  \n",
       "113732  unknow strand(s)  downstream  deg lncRNA  \n",
       "113733  unknow strand(s)  downstream  deg lncRNA  \n",
       "113734  unknow strand(s)  downstream  deg lncRNA  \n",
       "113735  unknow strand(s)  downstream  deg lncRNA  \n",
       "\n",
       "[4891 rows x 11 columns]"
      ]
     },
     "execution_count": 12,
     "metadata": {},
     "output_type": "execute_result"
    }
   ],
   "source": [
    "num_interaction_partner"
   ]
  },
  {
   "cell_type": "code",
   "execution_count": 7,
   "metadata": {},
   "outputs": [
    {
     "data": {
      "text/plain": [
       "1"
      ]
     },
     "execution_count": 7,
     "metadata": {},
     "output_type": "execute_result"
    }
   ],
   "source": [
    "# show me the minimum interaction partner transcripts \n",
    "num_interaction_partner['lncRNA_transcript'].value_counts().min()"
   ]
  },
  {
   "cell_type": "code",
   "execution_count": 8,
   "metadata": {},
   "outputs": [
    {
     "data": {
      "text/plain": [
       "27"
      ]
     },
     "execution_count": 8,
     "metadata": {},
     "output_type": "execute_result"
    }
   ],
   "source": [
    "# show me the maximum interaction partner transcripts\n",
    "num_interaction_partner['lncRNA_transcript'].value_counts().max()"
   ]
  },
  {
   "cell_type": "code",
   "execution_count": 9,
   "metadata": {},
   "outputs": [
    {
     "data": {
      "text/plain": [
       "2.0"
      ]
     },
     "execution_count": 9,
     "metadata": {},
     "output_type": "execute_result"
    }
   ],
   "source": [
    "# show me median interaction partner transcripts\n",
    "num_interaction_partner['lncRNA_transcript'].value_counts().median()"
   ]
  },
  {
   "cell_type": "code",
   "execution_count": 10,
   "metadata": {},
   "outputs": [
    {
     "data": {
      "text/html": [
       "<div>\n",
       "<style scoped>\n",
       "    .dataframe tbody tr th:only-of-type {\n",
       "        vertical-align: middle;\n",
       "    }\n",
       "\n",
       "    .dataframe tbody tr th {\n",
       "        vertical-align: top;\n",
       "    }\n",
       "\n",
       "    .dataframe thead th {\n",
       "        text-align: right;\n",
       "    }\n",
       "</style>\n",
       "<table border=\"1\" class=\"dataframe\">\n",
       "  <thead>\n",
       "    <tr style=\"text-align: right;\">\n",
       "      <th></th>\n",
       "      <th>isBest</th>\n",
       "      <th>lncRNA_gene</th>\n",
       "      <th>lncRNA_transcript</th>\n",
       "      <th>partnerRNA_gene</th>\n",
       "      <th>partnerRNA_transcript</th>\n",
       "      <th>direction</th>\n",
       "      <th>type</th>\n",
       "      <th>distance</th>\n",
       "      <th>subtype</th>\n",
       "      <th>location</th>\n",
       "      <th>subset</th>\n",
       "    </tr>\n",
       "  </thead>\n",
       "  <tbody>\n",
       "    <tr>\n",
       "      <th>0</th>\n",
       "      <td>1</td>\n",
       "      <td>STRG.29214</td>\n",
       "      <td>STRG.29214.1</td>\n",
       "      <td>ccar_ua15-g14201</td>\n",
       "      <td>ccar_ua15-g14201.t1</td>\n",
       "      <td>sense</td>\n",
       "      <td>intergenic</td>\n",
       "      <td>1669</td>\n",
       "      <td>same_strand</td>\n",
       "      <td>upstream</td>\n",
       "      <td>deg lncRNA</td>\n",
       "    </tr>\n",
       "    <tr>\n",
       "      <th>57</th>\n",
       "      <td>1</td>\n",
       "      <td>STRG.12225</td>\n",
       "      <td>STRG.12225.2</td>\n",
       "      <td>ccar_ua05-g6016</td>\n",
       "      <td>ccar_ua05-g6016.t1</td>\n",
       "      <td>antisense</td>\n",
       "      <td>intergenic</td>\n",
       "      <td>16718</td>\n",
       "      <td>divergent</td>\n",
       "      <td>upstream</td>\n",
       "      <td>deg lncRNA</td>\n",
       "    </tr>\n",
       "    <tr>\n",
       "      <th>58</th>\n",
       "      <td>1</td>\n",
       "      <td>STRG.5756</td>\n",
       "      <td>STRG.5756.1</td>\n",
       "      <td>ccar_ua02-g2784</td>\n",
       "      <td>ccar_ua02-g2784.t1</td>\n",
       "      <td>strand_unknow</td>\n",
       "      <td>intergenic</td>\n",
       "      <td>37115</td>\n",
       "      <td>unknow strand(s)</td>\n",
       "      <td>upstream</td>\n",
       "      <td>deg lncRNA</td>\n",
       "    </tr>\n",
       "    <tr>\n",
       "      <th>96</th>\n",
       "      <td>1</td>\n",
       "      <td>STRG.32088</td>\n",
       "      <td>STRG.32088.1</td>\n",
       "      <td>ccar_ua16-g15758</td>\n",
       "      <td>ccar_ua16-g15758.t1</td>\n",
       "      <td>antisense</td>\n",
       "      <td>intergenic</td>\n",
       "      <td>5706</td>\n",
       "      <td>divergent</td>\n",
       "      <td>upstream</td>\n",
       "      <td>deg lncRNA</td>\n",
       "    </tr>\n",
       "    <tr>\n",
       "      <th>166</th>\n",
       "      <td>1</td>\n",
       "      <td>STRG.24707</td>\n",
       "      <td>STRG.24707.1</td>\n",
       "      <td>ccar_ua12-g11864</td>\n",
       "      <td>ccar_ua12-g11864.t1</td>\n",
       "      <td>sense</td>\n",
       "      <td>intergenic</td>\n",
       "      <td>34077</td>\n",
       "      <td>same_strand</td>\n",
       "      <td>upstream</td>\n",
       "      <td>deg lncRNA</td>\n",
       "    </tr>\n",
       "    <tr>\n",
       "      <th>...</th>\n",
       "      <td>...</td>\n",
       "      <td>...</td>\n",
       "      <td>...</td>\n",
       "      <td>...</td>\n",
       "      <td>...</td>\n",
       "      <td>...</td>\n",
       "      <td>...</td>\n",
       "      <td>...</td>\n",
       "      <td>...</td>\n",
       "      <td>...</td>\n",
       "      <td>...</td>\n",
       "    </tr>\n",
       "    <tr>\n",
       "      <th>113510</th>\n",
       "      <td>1</td>\n",
       "      <td>STRG.26557</td>\n",
       "      <td>STRG.26557.1</td>\n",
       "      <td>ccar_ua13-g12944</td>\n",
       "      <td>ccar_ua13-g12944.t2</td>\n",
       "      <td>strand_unknow</td>\n",
       "      <td>intergenic</td>\n",
       "      <td>90771</td>\n",
       "      <td>unknow strand(s)</td>\n",
       "      <td>downstream</td>\n",
       "      <td>deg lncRNA</td>\n",
       "    </tr>\n",
       "    <tr>\n",
       "      <th>113605</th>\n",
       "      <td>1</td>\n",
       "      <td>STRG.23405</td>\n",
       "      <td>STRG.23405.1</td>\n",
       "      <td>ccar_ua11-g11458</td>\n",
       "      <td>ccar_ua11-g11458.t1.1.6676f666</td>\n",
       "      <td>strand_unknow</td>\n",
       "      <td>intergenic</td>\n",
       "      <td>2054</td>\n",
       "      <td>unknow strand(s)</td>\n",
       "      <td>upstream</td>\n",
       "      <td>deg lncRNA</td>\n",
       "    </tr>\n",
       "    <tr>\n",
       "      <th>113680</th>\n",
       "      <td>1</td>\n",
       "      <td>STRG.13136</td>\n",
       "      <td>STRG.13136.1</td>\n",
       "      <td>ccar_ua06-g6317</td>\n",
       "      <td>ccar_ua06-g6317.t1</td>\n",
       "      <td>sense</td>\n",
       "      <td>intergenic</td>\n",
       "      <td>49405</td>\n",
       "      <td>same_strand</td>\n",
       "      <td>downstream</td>\n",
       "      <td>deg lncRNA</td>\n",
       "    </tr>\n",
       "    <tr>\n",
       "      <th>113689</th>\n",
       "      <td>1</td>\n",
       "      <td>STRG.7273</td>\n",
       "      <td>STRG.7273.1</td>\n",
       "      <td>ccar_ua03-g3444</td>\n",
       "      <td>ccar_ua03-g3444.t1</td>\n",
       "      <td>strand_unknow</td>\n",
       "      <td>intergenic</td>\n",
       "      <td>3367</td>\n",
       "      <td>unknow strand(s)</td>\n",
       "      <td>upstream</td>\n",
       "      <td>deg lncRNA</td>\n",
       "    </tr>\n",
       "    <tr>\n",
       "      <th>113731</th>\n",
       "      <td>1</td>\n",
       "      <td>STRG.21062</td>\n",
       "      <td>STRG.21062.1</td>\n",
       "      <td>ccar_ua10-g9988</td>\n",
       "      <td>ccar_ua10-g9988.t1</td>\n",
       "      <td>strand_unknow</td>\n",
       "      <td>genic</td>\n",
       "      <td>0</td>\n",
       "      <td>overlapping</td>\n",
       "      <td>exonic</td>\n",
       "      <td>deg lncRNA</td>\n",
       "    </tr>\n",
       "  </tbody>\n",
       "</table>\n",
       "<p>2100 rows × 11 columns</p>\n",
       "</div>"
      ],
      "text/plain": [
       "        isBest lncRNA_gene lncRNA_transcript   partnerRNA_gene  \\\n",
       "0            1  STRG.29214      STRG.29214.1  ccar_ua15-g14201   \n",
       "57           1  STRG.12225      STRG.12225.2   ccar_ua05-g6016   \n",
       "58           1   STRG.5756       STRG.5756.1   ccar_ua02-g2784   \n",
       "96           1  STRG.32088      STRG.32088.1  ccar_ua16-g15758   \n",
       "166          1  STRG.24707      STRG.24707.1  ccar_ua12-g11864   \n",
       "...        ...         ...               ...               ...   \n",
       "113510       1  STRG.26557      STRG.26557.1  ccar_ua13-g12944   \n",
       "113605       1  STRG.23405      STRG.23405.1  ccar_ua11-g11458   \n",
       "113680       1  STRG.13136      STRG.13136.1   ccar_ua06-g6317   \n",
       "113689       1   STRG.7273       STRG.7273.1   ccar_ua03-g3444   \n",
       "113731       1  STRG.21062      STRG.21062.1   ccar_ua10-g9988   \n",
       "\n",
       "                 partnerRNA_transcript      direction        type  distance  \\\n",
       "0                  ccar_ua15-g14201.t1          sense  intergenic      1669   \n",
       "57                  ccar_ua05-g6016.t1      antisense  intergenic     16718   \n",
       "58                  ccar_ua02-g2784.t1  strand_unknow  intergenic     37115   \n",
       "96                 ccar_ua16-g15758.t1      antisense  intergenic      5706   \n",
       "166                ccar_ua12-g11864.t1          sense  intergenic     34077   \n",
       "...                                ...            ...         ...       ...   \n",
       "113510             ccar_ua13-g12944.t2  strand_unknow  intergenic     90771   \n",
       "113605  ccar_ua11-g11458.t1.1.6676f666  strand_unknow  intergenic      2054   \n",
       "113680              ccar_ua06-g6317.t1          sense  intergenic     49405   \n",
       "113689              ccar_ua03-g3444.t1  strand_unknow  intergenic      3367   \n",
       "113731              ccar_ua10-g9988.t1  strand_unknow       genic         0   \n",
       "\n",
       "                 subtype    location      subset  \n",
       "0            same_strand    upstream  deg lncRNA  \n",
       "57             divergent    upstream  deg lncRNA  \n",
       "58      unknow strand(s)    upstream  deg lncRNA  \n",
       "96             divergent    upstream  deg lncRNA  \n",
       "166          same_strand    upstream  deg lncRNA  \n",
       "...                  ...         ...         ...  \n",
       "113510  unknow strand(s)  downstream  deg lncRNA  \n",
       "113605  unknow strand(s)    upstream  deg lncRNA  \n",
       "113680       same_strand  downstream  deg lncRNA  \n",
       "113689  unknow strand(s)    upstream  deg lncRNA  \n",
       "113731       overlapping      exonic  deg lncRNA  \n",
       "\n",
       "[2100 rows x 11 columns]"
      ]
     },
     "execution_count": 10,
     "metadata": {},
     "output_type": "execute_result"
    }
   ],
   "source": [
    "num_interaction_partner.loc[num_interaction_partner['isBest'] ==1]"
   ]
  },
  {
   "cell_type": "code",
   "execution_count": 29,
   "metadata": {},
   "outputs": [],
   "source": [
    "# export the transcript id's of the interaction partners for the subset of deg lncRNAs\n",
    "num_interaction_partner.to_csv('deg_lncrna_interaction_partners.txt', sep='\\t', index=False)"
   ]
  },
  {
   "cell_type": "markdown",
   "metadata": {},
   "source": [
    "# 1 Number of Interaction partners found"
   ]
  },
  {
   "cell_type": "code",
   "execution_count": 11,
   "metadata": {},
   "outputs": [
    {
     "data": {
      "image/png": "[encoded data removed]",
      "text/plain": [
       "<Figure size 314.961x157.48 with 1 Axes>"
      ]
     },
     "metadata": {},
     "output_type": "display_data"
    }
   ],
   "source": [
    "# PLOT: distance of Interaction partner to lncRNA\n",
    "sns.set_theme(style='whitegrid', palette='colorblind', context='paper', rc={\n",
    "    'axes.labelsize': 8, 'xtick.labelsize': 8, 'ytick.labelsize': 8, 'legend.fontsize': 8, 'legend.title_fontsize': 8, \"axes.formatter.use_mathtext\": True\n",
    "})\n",
    "plt.figure(figsize=((8 / 2.54), (4 / 2.54)))\n",
    "plt.hist(data['lncRNA_transcript'].value_counts(), color='#66C2A5', edgecolor='black', linewidth=0.3, bins=range(1, data['lncRNA_transcript'].value_counts().max() +1, 2))\n",
    "plt.hist(data.loc[data['subset'] == 'deg lncRNA','lncRNA_transcript'].value_counts(), color='#8DA0CB', \n",
    "        edgecolor='black', linewidth=0.3, bins=range(1,data.loc[data['subset'] == 'deg lncRNA','lncRNA_transcript'].value_counts().max() +1, 2))\n",
    "plt.legend(['lncRNA', 'DElncRNA'], loc='upper right')\n",
    "plt.yscale('log')\n",
    "plt.ylabel('Number of\\nlncRNAs')\n",
    "plt.xlabel('Number of Interaction Partners')\n",
    "plt.tight_layout()\n",
    "\n",
    "plt.savefig('lncRNA_interaction_partners.svg')\n",
    "plt.show()"
   ]
  },
  {
   "cell_type": "code",
   "execution_count": 12,
   "metadata": {},
   "outputs": [
    {
     "data": {
      "text/plain": [
       "27"
      ]
     },
     "execution_count": 12,
     "metadata": {},
     "output_type": "execute_result"
    }
   ],
   "source": [
    "data.loc[data['subset'] == 'deg lncRNA','lncRNA_transcript'].value_counts().max()\n"
   ]
  },
  {
   "cell_type": "markdown",
   "metadata": {},
   "source": [
    "# 2 Distance to Interaction Partner"
   ]
  },
  {
   "cell_type": "code",
   "execution_count": 13,
   "metadata": {},
   "outputs": [
    {
     "name": "stderr",
     "output_type": "stream",
     "text": [
      "/tmp/ipykernel_1531/1741332878.py:5: SettingWithCopyWarning: \n",
      "A value is trying to be set on a copy of a slice from a DataFrame.\n",
      "Try using .loc[row_indexer,col_indexer] = value instead\n",
      "\n",
      "See the caveats in the documentation: https://pandas.pydata.org/pandas-docs/stable/user_guide/indexing.html#returning-a-view-versus-a-copy\n",
      "  datab['adjusted_distance_kb'] = datab.apply(lambda x: x['distance']/1000 if x['location'] == 'upstream' else -x['distance']/1000, axis=1)\n"
     ]
    }
   ],
   "source": [
    "# keep only the best interaction partner'\n",
    "datab = data.loc[data['isBest'] ==1]\n",
    "\n",
    "# Adjust the distance based on the location and convert to kb\n",
    "datab['adjusted_distance_kb'] = datab.apply(lambda x: x['distance']/1000 if x['location'] == 'upstream' else -x['distance']/1000, axis=1)\n"
   ]
  },
  {
   "cell_type": "code",
   "execution_count": 14,
   "metadata": {},
   "outputs": [
    {
     "data": {
      "image/png": "[encoded data removed]",
      "text/plain": [
       "<Figure size 314.961x157.48 with 1 Axes>"
      ]
     },
     "metadata": {},
     "output_type": "display_data"
    }
   ],
   "source": [
    "# PLOT: distance of Interaction partner to lncRNA\n",
    "sns.set_theme(style='whitegrid', palette='colorblind', context='paper', rc={\n",
    "    'axes.labelsize': 8, 'xtick.labelsize': 8, 'ytick.labelsize': 8, 'legend.fontsize': 8, 'legend.title_fontsize': 8, \"axes.formatter.use_mathtext\": True\n",
    "})\n",
    "plt.figure(figsize=((8 / 2.54), (4/ 2.54)))\n",
    "\n",
    "# Plot histogram with thinner edgecolor and alpha\n",
    "plt.hist(datab['adjusted_distance_kb'], bins=30, edgecolor='black', linewidth=0.3, color='#66C2A5')\n",
    "plt.hist(datab.loc[datab['subset'] == 'deg lncRNA', 'adjusted_distance_kb'], bins=30, edgecolor='black', linewidth=0.3, color='#8DA0CB')\n",
    "\n",
    "plt.xlabel('Distance to lncRNA (kb)')\n",
    "plt.ylabel('Number of\\nlncRNAs')\n",
    "\n",
    "plt.yscale('log')\n",
    "# Add labels to the plot\n",
    "plt.axvline(0, color='#FC8D62', linestyle='-')  # vertical line at x=0\n",
    "\n",
    "# Display the plot\n",
    "plt.tight_layout()\n",
    "plt.savefig('lncRNA_interaction_distance.svg')\n",
    "plt.show()\n"
   ]
  },
  {
   "cell_type": "code",
   "execution_count": 15,
   "metadata": {},
   "outputs": [
    {
     "data": {
      "text/plain": [
       "99979"
      ]
     },
     "execution_count": 15,
     "metadata": {},
     "output_type": "execute_result"
    }
   ],
   "source": [
    "data['distance'].max()"
   ]
  },
  {
   "cell_type": "markdown",
   "metadata": {},
   "source": [
    "# 3 Classes of lncRNA"
   ]
  },
  {
   "cell_type": "code",
   "execution_count": 16,
   "metadata": {},
   "outputs": [
    {
     "name": "stderr",
     "output_type": "stream",
     "text": [
      "/tmp/ipykernel_1531/3061571373.py:7: SettingWithCopyWarning: \n",
      "A value is trying to be set on a copy of a slice from a DataFrame.\n",
      "Try using .loc[row_indexer,col_indexer] = value instead\n",
      "\n",
      "See the caveats in the documentation: https://pandas.pydata.org/pandas-docs/stable/user_guide/indexing.html#returning-a-view-versus-a-copy\n",
      "  datab_intergenic['subtype'] = datab_intergenic['subtype'].replace('same_strand', 'same strand')\n",
      "/tmp/ipykernel_1531/3061571373.py:8: SettingWithCopyWarning: \n",
      "A value is trying to be set on a copy of a slice from a DataFrame.\n",
      "Try using .loc[row_indexer,col_indexer] = value instead\n",
      "\n",
      "See the caveats in the documentation: https://pandas.pydata.org/pandas-docs/stable/user_guide/indexing.html#returning-a-view-versus-a-copy\n",
      "  datab_genic['direction'] = datab_genic['direction'].replace('strand_unknow', 'strand unknown')\n"
     ]
    }
   ],
   "source": [
    "# remove lncRNAs with unknown strand information\n",
    "datab = datab.loc[datab['subtype'] != 'unknow strand(s)']\n",
    "# split df into genic and intergenic lncRNAs information for plotting \n",
    "datab_genic = datab.loc[datab['type'] == 'genic']\n",
    "datab_intergenic = datab.loc[datab['type'] == 'intergenic']\n",
    "# rename the value 'same_strand' to 'same strand' for better readability\n",
    "datab_intergenic['subtype'] = datab_intergenic['subtype'].replace('same_strand', 'same strand')\n",
    "datab_genic['direction'] = datab_genic['direction'].replace('strand_unknow', 'strand unknown')"
   ]
  },
  {
   "cell_type": "markdown",
   "metadata": {},
   "source": [
    "# Intergenic"
   ]
  },
  {
   "cell_type": "code",
   "execution_count": 17,
   "metadata": {},
   "outputs": [
    {
     "data": {
      "image/png": "[encoded data removed]",
      "text/plain": [
       "<Figure size 314.961x236.22 with 2 Axes>"
      ]
     },
     "metadata": {},
     "output_type": "display_data"
    }
   ],
   "source": [
    "# Compute the counts for the top and bottom plot\n",
    "counts_top = datab_intergenic.groupby(['subtype', 'direction'])['lncRNA_transcript'].count().unstack().fillna(0)\n",
    "counts_bottom = datab_intergenic.loc[datab_intergenic['subset'] == 'deg lncRNA'].groupby(['subtype', 'direction'])['lncRNA_transcript'].count().unstack().fillna(0)\n",
    "\n",
    "# Create a subplot figure with two rows and one column\n",
    "fig, axes = plt.subplots(nrows=2, ncols=1, figsize=((8/2.54), (6/2.54)))  # Adjust height for two plots\n",
    "\n",
    "# Function to create the bar chart on a given axis\n",
    "def create_bar_chart(ax, counts, ylabel, xlabel=''):\n",
    "    sns.set_theme(style='whitegrid', palette='Set2', context='paper', \n",
    "                  rc={'axes.labelsize': 8, 'xtick.labelsize': 8, 'ytick.labelsize': 8, \n",
    "                      'legend.fontsize': 8, 'legend.title_fontsize': 8, \n",
    "                      \"axes.formatter.use_mathtext\": True})\n",
    "\n",
    "    # Create a color palette for different directions\n",
    "    palette = sns.color_palette(\"Set2\", len(counts.columns))\n",
    "\n",
    "    # Create the horizontal bars with color mapping to df['direction']\n",
    "    bars = []\n",
    "    for idx, (column, color) in enumerate(zip(counts.columns, palette)):\n",
    "        bar = ax.barh(counts.index, counts[column], left=counts.iloc[:, :idx].sum(axis=1), label=column, color=color)\n",
    "        bars.append(bar)\n",
    "\n",
    "    # Labeling the axes\n",
    "    ax.set_ylabel(ylabel)  # y-axis label customized per subplot\n",
    "    ax.set_xlabel(xlabel)  # x-axis label customized per subplot (only for the lower subplot)\n",
    "\n",
    "# Create the plots with different counts data and custom y-axis labels\n",
    "create_bar_chart(axes[0], counts_top, 'LncRNA Inter-\\ngenic Subtypes')\n",
    "create_bar_chart(axes[1], counts_bottom, 'Deg LncRNA Inter-\\ngenic Subtypes', 'Count')\n",
    "\n",
    "# Create a single legend for the whole figure\n",
    "handles, labels = axes[0].get_legend_handles_labels()\n",
    "fig.legend(handles, labels, title=\"Direction\", bbox_to_anchor=(0.5, 1.05), loc='center', ncol=3, columnspacing=.2)\n",
    "\n",
    "# Adjust margins to ensure elements fit well within each subplot\n",
    "fig.subplots_adjust(left=0.25, right=0.8, top=0.85, hspace=0.4)\n",
    "plt.tight_layout(rect=[0, 0, 1, 0.96])  # Adjust tight_layout to leave space for the legend\n",
    "\n",
    "# Save the plot\n",
    "plt.savefig('lncRNA_classes_intergenic_overview.svg', bbox_inches='tight')\n",
    "\n",
    "# Display the plot\n",
    "plt.show()\n"
   ]
  },
  {
   "cell_type": "markdown",
   "metadata": {},
   "source": [
    "# Genic"
   ]
  },
  {
   "cell_type": "code",
   "execution_count": 18,
   "metadata": {},
   "outputs": [
    {
     "data": {
      "image/png": "[encoded data removed]",
      "text/plain": [
       "<Figure size 314.961x236.22 with 2 Axes>"
      ]
     },
     "metadata": {},
     "output_type": "display_data"
    }
   ],
   "source": [
    "# Compute the counts for the top and bottom plot\n",
    "counts_top = datab_genic.groupby(['subtype', 'direction'])['lncRNA_transcript'].count().unstack().fillna(0)\n",
    "counts_bottom = datab_genic.loc[datab_genic['subset'] == 'deg lncRNA'].groupby(['subtype', 'direction'])['lncRNA_transcript'].count().unstack().fillna(0)\n",
    "\n",
    "# Create a subplot figure with two rows and one column\n",
    "fig, axes = plt.subplots(nrows=2, ncols=1, figsize=((8/2.54), (6/2.54)))  # Adjust height for two plots\n",
    "\n",
    "# Function to create the bar chart on a given axis\n",
    "def create_bar_chart(ax, counts, ylabel, xlabel=''):\n",
    "    sns.set_theme(style='whitegrid', palette='Set2', context='paper', \n",
    "                  rc={'axes.labelsize': 8, 'xtick.labelsize': 8, 'ytick.labelsize': 8, \n",
    "                      'legend.fontsize': 8, 'legend.title_fontsize': 8, \n",
    "                      \"axes.formatter.use_mathtext\": True})\n",
    "\n",
    "    # Create a color palette for different directions\n",
    "    palette = sns.color_palette(\"Set2\", len(counts.columns))\n",
    "\n",
    "    # Create the horizontal bars with color mapping to df['direction']\n",
    "    bars = []\n",
    "    for idx, (column, color) in enumerate(zip(counts.columns, palette)):\n",
    "        bar = ax.barh(counts.index, counts[column], left=counts.iloc[:, :idx].sum(axis=1), label=column, color=color)\n",
    "        bars.append(bar)\n",
    "\n",
    "    # Labeling the axes\n",
    "    ax.set_ylabel(ylabel)  # y-axis label customized per subplot\n",
    "    ax.set_xlabel(xlabel)  # x-axis label customized per subplot (only for the lower subplot)\n",
    "\n",
    "# Create the plots with different counts data and custom y-axis labels\n",
    "create_bar_chart(axes[0], counts_top, 'LncRNA Genic\\nSubtypes')\n",
    "create_bar_chart(axes[1], counts_bottom, 'Deg LncRNA\\nGenic Subtypes', 'Count')\n",
    "\n",
    "# Create a single legend for the whole figure\n",
    "handles, labels = axes[0].get_legend_handles_labels()\n",
    "fig.legend(handles, labels, title=\"Direction\", bbox_to_anchor=(0.54, 1.05), loc='center', ncol=3, columnspacing=.1)\n",
    "\n",
    "# Adjust margins to ensure elements fit well within each subplot\n",
    "fig.subplots_adjust(left=0.25, right=0.8, top=0.8, hspace=0.4)\n",
    "plt.tight_layout(rect=[0, 0, 1, 0.96])  # Adjust tight_layout to leave space for the legend\n",
    "\n",
    "# Save the plot\n",
    "plt.savefig('lncRNA_classes_genic_overview.svg', bbox_inches='tight')\n",
    "\n",
    "# Display the plot\n",
    "plt.show()\n"
   ]
  },
  {
   "cell_type": "markdown",
   "metadata": {},
   "source": [
    "# Types of lncRNA"
   ]
  },
  {
   "cell_type": "code",
   "execution_count": 19,
   "metadata": {},
   "outputs": [
    {
     "data": {
      "image/png": "[encoded data removed]",
      "text/plain": [
       "<Figure size 157.48x157.48 with 1 Axes>"
      ]
     },
     "metadata": {},
     "output_type": "display_data"
    }
   ],
   "source": [
    "# Plot the Pie chart\n",
    "sns.set_theme(style='whitegrid', palette='Set2', context='paper', \n",
    "              rc={'axes.labelsize': 8, 'xtick.labelsize': 8, 'ytick.labelsize': 8, \n",
    "                  'legend.fontsize': 8, 'legend.title_fontsize': 8, \n",
    "                  \"axes.formatter.use_mathtext\": True})\n",
    "plt.figure(figsize=((4/2.54), (4/2.54)))\n",
    "plt.pie(datab['type'].value_counts(), autopct='%1.1f%%', \n",
    "        labels=['Intergenic', 'Genic'], colors=['#8DA0CB', '#FC8D62'])\n",
    "# Display the plot\n",
    "plt.tight_layout()\n",
    "plt.savefig('lncRNA_classes_venn.svg')\n",
    "plt.show()"
   ]
  },
  {
   "cell_type": "code",
   "execution_count": 20,
   "metadata": {},
   "outputs": [
    {
     "data": {
      "image/png": "[encoded data removed]",
      "text/plain": [
       "<Figure size 393.701x236.22 with 2 Axes>"
      ]
     },
     "metadata": {},
     "output_type": "display_data"
    }
   ],
   "source": [
    "# Set theme for Seaborn plots\n",
    "sns.set_theme(style='whitegrid', palette='Set2', context='paper',\n",
    "              rc={'axes.labelsize': 8, 'xtick.labelsize': 8, 'ytick.labelsize': 8,\n",
    "                  'legend.fontsize': 8, 'legend.title_fontsize': 8,\n",
    "                  \"axes.formatter.use_mathtext\": True})\n",
    "\n",
    "# Create a figure with 2 subplots\n",
    "fig = plt.figure(figsize=((10 / 2.54), (6 / 2.54)))\n",
    "\n",
    "# Add the pie chart subplot\n",
    "ax1 = fig.add_subplot(1, 3, 1)\n",
    "ax1.pie(datab['type'].value_counts(), autopct='%1.1f%%',\n",
    "        labels=['Inter-\\ngenic', 'Genic'], colors=['#8DA0CB', '#FC8D62'], \n",
    "        labeldistance=1.5, pctdistance=0.5, textprops={'fontsize': 8})\n",
    "ax1.set_title(\"LncRNA\", fontsize=8)\n",
    "\n",
    "# Add the second pie chart subplot\n",
    "ax2 = fig.add_subplot(1, 3, 2)\n",
    "ax2.pie(datab.loc[datab['subset'] == 'deg lncRNA', 'type'].value_counts(), autopct='%1.1f%%',\n",
    "        labels=['Inter-\\ngenic', 'Genic'], colors=['#8DA0CB', '#FC8D62'], \n",
    "        labeldistance=1.5, pctdistance=0.5, textprops={'fontsize': 8})\n",
    "ax2.set_title('Deg LncRNA', fontsize=8)\n",
    "\n",
    "# Adjust layout to prevent overlap and remove white space\n",
    "plt.tight_layout()\n",
    "plt.subplots_adjust(left=0.02, right=0.98, top=0.9, bottom=0.1)\n",
    "\n",
    "# Save the plot with tight bounding box\n",
    "plt.savefig('lncRNA_classes_overview.svg', bbox_inches='tight')\n",
    "\n",
    "# Display the plot\n",
    "plt.show()\n"
   ]
  },
  {
   "cell_type": "markdown",
   "metadata": {},
   "source": [
    "# Match Partner RNA gene ids with DEG up and down for GO term analysis"
   ]
  },
  {
   "cell_type": "code",
   "execution_count": 21,
   "metadata": {},
   "outputs": [],
   "source": [
    "import pandas as pd\n",
    "\n",
    "# Define the file paths\n",
    "file_paths = {\n",
    "    'na_up': '../9_1_dea_lncrna/9_1_2_deg_geneid/deg_data/deg_normoxia_to_anoxia_up.csv',\n",
    "    'na_down': '../9_1_dea_lncrna/9_1_2_deg_geneid/deg_data/deg_normoxia_to_anoxia_down.csv',\n",
    "    'nr_up': '../9_1_dea_lncrna/9_1_2_deg_geneid/deg_data/deg_normoxia_to_reoxygenation_up.csv',\n",
    "    'nr_down': '../9_1_dea_lncrna/9_1_2_deg_geneid/deg_data/deg_normoxia_to_reoxygenation_down.csv',\n",
    "    'ar_up': '../9_1_dea_lncrna/9_1_2_deg_geneid/deg_data/deg_anoxia_to_reoxygenation_up.csv',\n",
    "    'ar_down': '../9_1_dea_lncrna/9_1_2_deg_geneid/deg_data/deg_anoxia_to_reoxygenation_down.csv'\n",
    "}\n",
    "\n",
    "# Define conditions\n",
    "conditions = ['na', 'nr', 'ar']\n",
    "\n",
    "# Read the data files\n",
    "dfs = {key: pd.read_csv(path) for key, path in file_paths.items()}\n",
    "\n",
    "# Process each condition\n",
    "for condition in conditions:\n",
    "    # Concatenate `up` and `down` DataFrames\n",
    "    combined_df = pd.concat([dfs[f'{condition}_up'], dfs[f'{condition}_down']])\n",
    "    \n",
    "    # Apply the `.loc()` filtering\n",
    "    filtered_df = combined_df.loc[combined_df['gene_id'].isin(datab['partnerRNA_gene'])]\n",
    "    \n",
    "    # Export to CSV file\n",
    "    filtered_df.to_csv(f'GO_analysis_input/deg_{condition}_go.csv', index=False)\n"
   ]
  },
  {
   "cell_type": "markdown",
   "metadata": {},
   "source": [
    "# extract all deg lndRNA combined into one file"
   ]
  },
  {
   "cell_type": "code",
   "execution_count": 22,
   "metadata": {},
   "outputs": [],
   "source": [
    "deglncrna = datab.loc[datab['lncRNA_transcript'].str.lower().isin(deg['transcript_id'])]"
   ]
  },
  {
   "cell_type": "code",
   "execution_count": 23,
   "metadata": {},
   "outputs": [],
   "source": [
    "# rename column \n",
    "df = datab.rename(columns={'partnerRNA_gene': 'gene_id'})\n",
    "df['gene_id'].to_csv('GO_analysis_input/lncRNA_deg_geneid.csv', index=False)"
   ]
  },
  {
   "cell_type": "code",
   "execution_count": 24,
   "metadata": {},
   "outputs": [
    {
     "data": {
      "text/html": [
       "<div>\n",
       "<style scoped>\n",
       "    .dataframe tbody tr th:only-of-type {\n",
       "        vertical-align: middle;\n",
       "    }\n",
       "\n",
       "    .dataframe tbody tr th {\n",
       "        vertical-align: top;\n",
       "    }\n",
       "\n",
       "    .dataframe thead th {\n",
       "        text-align: right;\n",
       "    }\n",
       "</style>\n",
       "<table border=\"1\" class=\"dataframe\">\n",
       "  <thead>\n",
       "    <tr style=\"text-align: right;\">\n",
       "      <th></th>\n",
       "      <th>isBest</th>\n",
       "      <th>lncRNA_gene</th>\n",
       "      <th>lncRNA_transcript</th>\n",
       "      <th>gene_id</th>\n",
       "      <th>partnerRNA_transcript</th>\n",
       "      <th>direction</th>\n",
       "      <th>type</th>\n",
       "      <th>distance</th>\n",
       "      <th>subtype</th>\n",
       "      <th>location</th>\n",
       "      <th>subset</th>\n",
       "      <th>adjusted_distance_kb</th>\n",
       "    </tr>\n",
       "  </thead>\n",
       "  <tbody>\n",
       "    <tr>\n",
       "      <th>0</th>\n",
       "      <td>1</td>\n",
       "      <td>STRG.29214</td>\n",
       "      <td>STRG.29214.1</td>\n",
       "      <td>ccar_ua15-g14201</td>\n",
       "      <td>ccar_ua15-g14201.t1</td>\n",
       "      <td>sense</td>\n",
       "      <td>intergenic</td>\n",
       "      <td>1669</td>\n",
       "      <td>same_strand</td>\n",
       "      <td>upstream</td>\n",
       "      <td>deg lncRNA</td>\n",
       "      <td>1.669</td>\n",
       "    </tr>\n",
       "    <tr>\n",
       "      <th>7</th>\n",
       "      <td>1</td>\n",
       "      <td>STRG.19836</td>\n",
       "      <td>STRG.19836.1</td>\n",
       "      <td>ccar_ua09-g9494</td>\n",
       "      <td>ccar_ua09-g9494.t1</td>\n",
       "      <td>antisense</td>\n",
       "      <td>intergenic</td>\n",
       "      <td>20292</td>\n",
       "      <td>divergent</td>\n",
       "      <td>upstream</td>\n",
       "      <td>lncRNA</td>\n",
       "      <td>20.292</td>\n",
       "    </tr>\n",
       "    <tr>\n",
       "      <th>9</th>\n",
       "      <td>1</td>\n",
       "      <td>STRG.35912</td>\n",
       "      <td>STRG.35912.1</td>\n",
       "      <td>ccar_ua18-g17602</td>\n",
       "      <td>ccar_ua18-g17602.t1</td>\n",
       "      <td>antisense</td>\n",
       "      <td>intergenic</td>\n",
       "      <td>1789</td>\n",
       "      <td>divergent</td>\n",
       "      <td>upstream</td>\n",
       "      <td>lncRNA</td>\n",
       "      <td>1.789</td>\n",
       "    </tr>\n",
       "    <tr>\n",
       "      <th>19</th>\n",
       "      <td>1</td>\n",
       "      <td>STRG.9925</td>\n",
       "      <td>STRG.9925.2</td>\n",
       "      <td>ccar_ua04-g4770</td>\n",
       "      <td>ccar_ua04-g4770.t1</td>\n",
       "      <td>antisense</td>\n",
       "      <td>intergenic</td>\n",
       "      <td>54575</td>\n",
       "      <td>convergent</td>\n",
       "      <td>downstream</td>\n",
       "      <td>lncRNA</td>\n",
       "      <td>-54.575</td>\n",
       "    </tr>\n",
       "    <tr>\n",
       "      <th>26</th>\n",
       "      <td>1</td>\n",
       "      <td>STRG.14536</td>\n",
       "      <td>STRG.14536.1</td>\n",
       "      <td>ccar_ua07-g6990</td>\n",
       "      <td>ccar_ua07-g6990.t1</td>\n",
       "      <td>antisense</td>\n",
       "      <td>intergenic</td>\n",
       "      <td>4413</td>\n",
       "      <td>convergent</td>\n",
       "      <td>downstream</td>\n",
       "      <td>lncRNA</td>\n",
       "      <td>-4.413</td>\n",
       "    </tr>\n",
       "    <tr>\n",
       "      <th>...</th>\n",
       "      <td>...</td>\n",
       "      <td>...</td>\n",
       "      <td>...</td>\n",
       "      <td>...</td>\n",
       "      <td>...</td>\n",
       "      <td>...</td>\n",
       "      <td>...</td>\n",
       "      <td>...</td>\n",
       "      <td>...</td>\n",
       "      <td>...</td>\n",
       "      <td>...</td>\n",
       "      <td>...</td>\n",
       "    </tr>\n",
       "    <tr>\n",
       "      <th>113702</th>\n",
       "      <td>1</td>\n",
       "      <td>STRG.63775</td>\n",
       "      <td>STRG.63775.2</td>\n",
       "      <td>ccar_ub10-g32472</td>\n",
       "      <td>ccar_ub10-g32472.t1</td>\n",
       "      <td>sense</td>\n",
       "      <td>intergenic</td>\n",
       "      <td>71325</td>\n",
       "      <td>same_strand</td>\n",
       "      <td>downstream</td>\n",
       "      <td>lncRNA</td>\n",
       "      <td>-71.325</td>\n",
       "    </tr>\n",
       "    <tr>\n",
       "      <th>113710</th>\n",
       "      <td>1</td>\n",
       "      <td>STRG.26917</td>\n",
       "      <td>STRG.26917.1</td>\n",
       "      <td>ccar_ua13-g13129</td>\n",
       "      <td>ccar_ua13-g13129.t1</td>\n",
       "      <td>sense</td>\n",
       "      <td>intergenic</td>\n",
       "      <td>73450</td>\n",
       "      <td>same_strand</td>\n",
       "      <td>downstream</td>\n",
       "      <td>lncRNA</td>\n",
       "      <td>-73.450</td>\n",
       "    </tr>\n",
       "    <tr>\n",
       "      <th>113715</th>\n",
       "      <td>1</td>\n",
       "      <td>STRG.77336</td>\n",
       "      <td>STRG.77336.4</td>\n",
       "      <td>ccar_ub18-g39900</td>\n",
       "      <td>ccar_ub18-g39900.t1.1.6676f68a</td>\n",
       "      <td>antisense</td>\n",
       "      <td>genic</td>\n",
       "      <td>0</td>\n",
       "      <td>overlapping</td>\n",
       "      <td>exonic</td>\n",
       "      <td>lncRNA</td>\n",
       "      <td>0.000</td>\n",
       "    </tr>\n",
       "    <tr>\n",
       "      <th>113731</th>\n",
       "      <td>1</td>\n",
       "      <td>STRG.21062</td>\n",
       "      <td>STRG.21062.1</td>\n",
       "      <td>ccar_ua10-g9988</td>\n",
       "      <td>ccar_ua10-g9988.t1</td>\n",
       "      <td>strand_unknow</td>\n",
       "      <td>genic</td>\n",
       "      <td>0</td>\n",
       "      <td>overlapping</td>\n",
       "      <td>exonic</td>\n",
       "      <td>deg lncRNA</td>\n",
       "      <td>0.000</td>\n",
       "    </tr>\n",
       "    <tr>\n",
       "      <th>113738</th>\n",
       "      <td>1</td>\n",
       "      <td>STRG.9693</td>\n",
       "      <td>STRG.9693.2</td>\n",
       "      <td>ccar_ua04-g4725</td>\n",
       "      <td>ccar_ua04-g4725.t1</td>\n",
       "      <td>antisense</td>\n",
       "      <td>intergenic</td>\n",
       "      <td>15441</td>\n",
       "      <td>convergent</td>\n",
       "      <td>downstream</td>\n",
       "      <td>lncRNA</td>\n",
       "      <td>-15.441</td>\n",
       "    </tr>\n",
       "  </tbody>\n",
       "</table>\n",
       "<p>18775 rows × 12 columns</p>\n",
       "</div>"
      ],
      "text/plain": [
       "        isBest lncRNA_gene lncRNA_transcript           gene_id  \\\n",
       "0            1  STRG.29214      STRG.29214.1  ccar_ua15-g14201   \n",
       "7            1  STRG.19836      STRG.19836.1   ccar_ua09-g9494   \n",
       "9            1  STRG.35912      STRG.35912.1  ccar_ua18-g17602   \n",
       "19           1   STRG.9925       STRG.9925.2   ccar_ua04-g4770   \n",
       "26           1  STRG.14536      STRG.14536.1   ccar_ua07-g6990   \n",
       "...        ...         ...               ...               ...   \n",
       "113702       1  STRG.63775      STRG.63775.2  ccar_ub10-g32472   \n",
       "113710       1  STRG.26917      STRG.26917.1  ccar_ua13-g13129   \n",
       "113715       1  STRG.77336      STRG.77336.4  ccar_ub18-g39900   \n",
       "113731       1  STRG.21062      STRG.21062.1   ccar_ua10-g9988   \n",
       "113738       1   STRG.9693       STRG.9693.2   ccar_ua04-g4725   \n",
       "\n",
       "                 partnerRNA_transcript      direction        type  distance  \\\n",
       "0                  ccar_ua15-g14201.t1          sense  intergenic      1669   \n",
       "7                   ccar_ua09-g9494.t1      antisense  intergenic     20292   \n",
       "9                  ccar_ua18-g17602.t1      antisense  intergenic      1789   \n",
       "19                  ccar_ua04-g4770.t1      antisense  intergenic     54575   \n",
       "26                  ccar_ua07-g6990.t1      antisense  intergenic      4413   \n",
       "...                                ...            ...         ...       ...   \n",
       "113702             ccar_ub10-g32472.t1          sense  intergenic     71325   \n",
       "113710             ccar_ua13-g13129.t1          sense  intergenic     73450   \n",
       "113715  ccar_ub18-g39900.t1.1.6676f68a      antisense       genic         0   \n",
       "113731              ccar_ua10-g9988.t1  strand_unknow       genic         0   \n",
       "113738              ccar_ua04-g4725.t1      antisense  intergenic     15441   \n",
       "\n",
       "            subtype    location      subset  adjusted_distance_kb  \n",
       "0       same_strand    upstream  deg lncRNA                 1.669  \n",
       "7         divergent    upstream      lncRNA                20.292  \n",
       "9         divergent    upstream      lncRNA                 1.789  \n",
       "19       convergent  downstream      lncRNA               -54.575  \n",
       "26       convergent  downstream      lncRNA                -4.413  \n",
       "...             ...         ...         ...                   ...  \n",
       "113702  same_strand  downstream      lncRNA               -71.325  \n",
       "113710  same_strand  downstream      lncRNA               -73.450  \n",
       "113715  overlapping      exonic      lncRNA                 0.000  \n",
       "113731  overlapping      exonic  deg lncRNA                 0.000  \n",
       "113738   convergent  downstream      lncRNA               -15.441  \n",
       "\n",
       "[18775 rows x 12 columns]"
      ]
     },
     "execution_count": 24,
     "metadata": {},
     "output_type": "execute_result"
    }
   ],
   "source": [
    "df"
   ]
  },
  {
   "cell_type": "code",
   "execution_count": null,
   "metadata": {},
   "outputs": [],
   "source": []
  }
 ],
 "metadata": {
  "kernelspec": {
   "display_name": "lncrna",
   "language": "python",
   "name": "python3"
  },
  "language_info": {
   "codemirror_mode": {
    "name": "ipython",
    "version": 3
   },
   "file_extension": ".py",
   "mimetype": "text/x-python",
   "name": "python",
   "nbconvert_exporter": "python",
   "pygments_lexer": "ipython3",
   "version": "3.11.5"
  }
 },
 "nbformat": 4,
 "nbformat_minor": 2
}
