{
 "cells": [
  {
   "cell_type": "code",
   "execution_count": 97,
   "metadata": {},
   "outputs": [],
   "source": [
    "# Load packages \n",
    "import pandas as pd \n",
    "import numpy as np\n",
    "import matplotlib.pyplot as plt\n",
    "import seaborn as sns\n",
    "import matplotlib.pyplot as plt\n",
    "from sklearn.decomposition import PCA\n",
    "from sklearn import preprocessing "
   ]
  },
  {
   "cell_type": "code",
   "execution_count": 98,
   "metadata": {},
   "outputs": [],
   "source": [
    "# Import of Feelnc Classifier output\n",
    "data = pd.read_csv('lncRNA_classes.txt', sep='\\t')\n",
    "\n",
    "# import deg transcript lncRNA\n",
    "deg_na = pd.read_csv('../9_1_dea_lncrna/deg_data/Normoxia to Anoxia_lncrna.csv', sep=',')\n",
    "deg_nr = pd.read_csv('../9_1_dea_lncrna/deg_data/Normoxia to Reoxygenation_lncrna.csv', sep=',')\n",
    "deg_ar = pd.read_csv('../9_1_dea_lncrna/deg_data/Anoxia to Reoxygenation_lncrna.csv', sep=',')\n",
    "deg = pd.concat([deg_na, deg_nr, deg_ar])\n",
    "\n",
    "# Import common 33882 lncRNAs\n",
    "common = pd.read_csv('../6_identify_common_lncRNA/common_lncrna_transcript_id.csv', sep='\\t')"
   ]
  },
  {
   "cell_type": "code",
   "execution_count": 99,
   "metadata": {},
   "outputs": [
    {
     "name": "stderr",
     "output_type": "stream",
     "text": [
      "/tmp/ipykernel_8734/1769169812.py:4: SettingWithCopyWarning: \n",
      "A value is trying to be set on a copy of a slice from a DataFrame\n",
      "\n",
      "See the caveats in the documentation: https://pandas.pydata.org/pandas-docs/stable/user_guide/indexing.html#returning-a-view-versus-a-copy\n",
      "  data['subset'][data['lncRNA_transcript'].str.lower().isin(common['transcript_id'])] = 'lncRNA'\n",
      "/tmp/ipykernel_8734/1769169812.py:5: SettingWithCopyWarning: \n",
      "A value is trying to be set on a copy of a slice from a DataFrame\n",
      "\n",
      "See the caveats in the documentation: https://pandas.pydata.org/pandas-docs/stable/user_guide/indexing.html#returning-a-view-versus-a-copy\n",
      "  data['subset'][data['lncRNA_transcript'].str.lower().isin(deg['transcript_id'])] = 'deg lncRNA'\n"
     ]
    }
   ],
   "source": [
    "# add new column to filter subsets later \n",
    "data['subset'] = 'None'\n",
    "# add subset information to the whole dataframe\n",
    "data['subset'][data['lncRNA_transcript'].str.lower().isin(common['transcript_id'])] = 'lncRNA'\n",
    "data['subset'][data['lncRNA_transcript'].str.lower().isin(deg['transcript_id'])] = 'deg lncRNA'\n",
    "# drop the rows that are not in a subset\n",
    "data.drop(data[data['subset'] == 'None'].index, inplace=True)"
   ]
  },
  {
   "cell_type": "code",
   "execution_count": 100,
   "metadata": {},
   "outputs": [
    {
     "data": {
      "text/plain": [
       "32082"
      ]
     },
     "execution_count": 100,
     "metadata": {},
     "output_type": "execute_result"
    }
   ],
   "source": [
    "len(data['lncRNA_transcript'].unique())"
   ]
  },
  {
   "cell_type": "code",
   "execution_count": 101,
   "metadata": {},
   "outputs": [],
   "source": [
    "num_interaction_partner = data.loc[data['subset'] == 'deg lncRNA']"
   ]
  },
  {
   "cell_type": "code",
   "execution_count": 102,
   "metadata": {},
   "outputs": [
    {
     "data": {
      "text/plain": [
       "3313"
      ]
     },
     "execution_count": 102,
     "metadata": {},
     "output_type": "execute_result"
    }
   ],
   "source": [
    "len(num_interaction_partner['lncRNA_transcript'].drop_duplicates())"
   ]
  },
  {
   "cell_type": "code",
   "execution_count": 103,
   "metadata": {},
   "outputs": [
    {
     "data": {
      "text/plain": [
       "1"
      ]
     },
     "execution_count": 103,
     "metadata": {},
     "output_type": "execute_result"
    }
   ],
   "source": [
    "# show me the minimum interaction partner transcripts \n",
    "num_interaction_partner['lncRNA_transcript'].value_counts().min()"
   ]
  },
  {
   "cell_type": "code",
   "execution_count": 104,
   "metadata": {},
   "outputs": [
    {
     "data": {
      "text/plain": [
       "27"
      ]
     },
     "execution_count": 104,
     "metadata": {},
     "output_type": "execute_result"
    }
   ],
   "source": [
    "# show me the maximum interaction partner transcripts\n",
    "num_interaction_partner['lncRNA_transcript'].value_counts().max()"
   ]
  },
  {
   "cell_type": "code",
   "execution_count": 105,
   "metadata": {},
   "outputs": [
    {
     "data": {
      "text/plain": [
       "2.0"
      ]
     },
     "execution_count": 105,
     "metadata": {},
     "output_type": "execute_result"
    }
   ],
   "source": [
    "# show me median interaction partner transcripts\n",
    "num_interaction_partner['lncRNA_transcript'].value_counts().median()"
   ]
  },
  {
   "cell_type": "code",
   "execution_count": 106,
   "metadata": {},
   "outputs": [
    {
     "data": {
      "text/html": [
       "<div>\n",
       "<style scoped>\n",
       "    .dataframe tbody tr th:only-of-type {\n",
       "        vertical-align: middle;\n",
       "    }\n",
       "\n",
       "    .dataframe tbody tr th {\n",
       "        vertical-align: top;\n",
       "    }\n",
       "\n",
       "    .dataframe thead th {\n",
       "        text-align: right;\n",
       "    }\n",
       "</style>\n",
       "<table border=\"1\" class=\"dataframe\">\n",
       "  <thead>\n",
       "    <tr style=\"text-align: right;\">\n",
       "      <th></th>\n",
       "      <th>isBest</th>\n",
       "      <th>lncRNA_gene</th>\n",
       "      <th>lncRNA_transcript</th>\n",
       "      <th>partnerRNA_gene</th>\n",
       "      <th>partnerRNA_transcript</th>\n",
       "      <th>direction</th>\n",
       "      <th>type</th>\n",
       "      <th>distance</th>\n",
       "      <th>subtype</th>\n",
       "      <th>location</th>\n",
       "      <th>subset</th>\n",
       "    </tr>\n",
       "  </thead>\n",
       "  <tbody>\n",
       "    <tr>\n",
       "      <th>5</th>\n",
       "      <td>1</td>\n",
       "      <td>STRG.38406</td>\n",
       "      <td>STRG.38406.1</td>\n",
       "      <td>ccar_ua20-g18761</td>\n",
       "      <td>ccar_ua20-g18761.t1</td>\n",
       "      <td>strand_unknow</td>\n",
       "      <td>intergenic</td>\n",
       "      <td>695</td>\n",
       "      <td>unknow strand(s)</td>\n",
       "      <td>upstream</td>\n",
       "      <td>deg lncRNA</td>\n",
       "    </tr>\n",
       "    <tr>\n",
       "      <th>128</th>\n",
       "      <td>1</td>\n",
       "      <td>STRG.42763</td>\n",
       "      <td>STRG.42763.2</td>\n",
       "      <td>ccar_ua23-g21278</td>\n",
       "      <td>ccar_ua23-g21278.t1</td>\n",
       "      <td>sense</td>\n",
       "      <td>intergenic</td>\n",
       "      <td>5638</td>\n",
       "      <td>same_strand</td>\n",
       "      <td>downstream</td>\n",
       "      <td>deg lncRNA</td>\n",
       "    </tr>\n",
       "    <tr>\n",
       "      <th>159</th>\n",
       "      <td>1</td>\n",
       "      <td>STRG.46948</td>\n",
       "      <td>STRG.46948.4</td>\n",
       "      <td>ccar_ub01-g23318</td>\n",
       "      <td>ccar_ub01-g23318.t2.1.6676f649</td>\n",
       "      <td>antisense</td>\n",
       "      <td>intergenic</td>\n",
       "      <td>73199</td>\n",
       "      <td>divergent</td>\n",
       "      <td>upstream</td>\n",
       "      <td>deg lncRNA</td>\n",
       "    </tr>\n",
       "    <tr>\n",
       "      <th>191</th>\n",
       "      <td>1</td>\n",
       "      <td>STRG.72209</td>\n",
       "      <td>STRG.72209.4</td>\n",
       "      <td>ccar_ub15-g36988</td>\n",
       "      <td>ccar_ub15-g36988.t1</td>\n",
       "      <td>antisense</td>\n",
       "      <td>intergenic</td>\n",
       "      <td>9014</td>\n",
       "      <td>divergent</td>\n",
       "      <td>upstream</td>\n",
       "      <td>deg lncRNA</td>\n",
       "    </tr>\n",
       "    <tr>\n",
       "      <th>273</th>\n",
       "      <td>1</td>\n",
       "      <td>STRG.22491</td>\n",
       "      <td>STRG.22491.2</td>\n",
       "      <td>ccar_ua11-g10839</td>\n",
       "      <td>ccar_ua11-g10839.t1</td>\n",
       "      <td>antisense</td>\n",
       "      <td>genic</td>\n",
       "      <td>0</td>\n",
       "      <td>overlapping</td>\n",
       "      <td>exonic</td>\n",
       "      <td>deg lncRNA</td>\n",
       "    </tr>\n",
       "    <tr>\n",
       "      <th>...</th>\n",
       "      <td>...</td>\n",
       "      <td>...</td>\n",
       "      <td>...</td>\n",
       "      <td>...</td>\n",
       "      <td>...</td>\n",
       "      <td>...</td>\n",
       "      <td>...</td>\n",
       "      <td>...</td>\n",
       "      <td>...</td>\n",
       "      <td>...</td>\n",
       "      <td>...</td>\n",
       "    </tr>\n",
       "    <tr>\n",
       "      <th>113667</th>\n",
       "      <td>1</td>\n",
       "      <td>STRG.72738</td>\n",
       "      <td>STRG.72738.8</td>\n",
       "      <td>ccar_ub15-g37341</td>\n",
       "      <td>ccar_ub15-g37341.t1</td>\n",
       "      <td>antisense</td>\n",
       "      <td>intergenic</td>\n",
       "      <td>4219</td>\n",
       "      <td>convergent</td>\n",
       "      <td>downstream</td>\n",
       "      <td>deg lncRNA</td>\n",
       "    </tr>\n",
       "    <tr>\n",
       "      <th>113715</th>\n",
       "      <td>1</td>\n",
       "      <td>STRG.77336</td>\n",
       "      <td>STRG.77336.4</td>\n",
       "      <td>ccar_ub18-g39900</td>\n",
       "      <td>ccar_ub18-g39900.t1.1.6676f68a</td>\n",
       "      <td>antisense</td>\n",
       "      <td>genic</td>\n",
       "      <td>0</td>\n",
       "      <td>overlapping</td>\n",
       "      <td>exonic</td>\n",
       "      <td>deg lncRNA</td>\n",
       "    </tr>\n",
       "    <tr>\n",
       "      <th>113729</th>\n",
       "      <td>1</td>\n",
       "      <td>STRG.21594</td>\n",
       "      <td>STRG.21594.1</td>\n",
       "      <td>ccar_ua10-g10304</td>\n",
       "      <td>ccar_ua10-g10304.t1</td>\n",
       "      <td>strand_unknow</td>\n",
       "      <td>intergenic</td>\n",
       "      <td>10596</td>\n",
       "      <td>unknow strand(s)</td>\n",
       "      <td>upstream</td>\n",
       "      <td>deg lncRNA</td>\n",
       "    </tr>\n",
       "    <tr>\n",
       "      <th>113758</th>\n",
       "      <td>1</td>\n",
       "      <td>STRG.19943</td>\n",
       "      <td>STRG.19943.1</td>\n",
       "      <td>ccar_ua09-g9512</td>\n",
       "      <td>ccar_ua09-g9512.t1.4.6676f580</td>\n",
       "      <td>strand_unknow</td>\n",
       "      <td>intergenic</td>\n",
       "      <td>1054</td>\n",
       "      <td>unknow strand(s)</td>\n",
       "      <td>upstream</td>\n",
       "      <td>deg lncRNA</td>\n",
       "    </tr>\n",
       "    <tr>\n",
       "      <th>113764</th>\n",
       "      <td>1</td>\n",
       "      <td>STRG.19095</td>\n",
       "      <td>STRG.19095.1</td>\n",
       "      <td>ccar_ua09-g9299</td>\n",
       "      <td>ccar_ua09-g9299.t1</td>\n",
       "      <td>strand_unknow</td>\n",
       "      <td>intergenic</td>\n",
       "      <td>20428</td>\n",
       "      <td>unknow strand(s)</td>\n",
       "      <td>downstream</td>\n",
       "      <td>deg lncRNA</td>\n",
       "    </tr>\n",
       "  </tbody>\n",
       "</table>\n",
       "<p>3313 rows × 11 columns</p>\n",
       "</div>"
      ],
      "text/plain": [
       "        isBest lncRNA_gene lncRNA_transcript   partnerRNA_gene  \\\n",
       "5            1  STRG.38406      STRG.38406.1  ccar_ua20-g18761   \n",
       "128          1  STRG.42763      STRG.42763.2  ccar_ua23-g21278   \n",
       "159          1  STRG.46948      STRG.46948.4  ccar_ub01-g23318   \n",
       "191          1  STRG.72209      STRG.72209.4  ccar_ub15-g36988   \n",
       "273          1  STRG.22491      STRG.22491.2  ccar_ua11-g10839   \n",
       "...        ...         ...               ...               ...   \n",
       "113667       1  STRG.72738      STRG.72738.8  ccar_ub15-g37341   \n",
       "113715       1  STRG.77336      STRG.77336.4  ccar_ub18-g39900   \n",
       "113729       1  STRG.21594      STRG.21594.1  ccar_ua10-g10304   \n",
       "113758       1  STRG.19943      STRG.19943.1   ccar_ua09-g9512   \n",
       "113764       1  STRG.19095      STRG.19095.1   ccar_ua09-g9299   \n",
       "\n",
       "                 partnerRNA_transcript      direction        type  distance  \\\n",
       "5                  ccar_ua20-g18761.t1  strand_unknow  intergenic       695   \n",
       "128                ccar_ua23-g21278.t1          sense  intergenic      5638   \n",
       "159     ccar_ub01-g23318.t2.1.6676f649      antisense  intergenic     73199   \n",
       "191                ccar_ub15-g36988.t1      antisense  intergenic      9014   \n",
       "273                ccar_ua11-g10839.t1      antisense       genic         0   \n",
       "...                                ...            ...         ...       ...   \n",
       "113667             ccar_ub15-g37341.t1      antisense  intergenic      4219   \n",
       "113715  ccar_ub18-g39900.t1.1.6676f68a      antisense       genic         0   \n",
       "113729             ccar_ua10-g10304.t1  strand_unknow  intergenic     10596   \n",
       "113758   ccar_ua09-g9512.t1.4.6676f580  strand_unknow  intergenic      1054   \n",
       "113764              ccar_ua09-g9299.t1  strand_unknow  intergenic     20428   \n",
       "\n",
       "                 subtype    location      subset  \n",
       "5       unknow strand(s)    upstream  deg lncRNA  \n",
       "128          same_strand  downstream  deg lncRNA  \n",
       "159            divergent    upstream  deg lncRNA  \n",
       "191            divergent    upstream  deg lncRNA  \n",
       "273          overlapping      exonic  deg lncRNA  \n",
       "...                  ...         ...         ...  \n",
       "113667        convergent  downstream  deg lncRNA  \n",
       "113715       overlapping      exonic  deg lncRNA  \n",
       "113729  unknow strand(s)    upstream  deg lncRNA  \n",
       "113758  unknow strand(s)    upstream  deg lncRNA  \n",
       "113764  unknow strand(s)  downstream  deg lncRNA  \n",
       "\n",
       "[3313 rows x 11 columns]"
      ]
     },
     "execution_count": 106,
     "metadata": {},
     "output_type": "execute_result"
    }
   ],
   "source": [
    "num_interaction_partner.loc[num_interaction_partner['isBest'] ==1]"
   ]
  },
  {
   "cell_type": "code",
   "execution_count": 107,
   "metadata": {},
   "outputs": [],
   "source": [
    "# export the transcript id's of the interaction partners for the subset of deg lncRNAs\n",
    "num_interaction_partner.to_csv('deg_lncrna_interaction_partners.txt', sep='\\t', index=False)"
   ]
  },
  {
   "cell_type": "markdown",
   "metadata": {},
   "source": [
    "# 1 Number of Interaction partners found"
   ]
  },
  {
   "cell_type": "code",
   "execution_count": 108,
   "metadata": {},
   "outputs": [
    {
     "data": {
      "image/png": "[encoded data removed]",
      "text/plain": [
       "<Figure size 314.961x157.48 with 1 Axes>"
      ]
     },
     "metadata": {},
     "output_type": "display_data"
    }
   ],
   "source": [
    "# PLOT: distance of Interaction partner to lncRNA\n",
    "sns.set_theme(style='whitegrid', palette='colorblind', context='paper', rc={\n",
    "    'axes.labelsize': 8, 'xtick.labelsize': 8, 'ytick.labelsize': 8, 'legend.fontsize': 8, 'legend.title_fontsize': 8, \"axes.formatter.use_mathtext\": True\n",
    "})\n",
    "plt.figure(figsize=((8 / 2.54), (4 / 2.54)))\n",
    "plt.hist(data['lncRNA_transcript'].value_counts(), color='#66C2A5', edgecolor='black', linewidth=0.3, bins=range(1, data['lncRNA_transcript'].value_counts().max() +1, 2))\n",
    "plt.hist(data.loc[data['subset'] == 'deg lncRNA','lncRNA_transcript'].value_counts(), color='#8DA0CB', \n",
    "        edgecolor='black', linewidth=0.3, bins=range(1,data.loc[data['subset'] == 'deg lncRNA','lncRNA_transcript'].value_counts().max() +1, 2))\n",
    "plt.legend(['lncRNA', 'DElncRNA'], loc='upper right')\n",
    "plt.yscale('log')\n",
    "plt.ylabel('Number of\\nlncRNAs')\n",
    "plt.xlabel('Number of Interaction Partners')\n",
    "plt.tight_layout()\n",
    "\n",
    "plt.savefig('lncRNA_interaction_partners.svg')\n",
    "plt.show()"
   ]
  },
  {
   "cell_type": "code",
   "execution_count": 109,
   "metadata": {},
   "outputs": [
    {
     "data": {
      "text/plain": [
       "27"
      ]
     },
     "execution_count": 109,
     "metadata": {},
     "output_type": "execute_result"
    }
   ],
   "source": [
    "data.loc[data['subset'] == 'deg lncRNA','lncRNA_transcript'].value_counts().max()\n"
   ]
  },
  {
   "cell_type": "markdown",
   "metadata": {},
   "source": [
    "# 2 Distance to Interaction Partner"
   ]
  },
  {
   "cell_type": "code",
   "execution_count": 110,
   "metadata": {},
   "outputs": [
    {
     "name": "stderr",
     "output_type": "stream",
     "text": [
      "/tmp/ipykernel_8734/1741332878.py:5: SettingWithCopyWarning: \n",
      "A value is trying to be set on a copy of a slice from a DataFrame.\n",
      "Try using .loc[row_indexer,col_indexer] = value instead\n",
      "\n",
      "See the caveats in the documentation: https://pandas.pydata.org/pandas-docs/stable/user_guide/indexing.html#returning-a-view-versus-a-copy\n",
      "  datab['adjusted_distance_kb'] = datab.apply(lambda x: x['distance']/1000 if x['location'] == 'upstream' else -x['distance']/1000, axis=1)\n"
     ]
    }
   ],
   "source": [
    "# keep only the best interaction partner'\n",
    "datab = data.loc[data['isBest'] ==1]\n",
    "\n",
    "# Adjust the distance based on the location and convert to kb\n",
    "datab['adjusted_distance_kb'] = datab.apply(lambda x: x['distance']/1000 if x['location'] == 'upstream' else -x['distance']/1000, axis=1)\n"
   ]
  },
  {
   "cell_type": "code",
   "execution_count": 111,
   "metadata": {},
   "outputs": [
    {
     "data": {
      "image/png": "[encoded data removed]",
      "text/plain": [
       "<Figure size 314.961x157.48 with 1 Axes>"
      ]
     },
     "metadata": {},
     "output_type": "display_data"
    }
   ],
   "source": [
    "# PLOT: distance of Interaction partner to lncRNA\n",
    "sns.set_theme(style='whitegrid', palette='colorblind', context='paper', rc={\n",
    "    'axes.labelsize': 8, 'xtick.labelsize': 8, 'ytick.labelsize': 8, 'legend.fontsize': 8, 'legend.title_fontsize': 8, \"axes.formatter.use_mathtext\": True\n",
    "})\n",
    "plt.figure(figsize=((8 / 2.54), (4/ 2.54)))\n",
    "\n",
    "# Plot histogram with thinner edgecolor and alpha\n",
    "plt.hist(datab['adjusted_distance_kb'], bins=30, edgecolor='black', linewidth=0.3, color='#66C2A5')\n",
    "plt.hist(datab.loc[datab['subset'] == 'deg lncRNA', 'adjusted_distance_kb'], bins=30, edgecolor='black', linewidth=0.3, color='#8DA0CB')\n",
    "\n",
    "plt.xlabel('Distance to lncRNA (kb)')\n",
    "plt.ylabel('Number of\\nlncRNAs')\n",
    "\n",
    "plt.yscale('log')\n",
    "# Add labels to the plot\n",
    "plt.axvline(0, color='#FC8D62', linestyle='-')  # vertical line at x=0\n",
    "\n",
    "# Display the plot\n",
    "plt.tight_layout()\n",
    "plt.savefig('lncRNA_interaction_distance.svg')\n",
    "plt.show()\n"
   ]
  },
  {
   "cell_type": "code",
   "execution_count": 112,
   "metadata": {},
   "outputs": [
    {
     "data": {
      "text/plain": [
       "99979"
      ]
     },
     "execution_count": 112,
     "metadata": {},
     "output_type": "execute_result"
    }
   ],
   "source": [
    "data['distance'].max()"
   ]
  },
  {
   "cell_type": "markdown",
   "metadata": {},
   "source": [
    "# 3 Classes of lncRNA"
   ]
  },
  {
   "cell_type": "code",
   "execution_count": 113,
   "metadata": {},
   "outputs": [
    {
     "name": "stderr",
     "output_type": "stream",
     "text": [
      "/tmp/ipykernel_8734/3061571373.py:7: SettingWithCopyWarning: \n",
      "A value is trying to be set on a copy of a slice from a DataFrame.\n",
      "Try using .loc[row_indexer,col_indexer] = value instead\n",
      "\n",
      "See the caveats in the documentation: https://pandas.pydata.org/pandas-docs/stable/user_guide/indexing.html#returning-a-view-versus-a-copy\n",
      "  datab_intergenic['subtype'] = datab_intergenic['subtype'].replace('same_strand', 'same strand')\n",
      "/tmp/ipykernel_8734/3061571373.py:8: SettingWithCopyWarning: \n",
      "A value is trying to be set on a copy of a slice from a DataFrame.\n",
      "Try using .loc[row_indexer,col_indexer] = value instead\n",
      "\n",
      "See the caveats in the documentation: https://pandas.pydata.org/pandas-docs/stable/user_guide/indexing.html#returning-a-view-versus-a-copy\n",
      "  datab_genic['direction'] = datab_genic['direction'].replace('strand_unknow', 'strand unknown')\n"
     ]
    }
   ],
   "source": [
    "# remove lncRNAs with unknown strand information\n",
    "datab = datab.loc[datab['subtype'] != 'unknow strand(s)']\n",
    "# split df into genic and intergenic lncRNAs information for plotting \n",
    "datab_genic = datab.loc[datab['type'] == 'genic']\n",
    "datab_intergenic = datab.loc[datab['type'] == 'intergenic']\n",
    "# rename the value 'same_strand' to 'same strand' for better readability\n",
    "datab_intergenic['subtype'] = datab_intergenic['subtype'].replace('same_strand', 'same strand')\n",
    "datab_genic['direction'] = datab_genic['direction'].replace('strand_unknow', 'strand unknown')"
   ]
  },
  {
   "cell_type": "code",
   "execution_count": 114,
   "metadata": {},
   "outputs": [
    {
     "data": {
      "text/plain": [
       "2277"
      ]
     },
     "execution_count": 114,
     "metadata": {},
     "output_type": "execute_result"
    }
   ],
   "source": [
    "delnc = datab.loc[datab['subset'] == 'deg lncRNA']\n",
    "len(delnc['lncRNA_transcript'].drop_duplicates())"
   ]
  },
  {
   "cell_type": "code",
   "execution_count": 115,
   "metadata": {},
   "outputs": [
    {
     "data": {
      "text/plain": [
       "16498"
      ]
     },
     "execution_count": 115,
     "metadata": {},
     "output_type": "execute_result"
    }
   ],
   "source": [
    "lnc = datab.loc[datab['subset'] == 'lncRNA']\n",
    "len(lnc['lncRNA_transcript'].drop_duplicates())"
   ]
  },
  {
   "cell_type": "markdown",
   "metadata": {},
   "source": [
    "# 4 Intergenic"
   ]
  },
  {
   "cell_type": "code",
   "execution_count": 116,
   "metadata": {},
   "outputs": [
    {
     "data": {
      "image/png": "[encoded data removed]",
      "text/plain": [
       "<Figure size 314.961x236.22 with 2 Axes>"
      ]
     },
     "metadata": {},
     "output_type": "display_data"
    }
   ],
   "source": [
    "# Compute the counts for the top and bottom plot\n",
    "counts_top = datab_intergenic.groupby(['subtype', 'direction'])['lncRNA_transcript'].count().unstack().fillna(0)\n",
    "counts_bottom = datab_intergenic.loc[datab_intergenic['subset'] == 'deg lncRNA'].groupby(['subtype', 'direction'])['lncRNA_transcript'].count().unstack().fillna(0)\n",
    "\n",
    "# Create a subplot figure with two rows and one column\n",
    "fig, axes = plt.subplots(nrows=2, ncols=1, figsize=((8/2.54), (6/2.54)))  # Adjust height for two plots\n",
    "\n",
    "# Function to create the bar chart on a given axis\n",
    "def create_bar_chart(ax, counts, ylabel, xlabel=''):\n",
    "    sns.set_theme(style='whitegrid', palette='Set2', context='paper', \n",
    "                  rc={'axes.labelsize': 8, 'xtick.labelsize': 8, 'ytick.labelsize': 8, \n",
    "                      'legend.fontsize': 8, 'legend.title_fontsize': 8, \n",
    "                      \"axes.formatter.use_mathtext\": True})\n",
    "\n",
    "    # Create a color palette for different directions\n",
    "    palette = sns.color_palette(\"Set2\", len(counts.columns))\n",
    "\n",
    "    # Create the horizontal bars with color mapping to df['direction']\n",
    "    bars = []\n",
    "    for idx, (column, color) in enumerate(zip(counts.columns, palette)):\n",
    "        bar = ax.barh(counts.index, counts[column], left=counts.iloc[:, :idx].sum(axis=1), label=column, color=color)\n",
    "        bars.append(bar)\n",
    "\n",
    "    # Labeling the axes\n",
    "    ax.set_ylabel(ylabel)  # y-axis label customized per subplot\n",
    "    ax.set_xlabel(xlabel)  # x-axis label customized per subplot (only for the lower subplot)\n",
    "\n",
    "# Create the plots with different counts data and custom y-axis labels\n",
    "create_bar_chart(axes[0], counts_top, 'LncRNA Inter-\\ngenic Subtypes')\n",
    "create_bar_chart(axes[1], counts_bottom, 'DELncRNA Inter-\\ngenic Subtypes', 'Count')\n",
    "\n",
    "# Create a single legend for the whole figure\n",
    "handles, labels = axes[0].get_legend_handles_labels()\n",
    "fig.legend(handles, labels, title=\"Direction\", bbox_to_anchor=(0.5, 1.05), loc='center', ncol=3, columnspacing=.2)\n",
    "\n",
    "# Adjust margins to ensure elements fit well within each subplot\n",
    "fig.subplots_adjust(left=0.25, right=0.8, top=0.85, hspace=0.4)\n",
    "plt.tight_layout(rect=[0, 0, 1, 0.96])  # Adjust tight_layout to leave space for the legend\n",
    "\n",
    "# Save the plot\n",
    "plt.savefig('lncRNA_classes_intergenic_overview.svg', bbox_inches='tight')\n",
    "\n",
    "# Display the plot\n",
    "plt.show()\n"
   ]
  },
  {
   "cell_type": "markdown",
   "metadata": {},
   "source": [
    "# 5 Genic"
   ]
  },
  {
   "cell_type": "code",
   "execution_count": 117,
   "metadata": {},
   "outputs": [
    {
     "data": {
      "image/png": "[encoded data removed]",
      "text/plain": [
       "<Figure size 314.961x236.22 with 2 Axes>"
      ]
     },
     "metadata": {},
     "output_type": "display_data"
    }
   ],
   "source": [
    "# Compute the counts for the top and bottom plot\n",
    "counts_top = datab_genic.groupby(['subtype', 'direction'])['lncRNA_transcript'].count().unstack().fillna(0)\n",
    "counts_bottom = datab_genic.loc[datab_genic['subset'] == 'deg lncRNA'].groupby(['subtype', 'direction'])['lncRNA_transcript'].count().unstack().fillna(0)\n",
    "\n",
    "# Create a subplot figure with two rows and one column\n",
    "fig, axes = plt.subplots(nrows=2, ncols=1, figsize=((8/2.54), (6/2.54)))  # Adjust height for two plots\n",
    "\n",
    "# Function to create the bar chart on a given axis\n",
    "def create_bar_chart(ax, counts, ylabel, xlabel=''):\n",
    "    sns.set_theme(style='whitegrid', palette='Set2', context='paper', \n",
    "                  rc={'axes.labelsize': 8, 'xtick.labelsize': 8, 'ytick.labelsize': 8, \n",
    "                      'legend.fontsize': 8, 'legend.title_fontsize': 8, \n",
    "                      \"axes.formatter.use_mathtext\": True})\n",
    "\n",
    "    # Create a color palette for different directions\n",
    "    palette = sns.color_palette(\"Set2\", len(counts.columns))\n",
    "\n",
    "    # Create the horizontal bars with color mapping to df['direction']\n",
    "    bars = []\n",
    "    for idx, (column, color) in enumerate(zip(counts.columns, palette)):\n",
    "        bar = ax.barh(counts.index, counts[column], left=counts.iloc[:, :idx].sum(axis=1), label=column, color=color)\n",
    "        bars.append(bar)\n",
    "\n",
    "    # Labeling the axes\n",
    "    ax.set_ylabel(ylabel)  # y-axis label customized per subplot\n",
    "    ax.set_xlabel(xlabel)  # x-axis label customized per subplot (only for the lower subplot)\n",
    "\n",
    "# Create the plots with different counts data and custom y-axis labels\n",
    "create_bar_chart(axes[0], counts_top, 'LncRNA Genic\\nSubtypes')\n",
    "create_bar_chart(axes[1], counts_bottom, 'DELncRNA\\nGenic Subtypes', 'Count')\n",
    "\n",
    "# Create a single legend for the whole figure\n",
    "handles, labels = axes[0].get_legend_handles_labels()\n",
    "fig.legend(handles, labels, title=\"Direction\", bbox_to_anchor=(0.54, 1.05), loc='center', ncol=3, columnspacing=.1)\n",
    "\n",
    "# Adjust margins to ensure elements fit well within each subplot\n",
    "fig.subplots_adjust(left=0.25, right=0.8, top=0.8, hspace=0.4)\n",
    "plt.tight_layout(rect=[0, 0, 1, 0.96])  # Adjust tight_layout to leave space for the legend\n",
    "\n",
    "# Save the plot\n",
    "plt.savefig('lncRNA_classes_genic_overview.svg', bbox_inches='tight')\n",
    "\n",
    "# Display the plot\n",
    "plt.show()\n"
   ]
  },
  {
   "cell_type": "markdown",
   "metadata": {},
   "source": [
    "# 6 Types of lncRNA"
   ]
  },
  {
   "cell_type": "code",
   "execution_count": 118,
   "metadata": {},
   "outputs": [
    {
     "data": {
      "image/png": "[encoded data removed]",
      "text/plain": [
       "<Figure size 157.48x157.48 with 1 Axes>"
      ]
     },
     "metadata": {},
     "output_type": "display_data"
    }
   ],
   "source": [
    "# Plot the Pie chart\n",
    "sns.set_theme(style='whitegrid', palette='Set2', context='paper', \n",
    "              rc={'axes.labelsize': 8, 'xtick.labelsize': 8, 'ytick.labelsize': 8, \n",
    "                  'legend.fontsize': 8, 'legend.title_fontsize': 8, \n",
    "                  \"axes.formatter.use_mathtext\": True})\n",
    "plt.figure(figsize=((4/2.54), (4/2.54)))\n",
    "plt.pie(datab['type'].value_counts(), autopct='%1.1f%%', \n",
    "        labels=['Intergenic', 'Genic'], colors=['#8DA0CB', '#FC8D62'])\n",
    "# Display the plot\n",
    "plt.tight_layout()\n",
    "plt.savefig('lncRNA_classes_venn.svg')\n",
    "plt.show()"
   ]
  },
  {
   "cell_type": "code",
   "execution_count": 119,
   "metadata": {},
   "outputs": [
    {
     "data": {
      "image/png": "[encoded data removed]",
      "text/plain": [
       "<Figure size 393.701x236.22 with 2 Axes>"
      ]
     },
     "metadata": {},
     "output_type": "display_data"
    }
   ],
   "source": [
    "# Set theme for Seaborn plots\n",
    "sns.set_theme(style='whitegrid', palette='Set2', context='paper',\n",
    "              rc={'axes.labelsize': 8, 'xtick.labelsize': 8, 'ytick.labelsize': 8,\n",
    "                  'legend.fontsize': 8, 'legend.title_fontsize': 8,\n",
    "                  \"axes.formatter.use_mathtext\": True})\n",
    "\n",
    "# Create a figure with 2 subplots\n",
    "fig = plt.figure(figsize=((10 / 2.54), (6 / 2.54)))\n",
    "\n",
    "# Add the pie chart subplot\n",
    "ax1 = fig.add_subplot(1, 3, 1)\n",
    "ax1.pie(datab['type'].value_counts(), autopct='%1.1f%%',\n",
    "        labels=['Inter-\\ngenic', 'Genic'], colors=['#8DA0CB', '#FC8D62'], \n",
    "        labeldistance=1.5, pctdistance=0.5, textprops={'fontsize': 8})\n",
    "ax1.set_title(\"LncRNA\", fontsize=8)\n",
    "\n",
    "# Add the second pie chart subplot\n",
    "ax2 = fig.add_subplot(1, 3, 2)\n",
    "ax2.pie(datab.loc[datab['subset'] == 'deg lncRNA', 'type'].value_counts(), autopct='%1.1f%%',\n",
    "        labels=['Inter-\\ngenic', 'Genic'], colors=['#8DA0CB', '#FC8D62'], \n",
    "        labeldistance=1.5, pctdistance=0.5, textprops={'fontsize': 8})\n",
    "ax2.set_title('Deg LncRNA', fontsize=8)\n",
    "\n",
    "# Adjust layout to prevent overlap and remove white space\n",
    "plt.tight_layout()\n",
    "plt.subplots_adjust(left=0.02, right=0.98, top=0.9, bottom=0.1)\n",
    "\n",
    "# Save the plot with tight bounding box\n",
    "plt.savefig('lncRNA_classes_overview.svg', bbox_inches='tight')\n",
    "\n",
    "# Display the plot\n",
    "plt.show()\n"
   ]
  },
  {
   "cell_type": "markdown",
   "metadata": {},
   "source": [
    "# 7 Heatmap for delncRNA"
   ]
  },
  {
   "cell_type": "code",
   "execution_count": 120,
   "metadata": {},
   "outputs": [],
   "source": [
    "delnc\n",
    "# export the subset of deg lncRNAs\n",
    "delnc.to_csv('10_3_deg_lncRNA_interactionpartners/delncrna_interaction_partners.txt', sep='\\t', index=False)"
   ]
  },
  {
   "cell_type": "code",
   "execution_count": 121,
   "metadata": {},
   "outputs": [],
   "source": [
    "# import transcript expression information - gene matrix count \n",
    "expr_trans = pd.read_csv('../10_lncRNA_classification/10_2_expression_for_heatmap/10_2_2_expression_transcript/gene_matrix_count.csv')\n",
    "# import gene expression information - gene matrix count \n",
    "expr_gene = pd.read_csv('../10_lncRNA_classification/10_2_expression_for_heatmap/10_2_1_expression_gene/gene_matrix_count.csv')"
   ]
  },
  {
   "cell_type": "code",
   "execution_count": 122,
   "metadata": {},
   "outputs": [],
   "source": [
    "# filter the gene matrix trandcript expression data for the interaction partners of the deg lncRNAs\n",
    "expr_trans = expr_trans.loc[expr_trans['Geneid'].isin(delnc['partnerRNA_transcript'])]\n",
    "expr_gene = expr_gene.loc[expr_gene['Geneid'].isin(delnc['partnerRNA_gene'])]\n",
    "# set Geneid as index\n",
    "expr_trans = expr_trans.set_index('Geneid')\n",
    "expr_gene = expr_gene.set_index('Geneid')\n",
    "# filter to only keep rows if they have more than 50 reads\n",
    "expr_trans = expr_trans[(expr_trans.sum(axis=1) >= 50)]\n",
    "expr_gene = expr_gene[(expr_gene.sum(axis=1) >= 50)]\n",
    "# Specify the desired column order\n",
    "column_order = ['N14', 'N15', 'N16', 'N17', 'N18', 'N21', 'A1', 'A2', 'A3', 'A4', 'A5', 'A6', 'R8', 'R9', 'R10', 'R11', 'R12', 'R13']\n",
    "# Reorder the dataframe columns\n",
    "expr_trans = expr_trans.reindex(columns=column_order)\n",
    "expr_gene = expr_gene.reindex(columns=column_order)"
   ]
  },
  {
   "cell_type": "markdown",
   "metadata": {},
   "source": [
    "## Heatmap lncRNA interaction partner - GENE level "
   ]
  },
  {
   "cell_type": "code",
   "execution_count": 123,
   "metadata": {},
   "outputs": [
    {
     "name": "stderr",
     "output_type": "stream",
     "text": [
      "/home/maggy/anaconda3/envs/lncrna/lib/python3.11/site-packages/seaborn/matrix.py:560: UserWarning: Clustering large matrix with scipy. Installing `fastcluster` may give better performance.\n",
      "  warnings.warn(msg)\n",
      "/tmp/ipykernel_8734/1038577640.py:17: UserWarning: Tight layout not applied. tight_layout cannot make axes height small enough to accommodate all axes decorations.\n",
      "  plt.tight_layout()\n",
      "/tmp/ipykernel_8734/1038577640.py:17: UserWarning: The figure layout has changed to tight\n",
      "  plt.tight_layout()\n"
     ]
    },
    {
     "data": {
      "image/png": "[encoded data removed]",
      "text/plain": [
       "<Figure size 669.291x236.22 with 4 Axes>"
      ]
     },
     "metadata": {},
     "output_type": "display_data"
    }
   ],
   "source": [
    "# Set the theme and context\n",
    "sns.set_theme(style='whitegrid', context='paper', \n",
    "              rc={'axes.labelsize': 8, 'xtick.labelsize': 8, 'ytick.labelsize': 8,\n",
    "                  'legend.fontsize': 8, 'legend.title_fontsize': 8})\n",
    "\n",
    "# Create the clustermap\n",
    "g = sns.clustermap(expr_gene, figsize=(17/2.54, 6/2.54), z_score=0, yticklabels=False,\n",
    "                   cmap='vlag', col_cluster=False, cbar_pos=(0.1, -0.1, 0.2, .1),\n",
    "                   cbar_kws={'label': 'Gene expression', 'orientation':'horizontal'}, dendrogram_ratio=(0.1, 0.05))\n",
    "\n",
    "# Set axis labels\n",
    "g.ax_heatmap.set_xlabel('Samples')\n",
    "g.ax_heatmap.set_ylabel('Genes')\n",
    "# Hide the row dendrogram\n",
    "g.ax_row_dendrogram.set_visible(False)\n",
    "# Adjust layout\n",
    "plt.tight_layout()\n",
    "#Export as SVG\n",
    "g.savefig('lncRNA_interactionpartner_expression_genes.svg')\n",
    "g.savefig('lncRNA_interactionpartner_expression_genes.png', dpi=600)\n"
   ]
  },
  {
   "cell_type": "markdown",
   "metadata": {},
   "source": [
    "# 8 PCA plot of the DElncRNA interaction partners"
   ]
  },
  {
   "cell_type": "code",
   "execution_count": 124,
   "metadata": {},
   "outputs": [],
   "source": [
    "sex = pd.Series({\n",
    "    'A1': 'male', \n",
    "    'A2': 'male', \n",
    "    'A3': 'male', \n",
    "    'A4': 'female', \n",
    "    'A5': 'male', \n",
    "    'A6': 'female', \n",
    "    'R8': 'male', \n",
    "    'R9': 'female', \n",
    "    'R10': 'male', \n",
    "    'R11': 'male', \n",
    "    'R12': 'male', \n",
    "    'R13': 'male', \n",
    "    'N14': 'female', \n",
    "    'N15': 'male', \n",
    "    'N16': 'female', \n",
    "    'N17': 'male', \n",
    "    'N18': 'female', \n",
    "    'N21': 'male'\n",
    "})\n",
    "sex_binary = pd.Series({key: 0 if value == 'male' else 1 for key, value in sex.items()})\n",
    "\n",
    "# reset indx and transform \n",
    "expr_gene = expr_gene.T\n",
    "expr_gene['sex'] = sex_binary[expr_gene.index]\n",
    "sex = sex[expr_gene.index]"
   ]
  },
  {
   "cell_type": "code",
   "execution_count": 125,
   "metadata": {},
   "outputs": [
    {
     "name": "stdout",
     "output_type": "stream",
     "text": [
      "[0.39915253 0.20919287]\n"
     ]
    }
   ],
   "source": [
    "# use standard Scaler from sklearn preprocessing to scale the data\n",
    "scaler = preprocessing.StandardScaler()\n",
    "X_scaled  = scaler.fit_transform(expr_gene)\n",
    "\n",
    "# decomposition from many components to only 2 (to be able to plot it) \n",
    "pca = PCA(n_components=2)\n",
    "expr_gene_transfomred = pca.fit_transform(X_scaled)\n",
    "# print the explained variance ratio\n",
    "print(pca.explained_variance_ratio_)"
   ]
  },
  {
   "cell_type": "code",
   "execution_count": 126,
   "metadata": {},
   "outputs": [],
   "source": [
    "# convert the sample names to uniform condition names for plot legend \n",
    "def transform_index_to_number(sample:str)->int:\n",
    "    \"\"\"Transform the index of the counts dataframe to a number\"\"\"\n",
    "    if sample.startswith('N'):\n",
    "        return 'Normoxia'\n",
    "    elif sample.startswith('A'):\n",
    "        return 'Anoxia'\n",
    "    elif sample.startswith('R'):\n",
    "        return 'Reoxygenation'\n",
    "\n",
    "colors = expr_gene.index.map(transform_index_to_number)"
   ]
  },
  {
   "cell_type": "code",
   "execution_count": 127,
   "metadata": {},
   "outputs": [
    {
     "data": {
      "image/png": "[encoded data removed]",
      "text/plain": [
       "<Figure size 275.591x177.165 with 1 Axes>"
      ]
     },
     "metadata": {},
     "output_type": "display_data"
    }
   ],
   "source": [
    "# PLOT \n",
    "sns.set_theme(palette = 'Set2', style = 'whitegrid', context='paper', rc={'axes.labelsize':8, 'xtick.labelsize':8, 'ytick.labelsize':8, 'legend.fontsize':8, 'legend.title_fontsize':8})\n",
    "plt.figure(figsize=((7/2.54), (4.5/2.54)))\n",
    "g = sns.scatterplot(x=expr_gene_transfomred[:,0], y=expr_gene_transfomred[:,1], hue=colors, hue_order=['Normoxia', 'Anoxia', 'Reoxygenation'], s=30, style=sex.values, markers=['o', 'X'])\n",
    "sns.move_legend(g,  markerscale=0.9, loc='lower right', ncol=3, bbox_to_anchor=(1, 1.05), frameon=True, columnspacing=0.2, scatteryoffsets=[0.6], handletextpad=0.01, borderaxespad=0.1)\n",
    "\n",
    "#g.add_legend(title='', fontsize=8, loc='upper center', borderaxespad=0.1, ncol=2, bbox_to_anchor=(.33, 0.02), frameon=True)\n",
    "plt.xlabel(f'PC1 ({pca.explained_variance_ratio_[0]:.1%})')\n",
    "plt.ylabel(f'PC2 ({pca.explained_variance_ratio_[1]:.1%})')\n",
    "\n",
    "plt.tight_layout()\n",
    "# export \n",
    "plt.savefig('PCA_clustering_DElncRNAinteractionpartner.svg')"
   ]
  },
  {
   "cell_type": "code",
   "execution_count": null,
   "metadata": {},
   "outputs": [],
   "source": []
  }
 ],
 "metadata": {
  "kernelspec": {
   "display_name": "lncrna",
   "language": "python",
   "name": "python3"
  },
  "language_info": {
   "codemirror_mode": {
    "name": "ipython",
    "version": 3
   },
   "file_extension": ".py",
   "mimetype": "text/x-python",
   "name": "python",
   "nbconvert_exporter": "python",
   "pygments_lexer": "ipython3",
   "version": "3.11.5"
  }
 },
 "nbformat": 4,
 "nbformat_minor": 2
}
