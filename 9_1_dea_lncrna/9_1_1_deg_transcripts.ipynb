{
 "cells": [
  {
   "cell_type": "code",
   "execution_count": 14,
   "metadata": {},
   "outputs": [],
   "source": [
    "# Load packages \n",
    "import numpy as np\n",
    "import pandas as pd\n",
    "import matplotlib.pyplot as plt\n",
    "import seaborn as sns\n",
    "from matplotlib_venn import venn3, venn3_circles"
   ]
  },
  {
   "cell_type": "markdown",
   "metadata": {},
   "source": [
    "# 1 Data Import "
   ]
  },
  {
   "cell_type": "code",
   "execution_count": 15,
   "metadata": {},
   "outputs": [],
   "source": [
    "# IMPORT raw data from deg (Rstudio)\n",
    "deg_na = pd.read_csv('comp_anoxia_normoxia.csv', header=0, sep=',').assign(regulation='up', condition='Normoxia to Anoxia').rename(columns={'Unnamed: 0':'transcript_id'})\n",
    "deg_nr = pd.read_csv('comp_reoxygenation_normoxia.csv', header=0, sep=',').assign(regulation='up', condition='Normoxia to Reoxygenation').rename(columns={'Unnamed: 0':'transcript_id'})\n",
    "deg_ar = pd.read_csv('comp_anoxia_reoxygenation.csv', header=0, sep=',').assign(regulation='up', condition='Anoxia to Reoxygenation').rename(columns={'Unnamed: 0':'transcript_id'})\n",
    "\n",
    "# identified lncRNAs\n",
    "# IMPORT DATA FROM COMMON\n",
    "common = pd.read_csv('/home/maggy/LncRNA/6_identify_common_lncRNA/common_lncrna_transcript_id.csv')\n",
    "\n"
   ]
  },
  {
   "cell_type": "code",
   "execution_count": 16,
   "metadata": {},
   "outputs": [],
   "source": [
    "# drop rows that contains NaN in the padj column \n",
    "deg_na = deg_na.dropna(subset=['padj'])\n",
    "deg_nr = deg_nr.dropna(subset=['padj'])\n",
    "deg_ar = deg_ar.dropna(subset=['padj'])\n",
    "\n",
    "# filter for NaN in log2FoldChange column \n",
    "deg_na = deg_na.dropna(subset=['log2FoldChange'])\n",
    "deg_nr = deg_nr.dropna(subset=['log2FoldChange'])\n",
    "deg_ar = deg_ar.dropna(subset=['log2FoldChange'])"
   ]
  },
  {
   "cell_type": "code",
   "execution_count": 17,
   "metadata": {},
   "outputs": [
    {
     "data": {
      "text/plain": [
       "[                     transcript_id     baseMean  log2FoldChange     lfcSE  \\\n",
       " 0                         strg.1.1  1191.353966        0.422069  0.060668   \n",
       " 1                         strg.1.2  1188.561338        0.424613  0.060693   \n",
       " 2                         strg.2.1     1.009087       -1.410735  1.258514   \n",
       " 3                  ccar_ua01-g3.t2   151.067385       -0.551450  0.107964   \n",
       " 4       ccar_ua01-g3.t2.1.6676fed8   153.718377       -0.551941  0.107589   \n",
       " ...                            ...          ...             ...       ...   \n",
       " 125823       scaffold_72-g45758.t1     6.212233       -1.303093  0.531051   \n",
       " 125824       scaffold_72-g45759.t1    23.442440        0.567697  0.233187   \n",
       " 125825       scaffold_72-g45760.t1    24.303876        0.754413  0.236615   \n",
       " 125826      scaffold_129-g45565.t1     6.130054       -0.737369  0.587273   \n",
       " 125827      scaffold_129-g45566.t1     4.193329        0.041591  0.584033   \n",
       " \n",
       "             stat    pvalue      padj regulation           condition  \n",
       " 0       0.717968  0.472777  1.000000         up  Normoxia to Anoxia  \n",
       " 1       0.759578  0.447507  1.000000         up  Normoxia to Anoxia  \n",
       " 2      -0.820193  0.412106  1.000000         up  Normoxia to Anoxia  \n",
       " 3      -1.601817  0.109196  0.322301         up  Normoxia to Anoxia  \n",
       " 4      -1.611961  0.106970  0.316432         up  Normoxia to Anoxia  \n",
       " ...          ...       ...       ...        ...                 ...  \n",
       " 125823 -1.741042  0.081676  0.248861         up  Normoxia to Anoxia  \n",
       " 125824  0.811301  0.417193  1.000000         up  Normoxia to Anoxia  \n",
       " 125825  1.588661  0.112137  0.329957         up  Normoxia to Anoxia  \n",
       " 125826 -0.611057  0.541162  1.000000         up  Normoxia to Anoxia  \n",
       " 125827  0.000000  1.000000  1.000000         up  Normoxia to Anoxia  \n",
       " \n",
       " [125454 rows x 9 columns],\n",
       "                      transcript_id     baseMean  log2FoldChange     lfcSE  \\\n",
       " 0                         strg.1.1  1191.353966        0.098885  0.061106   \n",
       " 1                         strg.1.2  1188.561338        0.100042  0.061134   \n",
       " 2                         strg.2.1     1.009087       -0.196893  1.093230   \n",
       " 3                  ccar_ua01-g3.t2   151.067385        0.169616  0.101725   \n",
       " 4       ccar_ua01-g3.t2.1.6676fed8   153.718377        0.187440  0.101290   \n",
       " ...                            ...          ...             ...       ...   \n",
       " 125823       scaffold_72-g45758.t1     6.212233        0.122633  0.456426   \n",
       " 125824       scaffold_72-g45759.t1    23.442440        0.749951  0.228807   \n",
       " 125825       scaffold_72-g45760.t1    24.303876        0.980938  0.231779   \n",
       " 125826      scaffold_129-g45565.t1     6.130054        0.316122  0.544808   \n",
       " 125827      scaffold_129-g45566.t1     4.193329        0.686445  0.551074   \n",
       " \n",
       "             stat    pvalue      padj regulation                  condition  \n",
       " 0       0.000000  1.000000  1.000000         up  Normoxia to Reoxygenation  \n",
       " 1       0.000000  1.000000  1.000000         up  Normoxia to Reoxygenation  \n",
       " 2       0.000000  1.000000  1.000000         up  Normoxia to Reoxygenation  \n",
       " 3       0.000000  1.000000  1.000000         up  Normoxia to Reoxygenation  \n",
       " 4       0.000000  1.000000  1.000000         up  Normoxia to Reoxygenation  \n",
       " ...          ...       ...       ...        ...                        ...  \n",
       " 125823  0.000000  1.000000  1.000000         up  Normoxia to Reoxygenation  \n",
       " 125824  1.623373  0.104510  0.349063         up  Normoxia to Reoxygenation  \n",
       " 125825  2.599140  0.009346  0.039246         up  Normoxia to Reoxygenation  \n",
       " 125826  0.000000  1.000000  1.000000         up  Normoxia to Reoxygenation  \n",
       " 125827  0.558788  0.576306  1.000000         up  Normoxia to Reoxygenation  \n",
       " \n",
       " [125454 rows x 9 columns],\n",
       "                      transcript_id     baseMean  log2FoldChange     lfcSE  \\\n",
       " 0                         strg.1.1  1191.353966       -0.323184  0.060460   \n",
       " 1                         strg.1.2  1188.561338       -0.324571  0.060483   \n",
       " 2                         strg.2.1     1.009087        1.213842  1.272183   \n",
       " 3                  ccar_ua01-g3.t2   151.067385        0.721066  0.106773   \n",
       " 4       ccar_ua01-g3.t2.1.6676fed8   153.718377        0.739381  0.106302   \n",
       " ...                            ...          ...             ...       ...   \n",
       " 125823       scaffold_72-g45758.t1     6.212233        1.425726  0.527107   \n",
       " 125824       scaffold_72-g45759.t1    23.442440        0.182254  0.214547   \n",
       " 125825       scaffold_72-g45760.t1    24.303876        0.226526  0.212263   \n",
       " 125826      scaffold_129-g45565.t1     6.130054        1.053490  0.577915   \n",
       " 125827      scaffold_129-g45566.t1     4.193329        0.644855  0.550288   \n",
       " \n",
       "             stat    pvalue      padj regulation                condition  \n",
       " 0       0.000000  1.000000  1.000000         up  Anoxia to Reoxygenation  \n",
       " 1       0.000000  1.000000  1.000000         up  Anoxia to Reoxygenation  \n",
       " 2       0.656612  0.511430  1.000000         up  Anoxia to Reoxygenation  \n",
       " 3       3.208259  0.001335  0.015318         up  Anoxia to Reoxygenation  \n",
       " 4       3.394766  0.000687  0.008417         up  Anoxia to Reoxygenation  \n",
       " ...          ...       ...       ...        ...                      ...  \n",
       " 125823  1.986721  0.046953  0.345260         up  Anoxia to Reoxygenation  \n",
       " 125824  0.000000  1.000000  1.000000         up  Anoxia to Reoxygenation  \n",
       " 125825  0.000000  1.000000  1.000000         up  Anoxia to Reoxygenation  \n",
       " 125826  1.167955  0.242825  1.000000         up  Anoxia to Reoxygenation  \n",
       " 125827  0.484007  0.628381  1.000000         up  Anoxia to Reoxygenation  \n",
       " \n",
       " [125454 rows x 9 columns]]"
      ]
     },
     "execution_count": 17,
     "metadata": {},
     "output_type": "execute_result"
    }
   ],
   "source": [
    "# substitute MSTRG in the dfs to STRG (to get the same format) \n",
    "# convert everything in lower case letters\n",
    "degs = [deg_na, deg_nr, deg_ar]\n",
    "\n",
    "def process_dfs(dfs):\n",
    "    \"\"\"\n",
    "    Process a list of DataFrames to replace 'MSTRG.' with 'STRG.' in 'transcript_id' column\n",
    "    and convert 'transcript_id' entries to lowercase.\n",
    "    \n",
    "    Parameters:\n",
    "    dfs (list): List of DataFrames to process\n",
    "    \n",
    "    Returns:\n",
    "    list: List of processed DataFrames\n",
    "    \"\"\"\n",
    "    processed_dfs = []\n",
    "    for df in dfs:\n",
    "        df['transcript_id'] = df['transcript_id'].str.replace('MSTRG.', 'STRG.')\n",
    "        df['transcript_id'] = df['transcript_id'].str.lower()\n",
    "        processed_dfs.append(df)\n",
    "    return processed_dfs\n",
    "\n",
    "process_dfs(degs)   "
   ]
  },
  {
   "cell_type": "code",
   "execution_count": 18,
   "metadata": {},
   "outputs": [],
   "source": [
    "# set threshold for fold change \n",
    "fold_threshold = 1.3 \n",
    "p_threshold = 0.05"
   ]
  },
  {
   "cell_type": "markdown",
   "metadata": {},
   "source": [
    "# 2 Vulcano DEG and lncRNA "
   ]
  },
  {
   "cell_type": "code",
   "execution_count": 19,
   "metadata": {},
   "outputs": [
    {
     "name": "stderr",
     "output_type": "stream",
     "text": [
      "/home/maggy/anaconda3/envs/lncrna/lib/python3.11/site-packages/pandas/core/arraylike.py:396: RuntimeWarning: divide by zero encountered in log10\n",
      "  result = getattr(ufunc, method)(*inputs, **kwargs)\n"
     ]
    }
   ],
   "source": [
    "# merge the dataframes and add column with name of comparison\n",
    "deg = pd.concat([deg_na, deg_nr, deg_ar])\n",
    "\n",
    "# calculate -log10(padj) for each comparison\n",
    "deg['-log10p'] = -np.log10(deg['padj'])\n",
    "\n",
    "# introduce color code \n",
    "deg['color'] = 0\n",
    "\n",
    "# color code for significant genes\n",
    "deg.loc[abs(deg['log2FoldChange']) >= np.log2(fold_threshold) , 'color'] +=1\n",
    "deg.loc[deg['padj'] <= p_threshold , 'color'] +=1\n",
    "deg.loc[deg['transcript_id'].isin(common['transcript_id']), 'color'] +=1\n",
    "\n",
    "# convert number code into str for Legend labels \n",
    "deg.loc[deg['color'] <= 1, 'color'] = 'Not Differentially Expressed'\n",
    "deg.loc[deg['color'] == 2, 'color'] = 'Differentially Expressed'\n",
    "deg.loc[deg['color'] == 3, 'color'] = 'Differentially Expressed LncRNA'"
   ]
  },
  {
   "cell_type": "code",
   "execution_count": 23,
   "metadata": {},
   "outputs": [],
   "source": [
    "# EXPORT FOR TRANSCRIPTION EXPRESSION PLOT \n",
    "#filter for lowest padjusted value for differentially expressed \n",
    "diff_deg = deg[deg['color'] == 'Differentially Expressed LncRNA']\n",
    "diff_deg = diff_deg[diff_deg['condition'] == 'Normoxia to Anoxia']\n",
    "# filter for highest log2FoldChange and lowest log10p value\n",
    "diff_deg = diff_deg.loc[diff_deg.groupby('transcript_id')['log2FoldChange'].idxmax()]\n",
    "diff_deg = diff_deg.loc[diff_deg.groupby('transcript_id')['-log10p'].idxmax()]\n",
    "#export to csv\n",
    "diff_deg.to_csv('deg_data/ranking_of_most_diff_lncrna.csv', index=False, header=True)\n"
   ]
  },
  {
   "cell_type": "code",
   "execution_count": 7,
   "metadata": {},
   "outputs": [
    {
     "data": {
      "text/plain": [
       "color\n",
       "Not Differentially Expressed       294907\n",
       "Differentially Expressed            77753\n",
       "Differentially Expressed LncRNA      3702\n",
       "Name: count, dtype: int64"
      ]
     },
     "execution_count": 7,
     "metadata": {},
     "output_type": "execute_result"
    }
   ],
   "source": [
    "deg['color'].value_counts()"
   ]
  },
  {
   "cell_type": "code",
   "execution_count": 8,
   "metadata": {},
   "outputs": [],
   "source": [
    "# Vulcano plot\n",
    "def add_deg_number(data, **kwargs):\n",
    "    \"\"\"Add the number of DEGs to each subplot.\"\"\"\n",
    "    if np.all(data['color'] == 'Not Differentially Expressed'):\n",
    "        return \n",
    "    elif np.all(data['color'] == 'Differentially Expressed'):\n",
    "        #(deg_na['log2FoldChange'] >= np.log2(fold_threshold)) & (deg_na['padj'] <= p_threshold )\n",
    "        pos = sum((data['log2FoldChange'] >= np.log2(fold_threshold)) & (data['padj'] <= p_threshold))\n",
    "        neg = sum((data['log2FoldChange'] <= -np.log2(fold_threshold)) & (data['padj'] <= p_threshold))\n",
    "        plt.text(x=-15, y=250, s=fr'$\\downarrow${neg}', fontsize=8, ha='center', va='center')\n",
    "        plt.text(x=+15, y=250, s=fr'$\\uparrow${pos}', fontsize=8, ha='center', va='center')\n",
    "    elif np.all(data['color'] == 'Differentially Expressed LncRNA'):\n",
    "        poslnc = sum((data['log2FoldChange'] >= np.log2(fold_threshold)) & (data['padj'] <= p_threshold) & (data['transcript_id'].isin(common['transcript_id'])))\n",
    "        neglnc = sum((data['log2FoldChange'] <= -np.log2(fold_threshold)) & (data['padj'] <= p_threshold) & (data['transcript_id'].isin(common['transcript_id'])))\n",
    "        plt.text(x=-15, y=200, s=fr'$\\downarrow${neglnc}', fontsize=8, ha='center', va='center')\n",
    "        plt.text(x=+15, y=200, s=fr'$\\uparrow${poslnc}', fontsize=8, ha='center', va='center')"
   ]
  },
  {
   "cell_type": "code",
   "execution_count": 9,
   "metadata": {},
   "outputs": [
    {
     "name": "stderr",
     "output_type": "stream",
     "text": [
      "/home/maggy/anaconda3/envs/lncrna/lib/python3.11/site-packages/seaborn/axisgrid.py:118: UserWarning: The figure layout has changed to tight\n",
      "  self._figure.tight_layout(*args, **kwargs)\n",
      "/home/maggy/anaconda3/envs/lncrna/lib/python3.11/site-packages/seaborn/axisgrid.py:118: UserWarning: The figure layout has changed to tight\n",
      "  self._figure.tight_layout(*args, **kwargs)\n",
      "/home/maggy/anaconda3/envs/lncrna/lib/python3.11/site-packages/seaborn/axisgrid.py:118: UserWarning: The figure layout has changed to tight\n",
      "  self._figure.tight_layout(*args, **kwargs)\n",
      "/home/maggy/anaconda3/envs/lncrna/lib/python3.11/site-packages/seaborn/axisgrid.py:118: UserWarning: The figure layout has changed to tight\n",
      "  self._figure.tight_layout(*args, **kwargs)\n"
     ]
    },
    {
     "data": {
      "image/png": "[encoded data removed]",
      "text/plain": [
       "<Figure size 1217.5x177.165 with 3 Axes>"
      ]
     },
     "metadata": {},
     "output_type": "display_data"
    }
   ],
   "source": [
    "# create subplot for 3 plots \n",
    "sns.set_theme(style = 'whitegrid', palette='colorblind', context='paper', rc={'axes.labelsize':8, 'xtick.labelsize':8, 'ytick.labelsize':8, 'legend.fontsize':8, 'legend.title_fontsize':8})\n",
    "\n",
    "g = sns.FacetGrid(deg, col=\"condition\", hue='color', palette=['#FC8D62', '#AFD198', '#8DA0CB'], height=((4.5)/2.54), aspect=(17/4.5)/3)\n",
    "g.refline(y=-np.log10(p_threshold), linestyle='--', linewidth=0.7, color='grey')\n",
    "g.refline(x = np.log2(fold_threshold), linestyle='--', linewidth=0.7, color='grey')\n",
    "g.refline(x = -np.log2(fold_threshold), linestyle='--', linewidth=0.7, color='grey')\n",
    "g.map(sns.scatterplot, 'log2FoldChange','-log10p', s=8, rasterized=True)\n",
    "g.add_legend(title='', fontsize=8, loc='upper center', borderaxespad=0.1, ncol=3, bbox_to_anchor=(.28, 0.02), frameon=True, markerscale=1.8, \n",
    "            columnspacing=0.2, scatteryoffsets=[0.5], handletextpad=0.01)\n",
    "g.set_titles(col_template=\"{col_name}\", fontsize=8)\n",
    "g.map_dataframe(add_deg_number)\n",
    "g.tight_layout()\n",
    "\n",
    "# save as png\n",
    "g.savefig('vulcano_deg_transcripts.svg', dpi=600)\n",
    "plt.show()"
   ]
  },
  {
   "cell_type": "markdown",
   "metadata": {},
   "source": [
    "# 3 Venn plot"
   ]
  },
  {
   "cell_type": "code",
   "execution_count": 26,
   "metadata": {},
   "outputs": [
    {
     "data": {
      "image/png": "[encoded data removed]",
      "text/plain": [
       "<Figure size 295.276x167.323 with 1 Axes>"
      ]
     },
     "metadata": {},
     "output_type": "display_data"
    }
   ],
   "source": [
    "# Filter differentially expressed lncRNAs by condition\n",
    "deg_na = set(deg[(deg['condition'] == 'Normoxia to Anoxia') & (deg['color'] == 'Differentially Expressed LncRNA')]['transcript_id'])\n",
    "deg_nr = set(deg[(deg['condition'] == 'Normoxia to Reoxygenation') & (deg['color'] == 'Differentially Expressed LncRNA')]['transcript_id'])\n",
    "deg_ar = set(deg[(deg['condition'] == 'Anoxia to Reoxygenation') & (deg['color'] == 'Differentially Expressed LncRNA')]['transcript_id'])\n",
    "\n",
    "# Plotting the Venn Diagram\n",
    "sns.set_theme(style='whitegrid', context='paper', rc={'axes.labelsize': 8, 'xtick.labelsize': 8, 'ytick.labelsize': 8, 'legend.fontsize': 8, 'legend.title_fontsize': 8})\n",
    "plt.figure(figsize=(7.5 / 2.54, 4.25 / 2.54))\n",
    "\n",
    "v = venn3(subsets=[deg_na, deg_nr, deg_ar], set_labels=('Normoxia to\\nAnoxia', 'Normoxia to\\nReoxygenation', 'Anoxia to\\nReoxygenation'), set_colors=('#8DA0CB', \"#8DA0CB\", \"#8DA0CB\"))\n",
    "\n",
    "for text in v.set_labels:\n",
    "    text.set_fontsize(8)\n",
    "for text in v.subset_labels:\n",
    "    if text:  # Check if text is not None\n",
    "        text.set_fontsize(8)\n",
    "\n",
    "venn3_circles(subsets=[deg_na, deg_nr, deg_ar], linewidth=0.3, color='black')\n",
    "\n",
    "# plt.title('Common Differentially Expressed Genes (DEG) between comparisons')\n",
    "plt.savefig('venn_DEG_lncrna.svg')\n"
   ]
  },
  {
   "cell_type": "markdown",
   "metadata": {},
   "source": [
    "# 4 Export data"
   ]
  },
  {
   "cell_type": "code",
   "execution_count": 27,
   "metadata": {},
   "outputs": [],
   "source": [
    "# export lncRNAs \n",
    "# Filter the DataFrame for rows where 'color' is 'Differentially Expressed LncRNA'\n",
    "filtered_deg = deg[deg['color'] == 'Differentially Expressed LncRNA']\n",
    "\n",
    "for condition, group in filtered_deg.groupby('condition'):\n",
    "    filename = f\"deg_data/{condition}_lncrna.csv\"\n",
    "    group.to_csv(filename, index=False)"
   ]
  },
  {
   "cell_type": "code",
   "execution_count": 28,
   "metadata": {},
   "outputs": [
    {
     "name": "stdout",
     "output_type": "stream",
     "text": [
      "deg_normoxia_to_anoxia_up: 17122\n",
      "deg_normoxia_to_anoxia_down: 17861\n",
      "deg_normoxia_to_reoxygenation_up: 15777\n",
      "deg_normoxia_to_reoxygenation_down: 14681\n",
      "deg_anoxia_to_reoxygenation_up: 6986\n",
      "deg_anoxia_to_reoxygenation_down: 5505\n"
     ]
    }
   ],
   "source": [
    "# Define the conditions and directions\n",
    "conditions = ['Normoxia to Anoxia', 'Normoxia to Reoxygenation', 'Anoxia to Reoxygenation']\n",
    "directions = ['up', 'down']\n",
    "\n",
    "# Create a dictionary to store the DataFrames\n",
    "deg_dict = {}\n",
    "\n",
    "# Iterate over conditions and directions\n",
    "for condition in conditions:\n",
    "    for direction in directions:\n",
    "        if direction == 'up':\n",
    "            log_condition = deg['log2FoldChange'] >= np.log2(fold_threshold)\n",
    "        else:\n",
    "            log_condition = deg['log2FoldChange'] <= -np.log2(fold_threshold)\n",
    "            \n",
    "        # Create the filtered DataFrame\n",
    "        df = deg.loc[\n",
    "            (deg['condition'] == condition) &\n",
    "            (deg['color'].isin(['Differentially Expressed', 'Differentially Expressed LncRNA'])) &\n",
    "            (deg['padj'] <= p_threshold) &\n",
    "            log_condition\n",
    "        ]\n",
    "        \n",
    "        # Store it in the dictionary with an appropriate key\n",
    "        key = f\"deg_{condition.replace(' ', '_').lower()}_{direction}\"\n",
    "        deg_dict[key] = df\n",
    "        \n",
    "        # Print the length of the DataFrame\n",
    "        print(f\"{key}: {len(df)}\")\n",
    "\n",
    "        # Save to CSV\n",
    "        df.to_csv(f'deg_data/{key}.csv', index=False)\n",
    "\n",
    "# Now each filtered DataFrame is accessible through deg_dict.\n"
   ]
  },
  {
   "cell_type": "code",
   "execution_count": 30,
   "metadata": {},
   "outputs": [],
   "source": [
    "deg[deg['color'] == 'Differentially Expressed LncRNA'].drop_duplicates(subset='transcript_id').to_csv('deg_data/deg_lncrna_transcript_id.csv', index=False)\n"
   ]
  }
 ],
 "metadata": {
  "kernelspec": {
   "display_name": "lncrna",
   "language": "python",
   "name": "python3"
  },
  "language_info": {
   "codemirror_mode": {
    "name": "ipython",
    "version": 3
   },
   "file_extension": ".py",
   "mimetype": "text/x-python",
   "name": "python",
   "nbconvert_exporter": "python",
   "pygments_lexer": "ipython3",
   "version": "3.11.5"
  }
 },
 "nbformat": 4,
 "nbformat_minor": 2
}
