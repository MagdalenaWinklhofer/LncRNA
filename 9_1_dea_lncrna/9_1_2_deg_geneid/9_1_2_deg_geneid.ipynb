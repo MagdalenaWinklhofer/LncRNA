{
 "cells": [
  {
   "cell_type": "code",
   "execution_count": 1,
   "metadata": {},
   "outputs": [],
   "source": [
    "# Load packages \n",
    "import numpy as np\n",
    "import pandas as pd\n",
    "import matplotlib.pyplot as plt\n",
    "import seaborn as sns\n",
    "from matplotlib_venn import venn3, venn3_circles"
   ]
  },
  {
   "cell_type": "markdown",
   "metadata": {},
   "source": [
    "# 1 Data Import "
   ]
  },
  {
   "cell_type": "code",
   "execution_count": 2,
   "metadata": {},
   "outputs": [],
   "source": [
    "# IMPORT raw data \n",
    "deg_na = pd.read_csv('comp_anoxia_normoxia.csv', header=0, sep=',').assign(regulation='up', condition='Normoxia to Anoxia').rename(columns={'Unnamed: 0':'gene_id'})\n",
    "deg_nr = pd.read_csv('comp_reoxygenation_normoxia.csv', header=0, sep=',').assign(regulation='up', condition='Normoxia to Reoxygenation').rename(columns={'Unnamed: 0':'gene_id'})\n",
    "deg_ar = pd.read_csv('comp_anoxia_reoxygenation.csv', header=0, sep=',').assign(regulation='up', condition='Anoxia to Reoxygenation').rename(columns={'Unnamed: 0':'gene_id'})\n",
    "\n",
    "# identified lncRNAs\n",
    "# IMPORT DATA FROM COMMON\n",
    "common = pd.read_csv('/home/maggy/LncRNA/6_identify_common_lncRNA/common_lncrna_gene_id.csv',)\n",
    "\n"
   ]
  },
  {
   "cell_type": "code",
   "execution_count": 3,
   "metadata": {},
   "outputs": [],
   "source": [
    "# drop rows that contains NaN in the padj column \n",
    "deg_na = deg_na.dropna(subset=['padj'])\n",
    "deg_nr = deg_nr.dropna(subset=['padj'])\n",
    "deg_ar = deg_ar.dropna(subset=['padj'])\n",
    "\n",
    "# filter for NaN in log2FoldChange column \n",
    "deg_na = deg_na.dropna(subset=['log2FoldChange'])\n",
    "deg_nr = deg_nr.dropna(subset=['log2FoldChange'])\n",
    "deg_ar = deg_ar.dropna(subset=['log2FoldChange'])"
   ]
  },
  {
   "cell_type": "code",
   "execution_count": 4,
   "metadata": {},
   "outputs": [
    {
     "data": {
      "text/plain": [
       "[                   gene_id     baseMean  log2FoldChange     lfcSE      stat  \\\n",
       " 0                   strg.1  1161.487576        0.487665  0.062727  1.740125   \n",
       " 1                   strg.2     0.995714       -1.337457  1.248161 -0.768287   \n",
       " 2                   strg.3   148.424946       -0.498326  0.103499 -1.157637   \n",
       " 3                   strg.4   106.220284       -0.106063  0.185338  0.000000   \n",
       " 4                   strg.5   248.631957       -0.811516  0.079123 -5.472536   \n",
       " ...                    ...          ...             ...       ...       ...   \n",
       " 41937   scaffold_72-g45758     6.139991       -1.234639  0.526786 -1.625189   \n",
       " 41938   scaffold_72-g45759    21.408926        0.645049  0.246913  1.079479   \n",
       " 41939   scaffold_72-g45760    22.210521        0.827403  0.241954  1.855273   \n",
       " 41940  scaffold_129-g45565     5.475144       -0.715326  0.634966 -0.530444   \n",
       " 41941  scaffold_129-g45566     3.505794        0.280240  0.616185  0.000000   \n",
       " \n",
       "              pvalue          padj regulation           condition  \n",
       " 0      8.183712e-02  2.412293e-01         up  Normoxia to Anoxia  \n",
       " 1      4.423170e-01  9.827263e-01         up  Normoxia to Anoxia  \n",
       " 2      2.470123e-01  6.181764e-01         up  Normoxia to Anoxia  \n",
       " 3      1.000000e+00  1.000000e+00         up  Normoxia to Anoxia  \n",
       " 4      4.436412e-08  3.069655e-07         up  Normoxia to Anoxia  \n",
       " ...             ...           ...        ...                 ...  \n",
       " 41937  1.041224e-01  2.983928e-01         up  Normoxia to Anoxia  \n",
       " 41938  2.803741e-01  6.853309e-01         up  Normoxia to Anoxia  \n",
       " 41939  6.355724e-02  1.927425e-01         up  Normoxia to Anoxia  \n",
       " 41940  5.958038e-01  1.000000e+00         up  Normoxia to Anoxia  \n",
       " 41941  1.000000e+00  1.000000e+00         up  Normoxia to Anoxia  \n",
       " \n",
       " [40955 rows x 9 columns],\n",
       "                    gene_id     baseMean  log2FoldChange     lfcSE      stat  \\\n",
       " 0                   strg.1  1161.487576        0.107691  0.063166  0.000000   \n",
       " 1                   strg.2     0.995714       -0.177700  1.081420  0.000000   \n",
       " 2                   strg.3   148.424946        0.215847  0.096463  0.000000   \n",
       " 3                   strg.4   106.220284        0.265914  0.182462  0.000000   \n",
       " 4                   strg.5   248.631957       -0.336835  0.074875  0.000000   \n",
       " ...                    ...          ...             ...       ...       ...   \n",
       " 41937   scaffold_72-g45758     6.139991        0.139094  0.451256  0.000000   \n",
       " 41938   scaffold_72-g45759    21.408926        0.723341  0.243380  1.416835   \n",
       " 41939   scaffold_72-g45760    22.210521        0.986349  0.237034  2.564344   \n",
       " 41940  scaffold_129-g45565     5.475144        0.358551  0.587784  0.000000   \n",
       " 41941  scaffold_129-g45566     3.505794        0.908655  0.578069  0.917094   \n",
       " \n",
       "          pvalue      padj regulation                  condition  \n",
       " 0      1.000000  1.000000         up  Normoxia to Reoxygenation  \n",
       " 1      1.000000  1.000000         up  Normoxia to Reoxygenation  \n",
       " 2      1.000000  1.000000         up  Normoxia to Reoxygenation  \n",
       " 3      1.000000  1.000000         up  Normoxia to Reoxygenation  \n",
       " 4      1.000000  1.000000         up  Normoxia to Reoxygenation  \n",
       " ...         ...       ...        ...                        ...  \n",
       " 41937  1.000000  1.000000         up  Normoxia to Reoxygenation  \n",
       " 41938  0.156531  0.476198         up  Normoxia to Reoxygenation  \n",
       " 41939  0.010337  0.044045         up  Normoxia to Reoxygenation  \n",
       " 41940  1.000000  1.000000         up  Normoxia to Reoxygenation  \n",
       " 41941  0.359093  0.932593         up  Normoxia to Reoxygenation  \n",
       " \n",
       " [40955 rows x 9 columns],\n",
       "                    gene_id     baseMean  log2FoldChange     lfcSE      stat  \\\n",
       " 0                   strg.1  1161.487576       -0.379974  0.062535 -0.023392   \n",
       " 2                   strg.3   148.424946        0.714173  0.102042  3.289437   \n",
       " 3                   strg.4   106.220284        0.371977  0.183833  0.000000   \n",
       " 4                   strg.5   248.631957        0.474681  0.080874  1.189120   \n",
       " 5                   strg.7     8.583446       -1.234883  0.352072 -2.432373   \n",
       " ...                    ...          ...             ...       ...       ...   \n",
       " 41937   scaffold_72-g45758     6.139991        1.373733  0.522789  1.903677   \n",
       " 41938   scaffold_72-g45759    21.408926        0.078292  0.228698  0.000000   \n",
       " 41939   scaffold_72-g45760    22.210521        0.158947  0.216093  0.000000   \n",
       " 41940  scaffold_129-g45565     5.475144        1.073877  0.624663  1.113184   \n",
       " 41941  scaffold_129-g45566     3.505794        0.628416  0.564593  0.442627   \n",
       " \n",
       "          pvalue      padj regulation                condition  \n",
       " 0      0.981337  1.000000         up  Anoxia to Reoxygenation  \n",
       " 2      0.001004  0.010154         up  Anoxia to Reoxygenation  \n",
       " 3      1.000000  1.000000         up  Anoxia to Reoxygenation  \n",
       " 4      0.234392  1.000000         up  Anoxia to Reoxygenation  \n",
       " 5      0.015000  0.110006         up  Anoxia to Reoxygenation  \n",
       " ...         ...       ...        ...                      ...  \n",
       " 41937  0.056952  0.340917         up  Anoxia to Reoxygenation  \n",
       " 41938  1.000000  1.000000         up  Anoxia to Reoxygenation  \n",
       " 41939  1.000000  1.000000         up  Anoxia to Reoxygenation  \n",
       " 41940  0.265629  1.000000         up  Anoxia to Reoxygenation  \n",
       " 41941  0.658035  1.000000         up  Anoxia to Reoxygenation  \n",
       " \n",
       " [38538 rows x 9 columns]]"
      ]
     },
     "execution_count": 4,
     "metadata": {},
     "output_type": "execute_result"
    }
   ],
   "source": [
    "# substitute MSTRG in the dfs to STRG (to get the same format) \n",
    "# convert everything in lower case letters\n",
    "\n",
    "degs = [deg_na, deg_nr, deg_ar]\n",
    "\n",
    "def process_dfs(dfs):\n",
    "    \"\"\"\n",
    "    Process a list of DataFrames to replace 'MSTRG.' with 'STRG.' in 'gene_id' column\n",
    "    and convert 'gene_id' entries to lowercase.\n",
    "    \n",
    "    Parameters:\n",
    "    dfs (list): List of DataFrames to process\n",
    "    \n",
    "    Returns:\n",
    "    list: List of processed DataFrames\n",
    "    \"\"\"\n",
    "    processed_dfs = []\n",
    "    for df in dfs:\n",
    "        df['gene_id'] = df['gene_id'].str.replace('MSTRG.', 'STRG.')\n",
    "        df['gene_id'] = df['gene_id'].str.lower()\n",
    "        processed_dfs.append(df)\n",
    "    return processed_dfs\n",
    "\n",
    "process_dfs(degs)   "
   ]
  },
  {
   "cell_type": "code",
   "execution_count": 5,
   "metadata": {},
   "outputs": [],
   "source": [
    "# set threshold for fold change \n",
    "fold_threshold = 1.3 \n",
    "p_threshold = 0.05"
   ]
  },
  {
   "cell_type": "markdown",
   "metadata": {},
   "source": [
    "# 3 Vulcano DEG and lncRNA "
   ]
  },
  {
   "cell_type": "code",
   "execution_count": 6,
   "metadata": {},
   "outputs": [
    {
     "name": "stderr",
     "output_type": "stream",
     "text": [
      "/home/maggy/anaconda3/envs/lncrna/lib/python3.11/site-packages/pandas/core/arraylike.py:396: RuntimeWarning: divide by zero encountered in log10\n",
      "  result = getattr(ufunc, method)(*inputs, **kwargs)\n"
     ]
    }
   ],
   "source": [
    "# merge the dataframes and add column with name of comparison\n",
    "deg = pd.concat([deg_na, deg_nr, deg_ar])\n",
    "\n",
    "# calculate -log10(padj) for each comparison\n",
    "deg['-log10p'] = -np.log10(deg['padj'])\n",
    "\n",
    "# introduce color code \n",
    "deg['color'] = 0\n",
    "\n",
    "# color code for significant genes\n",
    "deg.loc[abs(deg['log2FoldChange']) >= np.log2(fold_threshold) , 'color'] +=1\n",
    "deg.loc[deg['padj'] <= p_threshold , 'color'] +=1\n",
    "deg.loc[deg['gene_id'].isin(common['gene_id']), 'color'] +=1\n",
    "\n",
    "# convert number code into str for Legend labels \n",
    "deg.loc[deg['color'] <= 1, 'color'] = 'Not Differentially Expressed'\n",
    "deg.loc[deg['color'] == 2, 'color'] = 'Differentially Expressed'\n",
    "deg.loc[deg['color'] == 3, 'color'] = 'Differentially Expressed LncRNA'"
   ]
  },
  {
   "cell_type": "code",
   "execution_count": 7,
   "metadata": {},
   "outputs": [
    {
     "name": "stdout",
     "output_type": "stream",
     "text": [
      "deg_normoxia_to_anoxia_up: 5693\n",
      "deg_normoxia_to_anoxia_down: 5924\n",
      "deg_normoxia_to_reoxygenation_up: 5119\n",
      "deg_normoxia_to_reoxygenation_down: 4624\n",
      "deg_anoxia_to_reoxygenation_up: 2698\n",
      "deg_anoxia_to_reoxygenation_down: 1964\n"
     ]
    }
   ],
   "source": [
    "# Define the conditions and directions\n",
    "conditions = ['Normoxia to Anoxia', 'Normoxia to Reoxygenation', 'Anoxia to Reoxygenation']\n",
    "directions = ['up', 'down']\n",
    "\n",
    "# Create a dictionary to store the DataFrames\n",
    "deg_dict = {}\n",
    "\n",
    "# Iterate over conditions and directions\n",
    "for condition in conditions:\n",
    "    for direction in directions:\n",
    "        if direction == 'up':\n",
    "            log_condition = deg['log2FoldChange'] >= np.log2(fold_threshold)\n",
    "        else:\n",
    "            log_condition = deg['log2FoldChange'] <= -np.log2(fold_threshold)\n",
    "            \n",
    "        # Create the filtered DataFrame\n",
    "        df = deg.loc[\n",
    "            (deg['condition'] == condition) &\n",
    "            (deg['color'].isin(['Differentially Expressed', 'Differentially Expressed LncRNA'])) &\n",
    "            (deg['padj'] <= p_threshold) &\n",
    "            log_condition\n",
    "        ]\n",
    "        \n",
    "        # Store it in the dictionary with an appropriate key\n",
    "        key = f\"deg_{condition.replace(' ', '_').lower()}_{direction}\"\n",
    "        deg_dict[key] = df\n",
    "        \n",
    "        # Print the length of the DataFrame\n",
    "        print(f\"{key}: {len(df)}\")\n",
    "\n",
    "        # Save to CSV\n",
    "        df.to_csv(f'deg_data/{key}.csv', index=False)\n",
    "\n",
    "# Now each filtered DataFrame is accessible through deg_dict.\n"
   ]
  },
  {
   "cell_type": "code",
   "execution_count": 8,
   "metadata": {},
   "outputs": [
    {
     "data": {
      "text/plain": [
       "color\n",
       "Not Differentially Expressed       86716\n",
       "Differentially Expressed           25835\n",
       "Differentially Expressed LncRNA     7897\n",
       "Name: count, dtype: int64"
      ]
     },
     "execution_count": 8,
     "metadata": {},
     "output_type": "execute_result"
    }
   ],
   "source": [
    "deg['color'].value_counts()"
   ]
  },
  {
   "cell_type": "code",
   "execution_count": 9,
   "metadata": {},
   "outputs": [],
   "source": [
    "# Vulcano plot\n",
    "def add_deg_number(data, **kwargs):\n",
    "    \"\"\"Add the number of DEGs to each subplot.\"\"\"\n",
    "    if np.all(data['color'] == 'Not Differentially Expressed'):\n",
    "        return \n",
    "    elif np.all(data['color'] == 'Differentially Expressed'):\n",
    "        #(deg_na['log2FoldChange'] >= np.log2(fold_threshold)) & (deg_na['padj'] <= p_threshold )\n",
    "        pos = sum((data['log2FoldChange'] >= np.log2(fold_threshold)) & (data['padj'] <= p_threshold))\n",
    "        neg = sum((data['log2FoldChange'] <= -np.log2(fold_threshold)) & (data['padj'] <= p_threshold))\n",
    "        plt.text(x=-15, y=250, s=fr'$\\downarrow${neg}', fontsize=8, ha='center', va='center')\n",
    "        plt.text(x=+15, y=250, s=fr'$\\uparrow${pos}', fontsize=8, ha='center', va='center')\n",
    "    elif np.all(data['color'] == 'Differentially Expressed LncRNA'):\n",
    "        poslnc = sum((data['log2FoldChange'] >= np.log2(fold_threshold)) & (data['padj'] <= p_threshold) & (data['gene_id'].isin(common['gene_id'])))\n",
    "        neglnc = sum((data['log2FoldChange'] <= -np.log2(fold_threshold)) & (data['padj'] <= p_threshold) & (data['gene_id'].isin(common['gene_id'])))\n",
    "        plt.text(x=-15, y=200, s=fr'$\\downarrow${neglnc}', fontsize=8, ha='center', va='center')\n",
    "        plt.text(x=+15, y=200, s=fr'$\\uparrow${poslnc}', fontsize=8, ha='center', va='center')"
   ]
  },
  {
   "cell_type": "code",
   "execution_count": 10,
   "metadata": {},
   "outputs": [
    {
     "name": "stderr",
     "output_type": "stream",
     "text": [
      "/home/maggy/anaconda3/envs/lncrna/lib/python3.11/site-packages/seaborn/axisgrid.py:118: UserWarning: The figure layout has changed to tight\n",
      "  self._figure.tight_layout(*args, **kwargs)\n",
      "/home/maggy/anaconda3/envs/lncrna/lib/python3.11/site-packages/seaborn/axisgrid.py:118: UserWarning: The figure layout has changed to tight\n",
      "  self._figure.tight_layout(*args, **kwargs)\n",
      "/home/maggy/anaconda3/envs/lncrna/lib/python3.11/site-packages/seaborn/axisgrid.py:118: UserWarning: The figure layout has changed to tight\n",
      "  self._figure.tight_layout(*args, **kwargs)\n",
      "/home/maggy/anaconda3/envs/lncrna/lib/python3.11/site-packages/seaborn/axisgrid.py:118: UserWarning: The figure layout has changed to tight\n",
      "  self._figure.tight_layout(*args, **kwargs)\n"
     ]
    },
    {
     "data": {
      "image/png": "[encoded data removed]",
      "text/plain": [
       "<Figure size 1217.5x177.165 with 3 Axes>"
      ]
     },
     "metadata": {},
     "output_type": "display_data"
    }
   ],
   "source": [
    "# create subplot for 3 plots \n",
    "sns.set_theme(style = 'whitegrid', palette='colorblind', context='paper', rc={'axes.labelsize':8, 'xtick.labelsize':8, 'ytick.labelsize':8, 'legend.fontsize':8, 'legend.title_fontsize':8})\n",
    "\n",
    "g = sns.FacetGrid(deg, col=\"condition\", hue='color', palette=['#FC8D62', '#AFD198', '#8DA0CB'], height=((4.5)/2.54), aspect=(17/4.5)/3)\n",
    "g.refline(y=-np.log10(p_threshold), linestyle='--', linewidth=0.7, color='grey')\n",
    "g.refline(x = np.log2(fold_threshold), linestyle='--', linewidth=0.7, color='grey')\n",
    "g.refline(x = -np.log2(fold_threshold), linestyle='--', linewidth=0.7, color='grey')\n",
    "g.map(sns.scatterplot, 'log2FoldChange','-log10p', s=8, rasterized=True)\n",
    "g.add_legend(title='', fontsize=8, loc='upper center', borderaxespad=0.1, ncol=3, bbox_to_anchor=(.28, 0.02), frameon=True, markerscale=1.8, \n",
    "            columnspacing=0.2, scatteryoffsets=[0.5], handletextpad=0.01)\n",
    "g.set_titles(col_template=\"{col_name}\", fontsize=8)\n",
    "g.map_dataframe(add_deg_number)\n",
    "g.tight_layout()\n",
    "\n",
    "# save as png\n",
    "g.savefig('vulcano_deg_genes.svg', dpi=600)\n",
    "plt.show()"
   ]
  },
  {
   "cell_type": "code",
   "execution_count": 11,
   "metadata": {},
   "outputs": [
    {
     "name": "stdout",
     "output_type": "stream",
     "text": [
      "deg_normoxia_to_anoxia_up: 5693\n",
      "deg_normoxia_to_anoxia_down: 5924\n",
      "deg_normoxia_to_reoxygenation_up: 5119\n",
      "deg_normoxia_to_reoxygenation_down: 4624\n",
      "deg_anoxia_to_reoxygenation_up: 2698\n",
      "deg_anoxia_to_reoxygenation_down: 1964\n"
     ]
    }
   ],
   "source": [
    "# Define the conditions and directions\n",
    "conditions = ['Normoxia to Anoxia', 'Normoxia to Reoxygenation', 'Anoxia to Reoxygenation']\n",
    "directions = ['up', 'down']\n",
    "\n",
    "# Create a dictionary to store the DataFrames\n",
    "deg_dict = {}\n",
    "\n",
    "# Iterate over conditions and directions\n",
    "for condition in conditions:\n",
    "    for direction in directions:\n",
    "        if direction == 'up':\n",
    "            log_condition = deg['log2FoldChange'] >= np.log2(fold_threshold)\n",
    "        else:\n",
    "            log_condition = deg['log2FoldChange'] <= -np.log2(fold_threshold)\n",
    "            \n",
    "        # Create the filtered DataFrame\n",
    "        df = deg.loc[\n",
    "            (deg['condition'] == condition) &\n",
    "            (deg['color'].isin(['Differentially Expressed', 'Differentially Expressed LncRNA'])) &\n",
    "            (deg['padj'] <= p_threshold) &\n",
    "            log_condition\n",
    "        ]\n",
    "        \n",
    "        # Store it in the dictionary with an appropriate key\n",
    "        key = f\"deg_{condition.replace(' ', '_').lower()}_{direction}\"\n",
    "        deg_dict[key] = df\n",
    "        \n",
    "        # Print the length of the DataFrame\n",
    "        print(f\"{key}: {len(df)}\")\n",
    "\n",
    "        # Save to CSV\n",
    "        df.to_csv(f'deg_data/{key}.csv', index=False)\n",
    "\n",
    "# Now each filtered DataFrame is accessible through deg_dict.\n"
   ]
  },
  {
   "cell_type": "code",
   "execution_count": null,
   "metadata": {},
   "outputs": [],
   "source": []
  },
  {
   "cell_type": "code",
   "execution_count": null,
   "metadata": {},
   "outputs": [],
   "source": []
  },
  {
   "cell_type": "code",
   "execution_count": null,
   "metadata": {},
   "outputs": [],
   "source": []
  },
  {
   "cell_type": "code",
   "execution_count": null,
   "metadata": {},
   "outputs": [],
   "source": []
  }
 ],
 "metadata": {
  "kernelspec": {
   "display_name": "lncrna",
   "language": "python",
   "name": "python3"
  },
  "language_info": {
   "codemirror_mode": {
    "name": "ipython",
    "version": 3
   },
   "file_extension": ".py",
   "mimetype": "text/x-python",
   "name": "python",
   "nbconvert_exporter": "python",
   "pygments_lexer": "ipython3",
   "version": "3.11.5"
  }
 },
 "nbformat": 4,
 "nbformat_minor": 2
}
