{
 "cells": [
  {
   "cell_type": "code",
   "execution_count": 2,
   "metadata": {},
   "outputs": [],
   "source": [
    "# Import packages \n",
    "import pandas as pd\n",
    "import numpy as np\n",
    "import re\n",
    "\n",
    "\n",
    "# Import transcriptome\n",
    "df = pd.read_csv('../B_transcriptome/cc_transcriptome_all.gtf', sep='\\t', comment='#', header=None) \n",
    "# rename columns of the dataframe\n",
    "df.columns = ['seqname', 'source', 'feature', 'start', 'end', 'score', 'strand', 'frame', 'attribute']\n",
    "# keep only the exon lines\n",
    "df = df.loc[df['feature'] == 'exon']\n",
    "# pattern line as regular expression to explode the attribute column into many individual columns\n",
    "pattern = r'\\s*gene_id\\s+\"([^\"]+)\";\\s+transcript_id\\s+\"([^\"]+)\";\\s+exon_number\\s+\"([^\"]+)\";(?:\\s+reference_id\\s+\"([^\"]+)\";)?(?:\\s+ref_gene_id\\s+\"([^\"]+)\";)?\\s+cov\\s+\"([^\"]+)\";'\n",
    "# extract the columns from the attribute column\n",
    "re.compile(pattern)\n",
    "df_new_col = df['attribute'].str.split(pat=re.compile(pattern), regex=True, expand=True)\n",
    "df[['empty_start','gene_id', 'transcript_id', 'exon_number', 'reference_id', 'ref_gene_id', 'cov', 'empty_end']] = df_new_col\n",
    "# drop empty and unnecessary columns\n",
    "df.drop(columns=['empty_start', 'empty_end', 'attribute'], inplace=True)\n",
    "# calculate length of the exons\n",
    "df['length'] = df['end'] - df['start'] \n",
    "# calculate the total exon lenth of the individual transcripts\n",
    "exon_total_length = df.groupby('transcript_id')['length'].sum()\n",
    "exon_total_length.to_frame()\n",
    "# export the dataframe to a tsv file\n",
    "exon_total_length.to_csv('../B_transcriptome/transcriptome_transcript_lengths.tsv', sep='\\t', header=True)"
   ]
  },
  {
   "cell_type": "code",
   "execution_count": 1,
   "metadata": {},
   "outputs": [],
   "source": [
    "# Import packages \n",
    "import pandas as pd\n",
    "import numpy as np\n",
    "import re\n",
    "\n",
    "# Import annotation file\n",
    "df = pd.read_csv('../A_annotation/carcar_annotation_v5.gtf', sep='\\t', comment='#', header=None) \n",
    "# rename columns of the dataframe\n",
    "df.columns = ['seqname', 'source', 'feature', 'start', 'end', 'score', 'strand', 'frame', 'attribute']\n",
    "# keep only the exon lines\n",
    "df = df.loc[df['feature'] == 'exon']\n",
    "# pattern line as regular expression to explode the attribute column into many individual columns\n",
    "pattern = r'\\s*gene_id\\s+\"([^\"]+)\";\\s+transcript_id\\s+\"([^\"]+)\";\\s+ID\\s+\"([^\"]+)\";\\s+Parent\\s+\"([^\"]+)\";'\n",
    "# extract the columns from the attribute column\n",
    "re.compile(pattern)\n",
    "df_new_col = df['attribute'].str.split(pat=re.compile(pattern), regex=True, expand=True)\n",
    "df[['empty_start','gene_id', 'transcript_id', 'ID', 'Parent', 'empty_end']] = df_new_col\n",
    "# drop empty and unnecessary columns\n",
    "df.drop(columns=['empty_start', 'empty_end', 'attribute'], inplace=True)\n",
    "# calculate length of the exons\n",
    "df['length'] = df['end'] - df['start'] \n",
    "# calculate the total exon lenth of the individual transcripts\n",
    "exon_total_length = df.groupby('transcript_id')['length'].sum()\n",
    "exon_total_length.to_frame()\n",
    "# export the dataframe to a tsv file\n",
    "exon_total_length.to_csv('../A_annotation/carcar_annotation_v5_transcript_lengths.tsv', sep='\\t', header=True)"
   ]
  },
  {
   "cell_type": "code",
   "execution_count": null,
   "metadata": {},
   "outputs": [],
   "source": []
  }
 ],
 "metadata": {
  "kernelspec": {
   "display_name": "lncrna",
   "language": "python",
   "name": "python3"
  },
  "language_info": {
   "codemirror_mode": {
    "name": "ipython",
    "version": 3
   },
   "file_extension": ".py",
   "mimetype": "text/x-python",
   "name": "python",
   "nbconvert_exporter": "python",
   "pygments_lexer": "ipython3",
   "version": "3.11.5"
  }
 },
 "nbformat": 4,
 "nbformat_minor": 2
}
