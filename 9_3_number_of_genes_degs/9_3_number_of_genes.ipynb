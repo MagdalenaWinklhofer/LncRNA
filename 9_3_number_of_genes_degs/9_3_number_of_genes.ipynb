{
 "cells": [
  {
   "cell_type": "code",
   "execution_count": null,
   "metadata": {},
   "outputs": [],
   "source": [
    "# Load packages \n",
    "import numpy as np\n",
    "import pandas as pd\n",
    "import matplotlib.pyplot as plt\n",
    "import matplotlib\n",
    "import seaborn as sns \n",
    "\n",
    "# import packages \n",
    "import re\n",
    "import shutil\n",
    "import os"
   ]
  },
  {
   "cell_type": "markdown",
   "metadata": {},
   "source": [
    "# 1 Import transcript length"
   ]
  },
  {
   "cell_type": "code",
   "execution_count": 1,
   "metadata": {},
   "outputs": [
    {
     "ename": "NameError",
     "evalue": "name 'pd' is not defined",
     "output_type": "error",
     "traceback": [
      "\u001b[0;31m---------------------------------------------------------------------------\u001b[0m",
      "\u001b[0;31mNameError\u001b[0m                                 Traceback (most recent call last)",
      "Cell \u001b[0;32mIn[1], line 2\u001b[0m\n\u001b[1;32m      1\u001b[0m \u001b[38;5;66;03m# Import all transcript with a read coverage of at least 10 reads\u001b[39;00m\n\u001b[0;32m----> 2\u001b[0m transcriptome_10reads \u001b[38;5;241m=\u001b[39m \u001b[43mpd\u001b[49m\u001b[38;5;241m.\u001b[39mread_csv(\u001b[38;5;124m'\u001b[39m\u001b[38;5;124mnumber_of_genes_with_total_of_10_reads.csv\u001b[39m\u001b[38;5;124m'\u001b[39m)\n\u001b[1;32m      4\u001b[0m \u001b[38;5;66;03m# Import the transcriptome to have the length of ALL transcripts \u001b[39;00m\n\u001b[1;32m      5\u001b[0m annotation_length \u001b[38;5;241m=\u001b[39m pd\u001b[38;5;241m.\u001b[39mread_csv(\u001b[38;5;124m'\u001b[39m\u001b[38;5;124m../A_annotation/carcar_annotation_v5_transcript_lengths.tsv\u001b[39m\u001b[38;5;124m'\u001b[39m, sep\u001b[38;5;241m=\u001b[39m\u001b[38;5;124m'\u001b[39m\u001b[38;5;130;01m\\t\u001b[39;00m\u001b[38;5;124m'\u001b[39m)\n",
      "\u001b[0;31mNameError\u001b[0m: name 'pd' is not defined"
     ]
    }
   ],
   "source": [
    "# Import all transcript with a read coverage of at least 10 reads\n",
    "transcriptome_10reads = pd.read_csv('number_of_genes_with_total_of_10_reads.csv')\n",
    "\n",
    "# Import the transcriptome to have the length of ALL transcripts \n",
    "annotation_length = pd.read_csv('../A_annotation/carcar_annotation_v5_transcript_lengths.tsv', sep='\\t')\n",
    "\n",
    "# Import the transcriptome to have the length of ALL transcripts \n",
    "stringtie_length = pd.read_csv('../B_transcriptome/transcriptome_transcript_lengths.tsv', sep='\\t')\n",
    "\n",
    "# create one df out of annotation_length and stringtie_length (append the rows from one to the other)\n",
    "length = pd.concat([annotation_length, stringtie_length], ignore_index=True)\n",
    "\n",
    "# Filter to only keep the transcriptome_length rows that have a read coverage of at least 10 reads\n",
    "transcriptome_length = length.loc[length['transcript_id'].isin(transcriptome_10reads['x'])]"
   ]
  },
  {
   "cell_type": "code",
   "execution_count": null,
   "metadata": {},
   "outputs": [],
   "source": [
    "# Specify the directory containing the .csv files\n",
    "directory = '../9_1_dea_lncrna/deg_data'\n",
    "\n",
    "# Create an empty list to hold the dataframes\n",
    "dataframes = []\n",
    "\n",
    "# Iterate over all files in the specified directory\n",
    "for filename in os.listdir(directory):\n",
    "    filepath = os.path.join(directory, filename)\n",
    "    # Check if the file is a .csv file and is named up.csv or down.csn\n",
    "    if filename.endswith('up.csv') or filename.endswith('down.csv'):\n",
    "        df = pd.read_csv(filepath)\n",
    "        dataframes.append(df)\n",
    "\n",
    "# Merge all dataframes into a single dataframe\n",
    "deg = pd.concat(dataframes, ignore_index=True)\n"
   ]
  },
  {
   "cell_type": "code",
   "execution_count": null,
   "metadata": {},
   "outputs": [],
   "source": [
    "# extract the length information for the lncRNAs from the transcript file\n",
    "deg_length = transcriptome_length[transcriptome_length['transcript_id'].str.lower().isin(deg['transcript_id'])]\n"
   ]
  },
  {
   "cell_type": "code",
   "execution_count": null,
   "metadata": {},
   "outputs": [],
   "source": [
    "# calculate max/min/ average length of gene length\n",
    "transcriptome_max = transcriptome_length['length'].max()\n",
    "transcriptome_min = transcriptome_length['length'].min()\n",
    "transcriptome_mean = transcriptome_length['length'].mean()\n",
    "\n",
    "# calculate max length of gene length\n",
    "deg_max = deg_length['length'].max()\n",
    "deg_min = deg_length['length'].min()\n",
    "deg_median = deg_length['length'].median()\n",
    "\n"
   ]
  },
  {
   "cell_type": "markdown",
   "metadata": {},
   "source": [
    "# 2 Histplot transcript and detranscript length "
   ]
  },
  {
   "cell_type": "code",
   "execution_count": null,
   "metadata": {},
   "outputs": [
    {
     "name": "stderr",
     "output_type": "stream",
     "text": [
      "/tmp/ipykernel_1102/2174066208.py:7: SettingWithCopyWarning: \n",
      "A value is trying to be set on a copy of a slice from a DataFrame.\n",
      "Try using .loc[row_indexer,col_indexer] = value instead\n",
      "\n",
      "See the caveats in the documentation: https://pandas.pydata.org/pandas-docs/stable/user_guide/indexing.html#returning-a-view-versus-a-copy\n",
      "  transcriptome_length['length_kb'] = np.array(transcriptome_length['length']) / 1000\n",
      "/tmp/ipykernel_1102/2174066208.py:8: SettingWithCopyWarning: \n",
      "A value is trying to be set on a copy of a slice from a DataFrame.\n",
      "Try using .loc[row_indexer,col_indexer] = value instead\n",
      "\n",
      "See the caveats in the documentation: https://pandas.pydata.org/pandas-docs/stable/user_guide/indexing.html#returning-a-view-versus-a-copy\n",
      "  deg_length['length_kb'] = np.array(deg_length['length']) / 1000\n"
     ]
    },
    {
     "data": {
      "image/png": "[encoded data removed]",
      "text/plain": [
       "<Figure size 354.331x196.85 with 1 Axes>"
      ]
     },
     "metadata": {},
     "output_type": "display_data"
    }
   ],
   "source": [
    "# PLOT: Length Distribution of Genes \n",
    "sns.set_theme(style = 'whitegrid', palette='colorblind', context='paper', rc={'axes.labelsize':8, 'xtick.labelsize':8, 'ytick.labelsize':8, 'legend.fontsize':8, 'legend.title_fontsize':8, \"axes.formatter.use_mathtext\": True})\n",
    "plt.figure(figsize=(((9)/2.54), (5/2.54)))\n",
    "\n",
    "\n",
    "# Convert lengths to kilobases\n",
    "transcriptome_length['length_kb'] = np.array(transcriptome_length['length']) / 1000\n",
    "deg_length['length_kb'] = np.array(deg_length['length']) / 1000\n",
    "\n",
    "# on the x axis: Length of genes (in kb)\n",
    "plt.xlabel('Length of Transcripts (kb)')\n",
    "# on the y axis: Number of genes\n",
    "plt.ylabel('Number of Transcripts')\n",
    "\n",
    "# plot the histogram\n",
    "plt.hist(transcriptome_length['length_kb'], bins=range(0, int(max(transcriptome_length['length_kb']) + 20), 3),\n",
    "          color='#AFD198', edgecolor='black', linewidth=0.5)\n",
    "plt.hist(deg_length['length_kb'], bins=range(int(min(deg_length['length_kb'])), int(max(deg_length['length_kb']) + 20), 3), \n",
    "         color='#8DA0CB', edgecolor='black', linewidth=0.5)\n",
    "plt.yscale('log')\n",
    "xfmt = plt.ScalarFormatter()\n",
    "xfmt.set_powerlimits((0, 0))\n",
    "plt.gca().xaxis.set_major_formatter(xfmt)\n",
    "\n",
    "# LABELS: \n",
    "# add label for total number of genes \n",
    "plt.text(0.95, 0.96, f'Number of Transcripts: {len(transcriptome_length[\"transcript_id\"])}',\n",
    "          ha='right', va='top', transform=plt.gca().transAxes, fontsize=7)\n",
    "# add total number of unique genes \n",
    "plt.text(0.95, 0.84, f\"Number of DEGs: {len((deg_length['transcript_id']))}\", \n",
    "         ha='right', va='top', transform=plt.gca().transAxes, fontsize=7)\n",
    "# add numeric label for average at the top right corner \n",
    "plt.text(0.95, 0.73, f'Med.Len DEG: {deg_median / 1000:.1f} kb', ha='right', va='top', \n",
    "         transform=plt.gca().transAxes, fontsize=7)\n",
    "plt.text(0.95, 0.60, f'Range of DEGs Len.:\\n{deg_min /1000:.1f} kb - {deg_max / 1000:.1f} kb',\n",
    "          ha='right', va='top', \n",
    "         transform=plt.gca().transAxes, fontsize=7)\n",
    "\n",
    "plt.tight_layout()\n",
    "\n",
    "# save the plot as svg with 500 dpi\n",
    "plt.savefig('deg_length_distribution.svg')"
   ]
  },
  {
   "cell_type": "code",
   "execution_count": null,
   "metadata": {},
   "outputs": [
    {
     "data": {
      "text/html": [
       "<div>\n",
       "<style scoped>\n",
       "    .dataframe tbody tr th:only-of-type {\n",
       "        vertical-align: middle;\n",
       "    }\n",
       "\n",
       "    .dataframe tbody tr th {\n",
       "        vertical-align: top;\n",
       "    }\n",
       "\n",
       "    .dataframe thead th {\n",
       "        text-align: right;\n",
       "    }\n",
       "</style>\n",
       "<table border=\"1\" class=\"dataframe\">\n",
       "  <thead>\n",
       "    <tr style=\"text-align: right;\">\n",
       "      <th></th>\n",
       "      <th>transcript_id</th>\n",
       "      <th>length</th>\n",
       "      <th>length_kb</th>\n",
       "    </tr>\n",
       "  </thead>\n",
       "  <tbody>\n",
       "    <tr>\n",
       "      <th>82560</th>\n",
       "      <td>STRG.1000.1</td>\n",
       "      <td>1510</td>\n",
       "      <td>1.510</td>\n",
       "    </tr>\n",
       "    <tr>\n",
       "      <th>82561</th>\n",
       "      <td>STRG.10000.1</td>\n",
       "      <td>2041</td>\n",
       "      <td>2.041</td>\n",
       "    </tr>\n",
       "    <tr>\n",
       "      <th>82562</th>\n",
       "      <td>STRG.10001.1</td>\n",
       "      <td>4162</td>\n",
       "      <td>4.162</td>\n",
       "    </tr>\n",
       "    <tr>\n",
       "      <th>82565</th>\n",
       "      <td>STRG.10004.1</td>\n",
       "      <td>5164</td>\n",
       "      <td>5.164</td>\n",
       "    </tr>\n",
       "    <tr>\n",
       "      <th>82567</th>\n",
       "      <td>STRG.10006.1</td>\n",
       "      <td>1736</td>\n",
       "      <td>1.736</td>\n",
       "    </tr>\n",
       "    <tr>\n",
       "      <th>...</th>\n",
       "      <td>...</td>\n",
       "      <td>...</td>\n",
       "      <td>...</td>\n",
       "    </tr>\n",
       "    <tr>\n",
       "      <th>248891</th>\n",
       "      <td>STRG.9997.3</td>\n",
       "      <td>4279</td>\n",
       "      <td>4.279</td>\n",
       "    </tr>\n",
       "    <tr>\n",
       "      <th>248892</th>\n",
       "      <td>STRG.9998.1</td>\n",
       "      <td>230</td>\n",
       "      <td>0.230</td>\n",
       "    </tr>\n",
       "    <tr>\n",
       "      <th>248893</th>\n",
       "      <td>STRG.9999.1</td>\n",
       "      <td>8003</td>\n",
       "      <td>8.003</td>\n",
       "    </tr>\n",
       "    <tr>\n",
       "      <th>248894</th>\n",
       "      <td>STRG.9999.2</td>\n",
       "      <td>6238</td>\n",
       "      <td>6.238</td>\n",
       "    </tr>\n",
       "    <tr>\n",
       "      <th>248895</th>\n",
       "      <td>STRG.9999.3</td>\n",
       "      <td>4399</td>\n",
       "      <td>4.399</td>\n",
       "    </tr>\n",
       "  </tbody>\n",
       "</table>\n",
       "<p>145172 rows × 3 columns</p>\n",
       "</div>"
      ],
      "text/plain": [
       "       transcript_id  length  length_kb\n",
       "82560    STRG.1000.1    1510      1.510\n",
       "82561   STRG.10000.1    2041      2.041\n",
       "82562   STRG.10001.1    4162      4.162\n",
       "82565   STRG.10004.1    5164      5.164\n",
       "82567   STRG.10006.1    1736      1.736\n",
       "...              ...     ...        ...\n",
       "248891   STRG.9997.3    4279      4.279\n",
       "248892   STRG.9998.1     230      0.230\n",
       "248893   STRG.9999.1    8003      8.003\n",
       "248894   STRG.9999.2    6238      6.238\n",
       "248895   STRG.9999.3    4399      4.399\n",
       "\n",
       "[145172 rows x 3 columns]"
      ]
     },
     "execution_count": 34,
     "metadata": {},
     "output_type": "execute_result"
    }
   ],
   "source": [
    "transcriptome_length"
   ]
  },
  {
   "cell_type": "code",
   "execution_count": null,
   "metadata": {},
   "outputs": [
    {
     "data": {
      "text/plain": [
       "<Axes: xlabel='length', ylabel='Density'>"
      ]
     },
     "execution_count": 35,
     "metadata": {},
     "output_type": "execute_result"
    },
    {
     "data": {
      "image/png": "[encoded data removed]",
      "text/plain": [
       "<Figure size 354.331x196.85 with 1 Axes>"
      ]
     },
     "metadata": {},
     "output_type": "display_data"
    }
   ],
   "source": [
    "# plot density of length on x and the amount of transcript on y\n",
    "plt.figure(figsize=(((9)/2.54), (5/2.54)))\n",
    "sns.kdeplot(data=transcriptome_length['length'], color='#AFD198', linewidth=1.5, label='Transcriptome')\n",
    "sns.kdeplot(data=deg_length['length'], color='#8DA0CB', linewidth=1.5, label='DEGs')"
   ]
  },
  {
   "cell_type": "code",
   "execution_count": null,
   "metadata": {},
   "outputs": [
    {
     "name": "stderr",
     "output_type": "stream",
     "text": [
      "/tmp/ipykernel_1102/376624301.py:6: SettingWithCopyWarning: \n",
      "A value is trying to be set on a copy of a slice from a DataFrame.\n",
      "Try using .loc[row_indexer,col_indexer] = value instead\n",
      "\n",
      "See the caveats in the documentation: https://pandas.pydata.org/pandas-docs/stable/user_guide/indexing.html#returning-a-view-versus-a-copy\n",
      "  transcriptome_length['length_kb'] = np.array(transcriptome_length['length']) / 1000\n",
      "/tmp/ipykernel_1102/376624301.py:7: SettingWithCopyWarning: \n",
      "A value is trying to be set on a copy of a slice from a DataFrame.\n",
      "Try using .loc[row_indexer,col_indexer] = value instead\n",
      "\n",
      "See the caveats in the documentation: https://pandas.pydata.org/pandas-docs/stable/user_guide/indexing.html#returning-a-view-versus-a-copy\n",
      "  deg_length['length_kb'] = np.array(deg_length['length']) / 1000\n"
     ]
    },
    {
     "data": {
      "image/png": "[encoded data removed]",
      "text/plain": [
       "<Figure size 314.961x157.48 with 1 Axes>"
      ]
     },
     "metadata": {},
     "output_type": "display_data"
    }
   ],
   "source": [
    "# PLOT: Length Distribution of Genes \n",
    "sns.set_theme(style = 'whitegrid', palette='colorblind', context='paper', rc={'axes.labelsize':8, 'xtick.labelsize':8, 'ytick.labelsize':8, 'legend.fontsize':8, 'legend.title_fontsize':8, \"axes.formatter.use_mathtext\": True})\n",
    "plt.figure(figsize=((8 / 2.54), (4 / 2.54)))\n",
    "\n",
    "# Convert lengths to kilobases\n",
    "transcriptome_length['length_kb'] = np.array(transcriptome_length['length']) / 1000\n",
    "deg_length['length_kb'] = np.array(deg_length['length']) / 1000\n",
    "\n",
    "# on the x axis: Length of genes (in kb)\n",
    "plt.xlabel('Length of Transcripts (kb)')\n",
    "# on the y axis: Number of genes\n",
    "plt.ylabel('Number of\\nTranscripts')\n",
    "\n",
    "\n",
    "\n",
    "# Plot the density for both datasets\n",
    "sns.kdeplot(transcriptome_length['length_kb'], fill=True, label='Transcript Length', color='#AFD198')\n",
    "sns.kdeplot(deg_length['length_kb'], fill=True, label='DEG Length', color='#8DA0CB')\n",
    "#'#FC8D62', '#AFD198', '#8DA0CB'\n",
    "# set the x-axis on log scale\n",
    "plt.xscale('log')\n",
    "\n",
    "# change the x-axis to display less zeros\n",
    "xfmt = plt.ScalarFormatter()\n",
    "xfmt.set_powerlimits((0, 0))\n",
    "plt.gca().xaxis.set_major_formatter(xfmt)\n",
    "\n",
    "# LABELS: \n",
    "# add label for total number of genes \n",
    "plt.text(0.98, 0.96, f'Number of Transcripts: {len(transcriptome_length[\"transcript_id\"])}',\n",
    "          ha='right', va='top', transform=plt.gca().transAxes, fontsize=7)\n",
    "# add total number of unique genes \n",
    "plt.text(0.98, 0.75, f\"Number of DEGs: {len((deg_length['transcript_id']))}\", \n",
    "         ha='right', va='top', transform=plt.gca().transAxes, fontsize=7)\n",
    "# add numeric label for average at the top right corner \n",
    "plt.text(0.98, 0.54, f'Med.Len DEG: {deg_median / 1000:.1f} kb', ha='right', va='top', \n",
    "         transform=plt.gca().transAxes, fontsize=7)\n",
    "plt.text(0.98, 0.33, f'Range of DEGs Len.:\\n{deg_min /1000:.1f} kb - {deg_max / 1000:.1f} kb',\n",
    "          ha='right', va='top', \n",
    "         transform=plt.gca().transAxes, fontsize=7)\n",
    "\n",
    "\n",
    "\n",
    "\n",
    "plt.tight_layout()\n",
    "# save the plot as svg \n",
    "plt.savefig('delncrnas_length_distribution.svg')"
   ]
  },
  {
   "cell_type": "code",
   "execution_count": null,
   "metadata": {},
   "outputs": [
    {
     "data": {
      "text/plain": [
       "47212"
      ]
     },
     "execution_count": 37,
     "metadata": {},
     "output_type": "execute_result"
    }
   ],
   "source": [
    "len(deg_length['transcript_id'].unique())"
   ]
  },
  {
   "cell_type": "markdown",
   "metadata": {},
   "source": [
    "# 2 Calculate transcript length for lncRNA and DElncRNA "
   ]
  },
  {
   "cell_type": "code",
   "execution_count": null,
   "metadata": {},
   "outputs": [],
   "source": [
    "\n",
    "# Import lncRNA data\n",
    "lncrna = pd.read_csv('../6_identify_common_lncRNA/common_lncrna_transcript_id.csv')\n",
    "# calculate the length of the lncRNAs\n",
    "lncrna_length = transcriptome_length[transcriptome_length['transcript_id'].str.strip().str.lower().isin(lncrna['transcript_id'].str.strip().str.lower())]\n",
    "\n",
    "# filter the differentially expressed df only for delncRNAs\n",
    "delncrna = deg.loc[deg['color'] == 'Differentially Expressed LncRNA']\n",
    "# calculate the length of the delncRNAs\n",
    "delncrna_length = transcriptome_length[transcriptome_length['transcript_id'].str.strip().str.lower().isin(delncrna['transcript_id'].str.strip().str.lower())]"
   ]
  },
  {
   "cell_type": "code",
   "execution_count": null,
   "metadata": {},
   "outputs": [],
   "source": [
    "# calculate max/min/ average length of gene length\n",
    "lncrna_length_max = lncrna_length['length'].max()\n",
    "lncrna_length_min = lncrna_length['length'].min()\n",
    "lncrna_length_mean = lncrna_length['length'].mean()\n",
    "\n",
    "# calculate max length of gene length\n",
    "delncrna_length_max = delncrna_length['length'].max()\n",
    "delncrna_length_min = delncrna_length['length'].min()\n",
    "delncrna_length_median = delncrna_length['length'].median()\n"
   ]
  },
  {
   "cell_type": "code",
   "execution_count": null,
   "metadata": {},
   "outputs": [
    {
     "data": {
      "image/png": "[encoded data removed]",
      "text/plain": [
       "<Figure size 314.961x157.48 with 1 Axes>"
      ]
     },
     "metadata": {},
     "output_type": "display_data"
    }
   ],
   "source": [
    "# PLOT: Length Distribution of Genes \n",
    "sns.set_theme(style = 'whitegrid', palette='colorblind', context='paper', rc={'axes.labelsize':8, 'xtick.labelsize':8, 'ytick.labelsize':8, 'legend.fontsize':8, 'legend.title_fontsize':8, \"axes.formatter.use_mathtext\": True})\n",
    "plt.figure(figsize=((8 / 2.54), (4 / 2.54)))\n",
    "\n",
    "\n",
    "# on the x axis: Length of genes (in kb)\n",
    "plt.xlabel('Length of Transcripts (bp)')\n",
    "# on the y axis: Number of genes\n",
    "plt.ylabel('Number of\\nTranscripts')\n",
    "\n",
    "# Plot the density for both datasets\n",
    "sns.kdeplot(lncrna_length['length'], fill=True, label='lncRNA Length', color='#AFD198')\n",
    "sns.kdeplot(delncrna_length['length'], fill=True, label='DELncRNA Length', color='#8DA0CB')\n",
    "#'#FC8D62', '#AFD198', '#8DA0CB'\n",
    "plt.xscale('log')\n",
    "\n",
    "# change the x-axis to display less zeros\n",
    "xfmt = plt.ScalarFormatter()\n",
    "xfmt.set_powerlimits((0, 0))\n",
    "plt.gca().xaxis.set_major_formatter(xfmt)\n",
    "\n",
    "# change the y-axis to display less zeros\n",
    "#yfmt = mticker.ScalarFormatter(useMathText=True)\n",
    "#yfmt.set_powerlimits((0, 0))\n",
    "#plt.gca().yaxis.set_major_formatter(yfmt)\n",
    "\n",
    "# LABELS: \n",
    "# add label for total number of genes \n",
    "plt.text(0.98, 0.96, f'Number of LncRNAs: {len(lncrna_length[\"transcript_id\"])}',\n",
    "          ha='right', va='top', transform=plt.gca().transAxes, fontsize=7)\n",
    "# add total number of unique genes \n",
    "plt.text(0.98, 0.75, f\"Number of DELncRNAs: {len((delncrna_length['transcript_id']))}\", \n",
    "         ha='right', va='top', transform=plt.gca().transAxes, fontsize=7)\n",
    "# add Med. Len. = Median length \n",
    "plt.text(0.98, 0.54, f'Med. Len. DELncRNA : {delncrna_length_median:.0f} bp', ha='right', va='top', \n",
    "         transform=plt.gca().transAxes, fontsize=7)\n",
    "plt.text(0.98, 0.33, f'Range of DELncRNA Len.:\\n{delncrna_length_min} bp - {delncrna_length_max} bp',\n",
    "          ha='right', va='top', \n",
    "         transform=plt.gca().transAxes, fontsize=7)\n",
    "\n",
    "plt.tight_layout()\n",
    "# save the plot as svg \n",
    "plt.savefig('delncrnas_length_distribution.svg')"
   ]
  },
  {
   "cell_type": "code",
   "execution_count": null,
   "metadata": {},
   "outputs": [],
   "source": []
  }
 ],
 "metadata": {
  "kernelspec": {
   "display_name": "lncrna",
   "language": "python",
   "name": "python3"
  },
  "language_info": {
   "codemirror_mode": {
    "name": "ipython",
    "version": 3
   },
   "file_extension": ".py",
   "mimetype": "text/x-python",
   "name": "python",
   "nbconvert_exporter": "python",
   "pygments_lexer": "ipython3",
   "version": "3.11.5"
  }
 },
 "nbformat": 4,
 "nbformat_minor": 2
}
