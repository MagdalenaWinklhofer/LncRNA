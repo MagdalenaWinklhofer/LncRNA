{
 "cells": [
  {
   "cell_type": "code",
   "execution_count": 1,
   "metadata": {},
   "outputs": [],
   "source": [
    "# import packages \n",
    "import numpy as np\n",
    "import matplotlib.pyplot as plt\n",
    "import pandas as pd \n",
    "from sklearn.decomposition import PCA\n",
    "from sklearn import preprocessing\n",
    "import seaborn as sns "
   ]
  },
  {
   "cell_type": "markdown",
   "metadata": {},
   "source": [
    "#1 Import feature counts data "
   ]
  },
  {
   "cell_type": "code",
   "execution_count": 2,
   "metadata": {},
   "outputs": [],
   "source": [
    "counts = pd.read_csv(\"../8_create_count_matrix/lncrna_transcriptid/gene_matrix_count.csv\")\n",
    "\n",
    "import pandas as pd\n",
    "\n",
    "sex = pd.Series({\n",
    "    'A1': 'male', \n",
    "    'A2': 'male', \n",
    "    'A3': 'male', \n",
    "    'A4': 'female', \n",
    "    'A5': 'male', \n",
    "    'A6': 'female', \n",
    "    'R8': 'male', \n",
    "    'R9': 'female', \n",
    "    'R10': 'male', \n",
    "    'R11': 'male', \n",
    "    'R12': 'male', \n",
    "    'R13': 'male', \n",
    "    'N14': 'female', \n",
    "    'N15': 'male', \n",
    "    'N16': 'female', \n",
    "    'N17': 'male', \n",
    "    'N18': 'female', \n",
    "    'N21': 'male'\n",
    "})\n",
    "sex_binary = pd.Series({key: 0 if value == 'male' else 1 for key, value in sex.items()})\n",
    "\n",
    "# reset indx and transform \n",
    "counts = counts.set_index('Geneid').T\n",
    "counts['sex'] = sex_binary[counts.index]\n",
    "sex = sex[counts.index]"
   ]
  },
  {
   "cell_type": "code",
   "execution_count": 3,
   "metadata": {},
   "outputs": [
    {
     "name": "stdout",
     "output_type": "stream",
     "text": [
      "[0.37863471 0.19499289]\n"
     ]
    }
   ],
   "source": [
    "# use standard Scaler from sklearn preprocessing to scale the data\n",
    "scaler = preprocessing.StandardScaler()\n",
    "X_scaled  = scaler.fit_transform(counts)\n",
    "\n",
    "# decomposition from many components to only 2 (to be able to plot it) \n",
    "pca = PCA(n_components=2)\n",
    "counts_transfomred = pca.fit_transform(X_scaled)\n",
    "# print the explained variance ratio\n",
    "print(pca.explained_variance_ratio_)"
   ]
  },
  {
   "cell_type": "code",
   "execution_count": 4,
   "metadata": {},
   "outputs": [],
   "source": [
    "# convert the sample names to uniform condition names for plot legend \n",
    "def transform_index_to_number(sample:str)->int:\n",
    "    \"\"\"Transform the index of the counts dataframe to a number\"\"\"\n",
    "    if sample.startswith('N'):\n",
    "        return 'Normoxia'\n",
    "    elif sample.startswith('A'):\n",
    "        return 'Anoxia'\n",
    "    elif sample.startswith('R'):\n",
    "        return 'Reoxygenation'\n",
    "\n",
    "colors = counts.index.map(transform_index_to_number)"
   ]
  },
  {
   "cell_type": "code",
   "execution_count": 5,
   "metadata": {},
   "outputs": [
    {
     "data": {
      "text/plain": [
       "Index(['R12', 'A5', 'A4', 'A6', 'N16', 'N15', 'R9', 'A1', 'N14', 'R8', 'A3',\n",
       "       'A2', 'R13', 'R10', 'R11', 'N18', 'N21', 'N17'],\n",
       "      dtype='object')"
      ]
     },
     "execution_count": 5,
     "metadata": {},
     "output_type": "execute_result"
    }
   ],
   "source": [
    "counts.index"
   ]
  },
  {
   "cell_type": "code",
   "execution_count": 6,
   "metadata": {},
   "outputs": [
    {
     "data": {
      "text/plain": [
       "Index(['Reoxygenation', 'Anoxia', 'Anoxia', 'Anoxia', 'Normoxia', 'Normoxia',\n",
       "       'Reoxygenation', 'Anoxia', 'Normoxia', 'Reoxygenation', 'Anoxia',\n",
       "       'Anoxia', 'Reoxygenation', 'Reoxygenation', 'Reoxygenation', 'Normoxia',\n",
       "       'Normoxia', 'Normoxia'],\n",
       "      dtype='object')"
      ]
     },
     "execution_count": 6,
     "metadata": {},
     "output_type": "execute_result"
    }
   ],
   "source": [
    "colors"
   ]
  },
  {
   "cell_type": "markdown",
   "metadata": {},
   "source": [
    "# 2 PCA plot "
   ]
  },
  {
   "cell_type": "code",
   "execution_count": 7,
   "metadata": {},
   "outputs": [
    {
     "data": {
      "image/png": "[encoded data removed]",
      "text/plain": [
       "<Figure size 275.591x196.85 with 1 Axes>"
      ]
     },
     "metadata": {},
     "output_type": "display_data"
    }
   ],
   "source": [
    "# PLOT \n",
    "sns.set_theme(palette = 'Set2', style = 'whitegrid', context='paper', rc={'axes.labelsize':8, 'xtick.labelsize':8, 'ytick.labelsize':8, 'legend.fontsize':8, 'legend.title_fontsize':8})\n",
    "plt.figure(figsize=((7/2.54), (5/2.54)))\n",
    "g = sns.scatterplot(x=counts_transfomred[:,0], y=counts_transfomred[:,1], hue=colors, hue_order=['Normoxia', 'Anoxia', 'Reoxygenation'], s=30, style=sex.values, markers=['X', 'o'])\n",
    "sns.move_legend(g,  markerscale=0.9, loc='lower right', ncol=3, bbox_to_anchor=(1, 1.05), frameon=True, columnspacing=0.2, scatteryoffsets=[0.6], handletextpad=0.01, borderaxespad=0.1)\n",
    "\n",
    "#g.add_legend(title='', fontsize=8, loc='upper center', borderaxespad=0.1, ncol=2, bbox_to_anchor=(.33, 0.02), frameon=True)\n",
    "plt.xlabel(f'PC1 ({pca.explained_variance_ratio_[0]:.1%})')\n",
    "plt.ylabel(f'PC2 ({pca.explained_variance_ratio_[1]:.1%})')\n",
    "plt.tight_layout()\n",
    "# export \n",
    "plt.savefig('PCA_sample_clustering_lncRNAData.svg')"
   ]
  },
  {
   "cell_type": "code",
   "execution_count": null,
   "metadata": {},
   "outputs": [],
   "source": []
  }
 ],
 "metadata": {
  "kernelspec": {
   "display_name": "lncrna",
   "language": "python",
   "name": "python3"
  },
  "language_info": {
   "codemirror_mode": {
    "name": "ipython",
    "version": 3
   },
   "file_extension": ".py",
   "mimetype": "text/x-python",
   "name": "python",
   "nbconvert_exporter": "python",
   "pygments_lexer": "ipython3",
   "version": "3.11.5"
  }
 },
 "nbformat": 4,
 "nbformat_minor": 2
}
