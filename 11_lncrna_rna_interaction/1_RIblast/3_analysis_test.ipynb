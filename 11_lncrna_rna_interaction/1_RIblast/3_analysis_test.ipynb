{
 "cells": [
  {
   "cell_type": "markdown",
   "metadata": {},
   "source": [
    "## Import dataframe"
   ]
  },
  {
   "cell_type": "code",
   "execution_count": 25,
   "metadata": {},
   "outputs": [],
   "source": [
    "import pandas as pd \n",
    "import numpy as np \n",
    "\n",
    "# create a test file\n",
    "test = 'test.txt'\n",
    "# create random dataframe \n",
    "\n",
    "\n",
    "# create empty list \n",
    "temp = []\n",
    "\n",
    "for element, chunk in enumerate(pd.read_csv(test, chunksize=10, iterator=True, skiprows=2, nrows=50, sep=',')):   \n",
    "    if element == 2:\n",
    "        break\n",
    "    chunk.columns = chunk.columns.str.strip()\n",
    "    temp.append(chunk.loc[chunk.index[chunk['Interaction Energy'].argmin()]].to_frame().T)\n",
    "df = pd.concat(temp)\n"
   ]
  },
  {
   "cell_type": "code",
   "execution_count": 26,
   "metadata": {},
   "outputs": [],
   "source": [
    "df.to_csv('df_output.csv', index=False)"
   ]
  },
  {
   "cell_type": "code",
   "execution_count": 27,
   "metadata": {},
   "outputs": [],
   "source": [
    "filter = df.loc[df.groupby(['Query name', 'Target name'])['Interaction Energy'].idxmin()]"
   ]
  },
  {
   "cell_type": "code",
   "execution_count": 28,
   "metadata": {},
   "outputs": [],
   "source": [
    "quan= filter['Interaction Energy'].quantile(.95)\n",
    "filter = filter.loc[filter['Interaction Energy'] >= quan]"
   ]
  },
  {
   "cell_type": "code",
   "execution_count": 29,
   "metadata": {},
   "outputs": [],
   "source": [
    "filter.to_csv('lncRNA_interaction_filtered.csv', index=False)"
   ]
  }
 ],
 "metadata": {
  "kernelspec": {
   "display_name": "Python 3 (ipykernel)",
   "language": "python",
   "name": "python3"
  },
  "language_info": {
   "codemirror_mode": {
    "name": "ipython",
    "version": 3
   },
   "file_extension": ".py",
   "mimetype": "text/x-python",
   "name": "python",
   "nbconvert_exporter": "python",
   "pygments_lexer": "ipython3",
   "version": "3.11.0"
  }
 },
 "nbformat": 4,
 "nbformat_minor": 2
}
