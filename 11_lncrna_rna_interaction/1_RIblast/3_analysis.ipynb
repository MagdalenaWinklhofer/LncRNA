{
 "cells": [
  {
   "cell_type": "markdown",
   "metadata": {},
   "source": [
    "# Start interactive job \n",
    "\n",
    "salloc --ntasks=1 --mem-per-cpu=8G --cpus-per-task=2 --time=00:30:00 --qos=devel --account=nn8014k\n",
    "\n",
    "ml load Anaconda3/2022.10\n",
    "\n",
    "conda activate /cluster/projects/nn8014k/magdalena/conda_environments/JupyterNotebook\n",
    "\n",
    "jupyter notebook --port=8889\n",
    "\n",
    "copy URL \n",
    "\n",
    "start code \n",
    "\n",
    "\n",
    "\n",
    "jupyter nbconvert --allow-errors --to notebook --execute /cluster/projects/nn8014k/magdalena/script_LncRNA/11_lncrna_rna_interaction/1_RIblast/lncRNA_interactions.txt"
   ]
  },
  {
   "cell_type": "markdown",
   "metadata": {},
   "source": [
    "# After prediction  \n",
    "\n",
    "After the prediction of interactiond (step 2) has completed the output has to be filtered. "
   ]
  },
  {
   "cell_type": "markdown",
   "metadata": {},
   "source": [
    "## Import dataframe"
   ]
  },
  {
   "cell_type": "code",
   "execution_count": null,
   "metadata": {},
   "outputs": [],
   "source": [
    "import dask.dataframe as dd\n",
    "import re\n",
    "\n",
    "df = dd.read_csv('lncRNA_interactions.txt', skiprows=2, header=0)\n",
    "\n",
    "# remove all white space around the column names of the dask dataframe\n",
    "df.columns = df.columns.str.strip()"
   ]
  },
  {
   "cell_type": "code",
   "execution_count": null,
   "metadata": {},
   "outputs": [],
   "source": [
    "def extract_and_calculate(row):\n",
    "    numbers = list(map(int, re.findall(r'\\d+', row)))\n",
    "    diff1 = abs(numbers[1] - numbers[0])\n",
    "    diff2 = abs(numbers[3] - numbers[2])\n",
    "    return max(diff1, diff2)\n",
    "\n",
    "df['BasePair'] = df['BasePair'].astype(str)\n",
    "df[['num1', 'num2', 'num3', 'num4']] = df['BasePair'].str.extract(r'(\\d+)-(\\d+):(\\d+)-(\\d+)').astype(int)\n",
    "\n",
    "df['difference_1'] = df['num2'] - df['num1']\n",
    "df['difference_2'] = df['num4'] - df['num3']\n",
    "df['counts'] = df[['difference_1', 'difference_2']].abs().max(axis=1)\n",
    "\n",
    "result_df = df.compute()"
   ]
  },
  {
   "cell_type": "code",
   "execution_count": null,
   "metadata": {},
   "outputs": [],
   "source": [
    "filtered = df.sort_values(by='Interaction Energy', ascending=False)\n",
    "filtered = filtered.sort_values(by='counts', ascending=True)\n",
    "filtered = filtered.drop_duplicates(subset='Query name', keep='first')\n",
    "\n",
    "result_df = filtered.compute()"
   ]
  },
  {
   "cell_type": "code",
   "execution_count": null,
   "metadata": {},
   "outputs": [],
   "source": [
    "\n",
    "# Specify the output file path and name\n",
    "output_file = 'filtered.csv'\n",
    "\n",
    "# Export the result_df Dask dataframe to a new CSV file\n",
    "result_df.to_csv(output_file, index=False)"
   ]
  }
 ],
 "metadata": {
  "kernelspec": {
   "display_name": "Python 3 (ipykernel)",
   "language": "python",
   "name": "python3"
  }
 },
 "nbformat": 4,
 "nbformat_minor": 2
}
